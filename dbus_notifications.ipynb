{
  "cells": [
    {
      "cell_type": "code",
      "source": [
        "%load_ext twisted_ipython\n",
        "%autoawait twisted"
      ],
      "outputs": [],
      "execution_count": 1,
      "metadata": {
        "collapsed": false,
        "outputHidden": false,
        "inputHidden": false
      }
    },
    {
      "cell_type": "code",
      "source": [
        "from twisted.internet import reactor\n",
        "import functools\n",
        "\n",
        "import attr\n",
        "from txdbus import client\n",
        "\n",
        "from pyxsession.dbus.marshmallow.schema import from_attrs, DBUS_SCHEMA\n",
        "from pyxsession.dbus.marshmallow.fields import (\n",
        "    DBusField, Int32, UInt32, Str, List, Tuple\n",
        ")\n",
        "from pyxsession.dbus.signature import signature\n",
        "\n",
        "      \n",
        "@attr.s\n",
        "class Notification:\n",
        "    appname = attr.ib(default='', metadata={DBUS_SCHEMA: Str()})\n",
        "    replaces = attr.ib(default=0, metadata={DBUS_SCHEMA: UInt32()})\n",
        "    icon = attr.ib(default='', metadata={DBUS_SCHEMA: Str()})\n",
        "    summary = attr.ib(default='', metadata={DBUS_SCHEMA: Str()})\n",
        "    message = attr.ib(default='', metadata={DBUS_SCHEMA: Str()})\n",
        "    actions = attr.ib(default=[], metadata={DBUS_SCHEMA: DBusField('as')})\n",
        "    hints = attr.ib(default={}, metadata={DBUS_SCHEMA: DBusField('a{sv}')})\n",
        "    timeout = attr.ib(default=1000, metadata={DBUS_SCHEMA: Int32()})\n",
        "\n",
        "NotificationSchema = from_attrs(Notification)\n",
        "                                          \n",
        "schema = NotificationSchema()"
      ],
      "outputs": [],
      "execution_count": 6,
      "metadata": {
        "collapsed": false,
        "outputHidden": false,
        "inputHidden": false
      }
    },
    {
      "cell_type": "code",
      "source": [
        "notification = Notification(\n",
        "    appname='jupyter',\n",
        "    summary='an important message',\n",
        "    message='my dog',\n",
        "    timeout=5000,\n",
        "    hints={'key': 'bro'}\n",
        ")"
      ],
      "outputs": [],
      "execution_count": 7,
      "metadata": {
        "collapsed": false,
        "outputHidden": false,
        "inputHidden": false
      }
    },
    {
      "cell_type": "code",
      "source": [
        "dump = schema.dump(notification)\n",
        "\n",
        "dump"
      ],
      "outputs": [
        {
          "output_type": "execute_result",
          "execution_count": 8,
          "data": {
            "text/plain": [
              "['jupyter', 0, '', 'an important message', 'my dog', [], {'key': 'bro'}, 5000]"
            ]
          },
          "metadata": {}
        }
      ],
      "execution_count": 8,
      "metadata": {
        "collapsed": false,
        "outputHidden": false,
        "inputHidden": false
      }
    },
    {
      "cell_type": "code",
      "source": [
        "load = schema.load(dump)\n",
        "\n",
        "load"
      ],
      "outputs": [
        {
          "output_type": "execute_result",
          "execution_count": 9,
          "data": {
            "text/plain": [
              "Notification(appname='jupyter', replaces=0, icon='', summary='an important message', message='my dog', actions=[], hints={'key': 'bro'}, timeout=5000)"
            ]
          },
          "metadata": {}
        }
      ],
      "execution_count": 9,
      "metadata": {
        "collapsed": false,
        "outputHidden": false,
        "inputHidden": false
      }
    },
    {
      "cell_type": "code",
      "source": [
        "signature(schema)"
      ],
      "outputs": [
        {
          "output_type": "execute_result",
          "execution_count": 10,
          "data": {
            "text/plain": [
              "'susssasa{sv}i'"
            ]
          },
          "metadata": {}
        }
      ],
      "execution_count": 10,
      "metadata": {
        "collapsed": false,
        "outputHidden": false,
        "inputHidden": false
      }
    },
    {
      "cell_type": "code",
      "source": [
        "conn = await client.connect(reactor, 'session')\n",
        "\n",
        "notifier = await conn.getRemoteObject('org.freedesktop.Notifications', '/org/freedesktop/Notifications')"
      ],
      "outputs": [],
      "execution_count": null,
      "metadata": {
        "collapsed": false,
        "outputHidden": false,
        "inputHidden": false
      }
    },
    {
      "cell_type": "code",
      "source": [
        "from txdbus.interface import DBusInterface, Method\n",
        "\n",
        "iface = DBusInterface(\n",
        "    'org.freedesktop.Notifications',\n",
        "    Method('Notify', arguments=signature(schema), returns='u')\n",
        ")\n",
        "\n",
        "unreflected = await conn.getRemoteObject(\n",
        "    'org.freedesktop.Notifications',\n",
        "    '/org/freedesktop/Notifications',\n",
        "    iface\n",
        ")\n",
        "\n",
        "await unreflected.callRemote('Notify', *schema.dump(notification))"
      ],
      "outputs": [],
      "execution_count": null,
      "metadata": {
        "collapsed": false,
        "outputHidden": false,
        "inputHidden": false
      }
    },
    {
      "cell_type": "code",
      "source": [],
      "outputs": [],
      "execution_count": null,
      "metadata": {
        "collapsed": false,
        "outputHidden": false,
        "inputHidden": false
      }
    },
    {
      "cell_type": "code",
      "source": [],
      "outputs": [],
      "execution_count": null,
      "metadata": {
        "collapsed": false,
        "outputHidden": false,
        "inputHidden": false
      }
    }
  ],
  "metadata": {
    "kernel_info": {
      "name": "pyxsession"
    },
    "language_info": {
      "name": "python",
      "version": "3.7.2",
      "mimetype": "text/x-python",
      "codemirror_mode": {
        "name": "ipython",
        "version": 3
      },
      "pygments_lexer": "ipython3",
      "nbconvert_exporter": "python",
      "file_extension": ".py"
    },
    "kernelspec": {
      "name": "pyxsession",
      "language": "python",
      "display_name": "pyxsession"
    },
    "nteract": {
      "version": "0.14.3"
    }
  },
  "nbformat": 4,
  "nbformat_minor": 0
}