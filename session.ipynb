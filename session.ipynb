{
 "cells": [
  {
   "cell_type": "code",
   "execution_count": 1,
   "metadata": {},
   "outputs": [],
   "source": [
    "%load_ext twisted_ipython\n",
    "%autoawait twisted"
   ]
  },
  {
   "cell_type": "code",
   "execution_count": 2,
   "metadata": {},
   "outputs": [],
   "source": [
    "from twisted.internet import reactor\n",
    "from txdbus import client\n",
    "\n",
    "from korbenware.config import load_config\n",
    "from korbenware.dbus import Service\n",
    "from korbenware.logger import CliObserver, publisher\n",
    "from korbenware.session import Session, SessionState"
   ]
  },
  {
   "cell_type": "code",
   "execution_count": 3,
   "metadata": {},
   "outputs": [
    {
     "name": "stderr",
     "output_type": "stream",
     "text": [
      "warning ⚠️ - korbenware.xdg.mime.MimeRegistry - INI file parse error while loading mimeinfo database /home/josh/.local/share/applications/mimeinfo.cache - skipping!\n"
     ]
    },
    {
     "name": "stdout",
     "output_type": "stream",
     "text": [
      "warning ⚠️ - korbenware.xdg.mime.MimeRegistry - Traceback (most recent call last):\n",
      "warning ⚠️ - korbenware.xdg.mime.MimeRegistry -   File \"<ipython-input-3-a649c63cd995>\", line 5, in <module>\n",
      "warning ⚠️ - korbenware.xdg.mime.MimeRegistry -     session = Session(reactor, config)\n",
      "warning ⚠️ - korbenware.xdg.mime.MimeRegistry -   File \"/home/josh/software/jfhbrook/korbenware/korbenware/session.py\", line 60, in __init__\n",
      "warning ⚠️ - korbenware.xdg.mime.MimeRegistry -     self.mime = MimeRegistry(config, self.applications)\n",
      "warning ⚠️ - korbenware.xdg.mime.MimeRegistry -   File \"/home/josh/software/jfhbrook/korbenware/korbenware/xdg/mime.py\", line 166, in __init__\n",
      "warning ⚠️ - korbenware.xdg.mime.MimeRegistry -     log_failure=Failure(database.parse_exc)\n",
      "warning ⚠️ - korbenware.xdg.mime.MimeRegistry -   File \"/home/josh/software/jfhbrook/korbenware/korbenware/xdg/mime.py\", line 133, in from_file\n",
      "warning ⚠️ - korbenware.xdg.mime.MimeRegistry -     parse_exc=parse_exc\n",
      "warning ⚠️ - korbenware.xdg.mime.MimeRegistry - --- <exception caught here> ---\n",
      "warning ⚠️ - korbenware.xdg.mime.MimeRegistry -   File \"/home/josh/software/jfhbrook/korbenware/korbenware/xdg/mime.py\", line 120, in from_file\n",
      "warning ⚠️ - korbenware.xdg.mime.MimeRegistry -     ini_file.parse(filename)\n",
      "warning ⚠️ - korbenware.xdg.mime.MimeRegistry -   File \"/home/josh/anaconda3/envs/korbenware/lib/python3.7/site-packages/xdg/IniFile.py\", line 45, in parse\n",
      "warning ⚠️ - korbenware.xdg.mime.MimeRegistry -     raise ParsingError(\"File not found\", filename)\n",
      "warning ⚠️ - korbenware.xdg.mime.MimeRegistry - xdg.Exceptions.ParsingError: ParsingError in file '/home/josh/.local/share/applications/mimeinfo.cache', File not found\n",
      "warning ⚠️ - korbenware.xdg.mime.MimeRegistry - \n"
     ]
    },
    {
     "data": {
      "text/plain": [
       "<korbenware.dbus.service.Object at 0x7f4bb1cce6d0>"
      ]
     },
     "execution_count": 3,
     "metadata": {},
     "output_type": "execute_result"
    }
   ],
   "source": [
    "config = load_config()\n",
    "\n",
    "publisher.addObserver(CliObserver(config, verbosity=1))\n",
    "\n",
    "session = Session(reactor, config)\n",
    "\n",
    "service = Service('org.jfhbrook.testing123')\n",
    "\n",
    "session.attach(service)"
   ]
  },
  {
   "cell_type": "code",
   "execution_count": 4,
   "metadata": {},
   "outputs": [],
   "source": [
    "conn = await client.connect(reactor)"
   ]
  },
  {
   "cell_type": "code",
   "execution_count": 5,
   "metadata": {},
   "outputs": [
    {
     "data": {
      "text/plain": [
       "Server(connection=<txdbus.client.DBusClientConnection object at 0x7f4bb1c74ed0>, service=<korbenware.dbus.service.Service object at 0x7f4bb1debed0>, bus_names=[1], dbus_obj_cls=<class 'korbenware.dbus.server.Session'>, dbus_obj=<korbenware.dbus.server.Session object at 0x7f4bb1be9890>)"
      ]
     },
     "execution_count": 5,
     "metadata": {},
     "output_type": "execute_result"
    }
   ],
   "source": [
    "server = await service.server(conn)\n",
    "\n",
    "server"
   ]
  },
  {
   "cell_type": "code",
   "execution_count": 6,
   "metadata": {},
   "outputs": [
    {
     "data": {
      "text/plain": [
       "Client(service=<korbenware.dbus.service.Service object at 0x7f4bb1debed0>, remote_objs={'/Session': <txdbus.objects.RemoteDBusObject object at 0x7f4bb1c06ad0>})"
      ]
     },
     "execution_count": 6,
     "metadata": {},
     "output_type": "execute_result"
    }
   ],
   "source": [
    "client = await service.client(conn)\n",
    "\n",
    "client"
   ]
  },
  {
   "cell_type": "code",
   "execution_count": 7,
   "metadata": {},
   "outputs": [
    {
     "data": {
      "text/markdown": [
       "# SessionState\n",
       "\n",
       "* **critical_executor:**\n",
       "\n",
       "\n",
       "## BaseConfig\n",
       "\n",
       "* **urls:**\n",
       "    * **http:** firefox.desktop\n",
       "    * **https:** firefox.desktop\n",
       "\n",
       "\n",
       "### AutostartConfig\n",
       "\n",
       "* **directories:**\n",
       "    * /home/josh/.config/autostart\n",
       "    * /etc/xdg/autostart\n",
       "* **environment_name:** korbenware\n",
       "* **skip_unparsed:** False\n",
       "* **skip_invalid:** False\n",
       "\n",
       "\n",
       "\n",
       "\n",
       "### MetaConfig\n",
       "\n",
       "* **config_filename:** /home/josh/.config/korbenware/korbenware.toml\n",
       "\n",
       "\n",
       "\n",
       "\n",
       "### MenuConfig\n",
       "\n",
       "* **filename:** /etc/xdg/menus/arch-applications.menu\n",
       "\n",
       "\n",
       "\n",
       "\n",
       "### MimeConfig\n",
       "\n",
       "* **cache:** /usr/share/applications/mimeinfo.cache\n",
       "* **environment:** korbenware\n",
       "\n",
       "\n",
       "\n",
       "\n",
       "### ApplicationsConfig\n",
       "\n",
       "* **directories:**\n",
       "    * /home/josh/.local/share/applications\n",
       "    * /usr/share/applications\n",
       "* **skip_unparsed:** False\n",
       "* **skip_invalid:** False\n",
       "\n",
       "\n",
       "\n",
       "\n",
       "### LoggerConfig\n",
       "\n",
       "* **level:** warn\n",
       "\n",
       "\n",
       "\n",
       "\n"
      ],
      "text/plain": [
       "SessionState(\n",
       "    config={'autostart': {'directories': ['/home/josh/.config/autostart',\n",
       "       '/etc/xdg/autostart'],\n",
       "      'environment_name': 'korbenware',\n",
       "      'skip_unparsed': False,\n",
       "      'skip_invalid': False},\n",
       "     'meta': {'config_filename': '/home/josh/.config/korbenware/korbenware.toml'},\n",
       "     'menu': {'filename': '/etc/xdg/menus/arch-applications.menu'},\n",
       "     'mime': {'cache': '/usr/share/applications/mimeinfo.cache',\n",
       "      'environment': 'korbenware'},\n",
       "     'applications': {'directories': ['/home/josh/.local/share/applications',\n",
       "       '/usr/share/applications'],\n",
       "      'skip_unparsed': False,\n",
       "      'skip_invalid': False},\n",
       "     'logger': {'level': 'warn'},\n",
       "     'urls': {'http': 'firefox.desktop', 'https': 'firefox.desktop'}},\n",
       "    critical_executor=[])"
      ]
     },
     "execution_count": 7,
     "metadata": {},
     "output_type": "execute_result"
    }
   ],
   "source": [
    "await client.Session.get_state()"
   ]
  },
  {
   "cell_type": "code",
   "execution_count": 8,
   "metadata": {},
   "outputs": [
    {
     "data": {
      "text/plain": [
       "<txdbus.client.DBusClientConnection at 0x7f4bb1c74ed0>"
      ]
     },
     "execution_count": 8,
     "metadata": {},
     "output_type": "execute_result"
    }
   ],
   "source": [
    "conn"
   ]
  },
  {
   "cell_type": "code",
   "execution_count": null,
   "metadata": {},
   "outputs": [],
   "source": []
  }
 ],
 "metadata": {
  "kernelspec": {
   "display_name": "korbenware",
   "language": "python",
   "name": "korbenware"
  },
  "language_info": {
   "codemirror_mode": {
    "name": "ipython",
    "version": 3
   },
   "file_extension": ".py",
   "mimetype": "text/x-python",
   "name": "python",
   "nbconvert_exporter": "python",
   "pygments_lexer": "ipython3",
   "version": "3.7.6"
  }
 },
 "nbformat": 4,
 "nbformat_minor": 4
}
