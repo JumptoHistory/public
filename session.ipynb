{
 "cells": [
  {
   "cell_type": "code",
   "execution_count": 1,
   "metadata": {},
   "outputs": [],
   "source": [
    "%load_ext twisted_ipython\n",
    "%autoawait twisted"
   ]
  },
  {
   "cell_type": "code",
   "execution_count": 2,
   "metadata": {},
   "outputs": [],
   "source": [
    "from twisted.internet import reactor\n",
    "from txdbus import client\n",
    "\n",
    "from korbenware.config import load_config\n",
    "from korbenware.dbus import Service\n",
    "from korbenware.session import Session, SessionState"
   ]
  },
  {
   "cell_type": "code",
   "execution_count": 3,
   "metadata": {},
   "outputs": [],
   "source": [
    "config = load_config()\n",
    "\n",
    "session = Session(reactor, config)\n",
    "\n",
    "service = Service('org.jfhbrook.korbenware')\n",
    "\n",
    "obj = session.dbus_object(service)"
   ]
  },
  {
   "cell_type": "code",
   "execution_count": 4,
   "metadata": {},
   "outputs": [],
   "source": [
    "conn = await client.connect(reactor)"
   ]
  },
  {
   "cell_type": "code",
   "execution_count": 5,
   "metadata": {},
   "outputs": [
    {
     "data": {
      "text/plain": [
       "Server(connection=<txdbus.client.DBusClientConnection object at 0x7f0afc4a9050>, service=<korbenware.dbus.service.Service object at 0x7f0afc5bfe90>, bus_names=[1], dbus_obj_cls=<class 'korbenware.dbus.server.Session'>, dbus_obj=<korbenware.dbus.server.Session object at 0x7f0afc417f50>)"
      ]
     },
     "execution_count": 5,
     "metadata": {},
     "output_type": "execute_result"
    }
   ],
   "source": [
    "server = await service.server(conn)\n",
    "\n",
    "server"
   ]
  },
  {
   "cell_type": "code",
   "execution_count": 6,
   "metadata": {},
   "outputs": [
    {
     "data": {
      "text/plain": [
       "Client(service=<korbenware.dbus.service.Service object at 0x7f0afc5bfe90>, remote_objs={'/Session': <txdbus.objects.RemoteDBusObject object at 0x7f0afc3c20d0>})"
      ]
     },
     "execution_count": 6,
     "metadata": {},
     "output_type": "execute_result"
    }
   ],
   "source": [
    "client = await service.client(conn)\n",
    "\n",
    "client"
   ]
  },
  {
   "cell_type": "code",
   "execution_count": 7,
   "metadata": {},
   "outputs": [
    {
     "data": {
      "text/markdown": [
       "# SessionState\n",
       "\n",
       "\n",
       "\n",
       "## BaseConfig\n",
       "\n",
       "* **urls:**\n",
       "    * **http:** firefox.desktop\n",
       "    * **https:** firefox.desktop\n",
       "\n",
       "\n",
       "### AutostartConfig\n",
       "\n",
       "* **directories:**\n",
       "    * /home/josh/.config/autostart\n",
       "    * /etc/xdg/autostart\n",
       "* **environment_name:** korbenware\n",
       "* **skip_unparsed:** False\n",
       "* **skip_invalid:** False\n",
       "\n",
       "\n",
       "\n",
       "\n",
       "### MetaConfig\n",
       "\n",
       "* **config_filename:** /home/josh/.config/korbenware/korbenware.toml\n",
       "\n",
       "\n",
       "\n",
       "\n",
       "### MenuConfig\n",
       "\n",
       "* **filename:** /etc/xdg/menus/arch-applications.menu\n",
       "\n",
       "\n",
       "\n",
       "\n",
       "### MimeConfig\n",
       "\n",
       "* **cache:** /usr/share/applications/mimeinfo.cache\n",
       "* **environment:** korbenware\n",
       "\n",
       "\n",
       "\n",
       "\n",
       "### ApplicationsConfig\n",
       "\n",
       "* **directories:**\n",
       "    * /home/josh/.local/share/applications\n",
       "    * /usr/share/applications\n",
       "* **skip_unparsed:** False\n",
       "* **skip_invalid:** False\n",
       "\n",
       "\n",
       "\n",
       "\n",
       "### LoggerConfig\n",
       "\n",
       "* **level:** warn\n",
       "\n",
       "\n",
       "\n",
       "\n"
      ],
      "text/plain": [
       "SessionState(\n",
       "    config={'autostart': {'directories': ['/home/josh/.config/autostart',\n",
       "       '/etc/xdg/autostart'],\n",
       "      'environment_name': 'korbenware',\n",
       "      'skip_unparsed': False,\n",
       "      'skip_invalid': False},\n",
       "     'meta': {'config_filename': '/home/josh/.config/korbenware/korbenware.toml'},\n",
       "     'menu': {'filename': '/etc/xdg/menus/arch-applications.menu'},\n",
       "     'mime': {'cache': '/usr/share/applications/mimeinfo.cache',\n",
       "      'environment': 'korbenware'},\n",
       "     'applications': {'directories': ['/home/josh/.local/share/applications',\n",
       "       '/usr/share/applications'],\n",
       "      'skip_unparsed': False,\n",
       "      'skip_invalid': False},\n",
       "     'logger': {'level': 'warn'},\n",
       "     'urls': {'http': 'firefox.desktop', 'https': 'firefox.desktop'}})"
      ]
     },
     "execution_count": 7,
     "metadata": {},
     "output_type": "execute_result"
    }
   ],
   "source": [
    "await client.Session.get_state()"
   ]
  },
  {
   "cell_type": "code",
   "execution_count": null,
   "metadata": {},
   "outputs": [],
   "source": []
  }
 ],
 "metadata": {
  "kernelspec": {
   "display_name": "korbenware",
   "language": "python",
   "name": "korbenware"
  },
  "language_info": {
   "codemirror_mode": {
    "name": "ipython",
    "version": 3
   },
   "file_extension": ".py",
   "mimetype": "text/x-python",
   "name": "python",
   "nbconvert_exporter": "python",
   "pygments_lexer": "ipython3",
   "version": "3.7.6"
  }
 },
 "nbformat": 4,
 "nbformat_minor": 4
}
