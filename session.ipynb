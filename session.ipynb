{
 "cells": [
  {
   "cell_type": "code",
   "execution_count": 1,
   "metadata": {},
   "outputs": [],
   "source": [
    "%load_ext twisted_ipython\n",
    "%autoawait twisted"
   ]
  },
  {
   "cell_type": "code",
   "execution_count": 2,
   "metadata": {},
   "outputs": [],
   "source": [
    "from twisted.internet import reactor\n",
    "from txdbus import client\n",
    "\n",
    "from korbenware.config import load_config\n",
    "from korbenware.dbus import Service\n",
    "from korbenware.logger import CliObserver, publisher\n",
    "from korbenware.session import Session, SessionState"
   ]
  },
  {
   "cell_type": "code",
   "execution_count": 3,
   "metadata": {},
   "outputs": [
    {
     "name": "stderr",
     "output_type": "stream",
     "text": [
      "warning ⚠️ - korbenware.xdg.autostart.AutostartRegistry - Entry org.gnome.SettingsDaemon.Color.desktop not eligible for autostart\n",
      "warning ⚠️ - korbenware.xdg.autostart.AutostartRegistry - Entry org.gnome.SettingsDaemon.Datetime.desktop not eligible for autostart\n",
      "warning ⚠️ - korbenware.xdg.autostart.AutostartRegistry - Entry gnome-keyring-secrets.desktop not eligible for autostart\n",
      "warning ⚠️ - korbenware.xdg.autostart.AutostartRegistry - Entry org.gnome.SettingsDaemon.XSettings.desktop not eligible for autostart\n",
      "warning ⚠️ - korbenware.xdg.autostart.AutostartRegistry - Entry at-spi-dbus-bus.desktop not eligible for autostart\n",
      "warning ⚠️ - korbenware.xdg.autostart.AutostartRegistry - Entry org.gnome.SettingsDaemon.Wwan.desktop not eligible for autostart\n",
      "warning ⚠️ - korbenware.xdg.autostart.AutostartRegistry - Entry org.gnome.SettingsDaemon.ScreensaverProxy.desktop not eligible for autostart\n",
      "warning ⚠️ - korbenware.xdg.autostart.AutostartRegistry - Entry org.gnome.SettingsDaemon.Sound.desktop not eligible for autostart\n",
      "warning ⚠️ - korbenware.xdg.autostart.AutostartRegistry - Entry org.gnome.SettingsDaemon.Wacom.desktop not eligible for autostart\n",
      "warning ⚠️ - korbenware.xdg.autostart.AutostartRegistry - Entry org.gnome.SettingsDaemon.MediaKeys.desktop not eligible for autostart\n",
      "warning ⚠️ - korbenware.xdg.autostart.AutostartRegistry - Entry org.gnome.SettingsDaemon.A11ySettings.desktop not eligible for autostart\n",
      "warning ⚠️ - korbenware.xdg.autostart.AutostartRegistry - Entry org.gnome.SettingsDaemon.Power.desktop not eligible for autostart\n",
      "warning ⚠️ - korbenware.xdg.autostart.AutostartRegistry - Entry org.gnome.SettingsDaemon.PrintNotifications.desktop not eligible for autostart\n",
      "warning ⚠️ - korbenware.xdg.autostart.AutostartRegistry - Entry org.gnome.SettingsDaemon.UsbProtection.desktop not eligible for autostart\n",
      "warning ⚠️ - korbenware.xdg.autostart.AutostartRegistry - Entry gsettings-data-convert.desktop not eligible for autostart\n",
      "warning ⚠️ - korbenware.xdg.autostart.AutostartRegistry - Entry org.gnome.SettingsDaemon.Smartcard.desktop not eligible for autostart\n",
      "warning ⚠️ - korbenware.xdg.autostart.AutostartRegistry - Entry gnome-keyring-pkcs11.desktop not eligible for autostart\n",
      "warning ⚠️ - korbenware.xdg.autostart.AutostartRegistry - Entry org.gnome.SettingsDaemon.Keyboard.desktop not eligible for autostart\n",
      "warning ⚠️ - korbenware.xdg.autostart.AutostartRegistry - Entry org.gnome.SettingsDaemon.Housekeeping.desktop not eligible for autostart\n",
      "warning ⚠️ - korbenware.xdg.autostart.AutostartRegistry - Entry org.gnome.SettingsDaemon.Sharing.desktop not eligible for autostart\n",
      "warning ⚠️ - korbenware.xdg.autostart.AutostartRegistry - Entry gnome-keyring-ssh.desktop not eligible for autostart\n",
      "warning ⚠️ - korbenware.xdg.autostart.AutostartRegistry - Entry org.gnome.SettingsDaemon.Rfkill.desktop not eligible for autostart\n",
      "warning ⚠️ - korbenware.xdg.mime.MimeRegistry - INI file parse error while loading mimeinfo database /home/josh/.local/share/applications/mimeinfo.cache - skipping!\n"
     ]
    },
    {
     "name": "stdout",
     "output_type": "stream",
     "text": [
      "warning ⚠️ - korbenware.xdg.mime.MimeRegistry - Traceback (most recent call last):\n",
      "warning ⚠️ - korbenware.xdg.mime.MimeRegistry -   File \"<ipython-input-3-a649c63cd995>\", line 5, in <module>\n",
      "warning ⚠️ - korbenware.xdg.mime.MimeRegistry -     session = Session(reactor, config)\n",
      "warning ⚠️ - korbenware.xdg.mime.MimeRegistry -   File \"/home/josh/software/jfhbrook/korbenware/korbenware/session.py\", line 87, in __init__\n",
      "warning ⚠️ - korbenware.xdg.mime.MimeRegistry -     self.mime = MimeRegistry(config, self.applications)\n",
      "warning ⚠️ - korbenware.xdg.mime.MimeRegistry -   File \"/home/josh/software/jfhbrook/korbenware/korbenware/xdg/mime.py\", line 166, in __init__\n",
      "warning ⚠️ - korbenware.xdg.mime.MimeRegistry -     log_failure=Failure(database.parse_exc)\n",
      "warning ⚠️ - korbenware.xdg.mime.MimeRegistry -   File \"/home/josh/software/jfhbrook/korbenware/korbenware/xdg/mime.py\", line 133, in from_file\n",
      "warning ⚠️ - korbenware.xdg.mime.MimeRegistry -     parse_exc=parse_exc\n",
      "warning ⚠️ - korbenware.xdg.mime.MimeRegistry - --- <exception caught here> ---\n",
      "warning ⚠️ - korbenware.xdg.mime.MimeRegistry -   File \"/home/josh/software/jfhbrook/korbenware/korbenware/xdg/mime.py\", line 120, in from_file\n",
      "warning ⚠️ - korbenware.xdg.mime.MimeRegistry -     ini_file.parse(filename)\n",
      "warning ⚠️ - korbenware.xdg.mime.MimeRegistry -   File \"/home/josh/anaconda3/envs/korbenware/lib/python3.7/site-packages/xdg/IniFile.py\", line 45, in parse\n",
      "warning ⚠️ - korbenware.xdg.mime.MimeRegistry -     raise ParsingError(\"File not found\", filename)\n",
      "warning ⚠️ - korbenware.xdg.mime.MimeRegistry - xdg.Exceptions.ParsingError: ParsingError in file '/home/josh/.local/share/applications/mimeinfo.cache', File not found\n",
      "warning ⚠️ - korbenware.xdg.mime.MimeRegistry - \n"
     ]
    },
    {
     "data": {
      "text/plain": [
       "<korbenware.dbus.service.Object at 0x7fa38016cb90>"
      ]
     },
     "execution_count": 3,
     "metadata": {},
     "output_type": "execute_result"
    }
   ],
   "source": [
    "config = load_config()\n",
    "\n",
    "publisher.addObserver(CliObserver(config, verbosity=1))\n",
    "\n",
    "session = Session(reactor, config)\n",
    "\n",
    "service = Service('org.jfhbrook.testing123')\n",
    "\n",
    "session.attach(service)"
   ]
  },
  {
   "cell_type": "code",
   "execution_count": null,
   "metadata": {},
   "outputs": [],
   "source": [
    "conn = await client.connect(reactor)"
   ]
  },
  {
   "cell_type": "code",
   "execution_count": null,
   "metadata": {},
   "outputs": [],
   "source": [
    "server = await service.server(conn)\n",
    "\n",
    "server"
   ]
  },
  {
   "cell_type": "code",
   "execution_count": null,
   "metadata": {},
   "outputs": [],
   "source": [
    "client = await service.client(conn)\n",
    "\n",
    "client"
   ]
  },
  {
   "cell_type": "code",
   "execution_count": null,
   "metadata": {},
   "outputs": [],
   "source": [
    "state = await client.Session.get_state()\n",
    "\n",
    "state"
   ]
  },
  {
   "cell_type": "code",
   "execution_count": null,
   "metadata": {},
   "outputs": [],
   "source": [
    "conn"
   ]
  },
  {
   "cell_type": "code",
   "execution_count": null,
   "metadata": {},
   "outputs": [],
   "source": [
    "state.__repr__()"
   ]
  },
  {
   "cell_type": "code",
   "execution_count": null,
   "metadata": {},
   "outputs": [],
   "source": [
    "session.start()"
   ]
  },
  {
   "cell_type": "code",
   "execution_count": null,
   "metadata": {},
   "outputs": [],
   "source": [
    "session.stop()"
   ]
  },
  {
   "cell_type": "code",
   "execution_count": null,
   "metadata": {},
   "outputs": [],
   "source": [
    "session.primary_executor.run_argv('irccloud', ['irccloud'], monitor=True, restart=True)"
   ]
  },
  {
   "cell_type": "code",
   "execution_count": null,
   "metadata": {},
   "outputs": [],
   "source": [
    "session.primary_executor.monitor"
   ]
  },
  {
   "cell_type": "code",
   "execution_count": null,
   "metadata": {},
   "outputs": [],
   "source": [
    "session.primary_executor.monitor.removeProcess('irccloud')"
   ]
  },
  {
   "cell_type": "code",
   "execution_count": null,
   "metadata": {},
   "outputs": [],
   "source": [
    "session.applications"
   ]
  },
  {
   "cell_type": "code",
   "execution_count": null,
   "metadata": {},
   "outputs": [],
   "source": [
    "from korbenware.xdg.autostart import AutostartRegistry"
   ]
  },
  {
   "cell_type": "code",
   "execution_count": null,
   "metadata": {},
   "outputs": [],
   "source": [
    "autostart_registry = AutostartRegistry(config)"
   ]
  },
  {
   "cell_type": "code",
   "execution_count": null,
   "metadata": {},
   "outputs": [],
   "source": [
    "autostart_registry"
   ]
  },
  {
   "cell_type": "code",
   "execution_count": null,
   "metadata": {},
   "outputs": [],
   "source": []
  }
 ],
 "metadata": {
  "kernelspec": {
   "display_name": "korbenware",
   "language": "python",
   "name": "korbenware"
  },
  "language_info": {
   "codemirror_mode": {
    "name": "ipython",
    "version": 3
   },
   "file_extension": ".py",
   "mimetype": "text/x-python",
   "name": "python",
   "nbconvert_exporter": "python",
   "pygments_lexer": "ipython3",
   "version": "3.7.6"
  }
 },
 "nbformat": 4,
 "nbformat_minor": 4
}
