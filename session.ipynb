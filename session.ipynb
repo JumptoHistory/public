{
 "cells": [
  {
   "cell_type": "code",
   "execution_count": 1,
   "metadata": {},
   "outputs": [],
   "source": [
    "%load_ext twisted_ipython\n",
    "%autoawait twisted"
   ]
  },
  {
   "cell_type": "code",
   "execution_count": 2,
   "metadata": {},
   "outputs": [],
   "source": [
    "from twisted.internet import reactor\n",
    "from txdbus import client\n",
    "\n",
    "from korbenware.config import load_config\n",
    "from korbenware.dbus import Service\n",
    "from korbenware.logger import CliObserver, publisher\n",
    "from korbenware.session import Session, SessionState\n",
    "from korbenware.twisted.util import wait_for_event"
   ]
  },
  {
   "cell_type": "code",
   "execution_count": 3,
   "metadata": {},
   "outputs": [
    {
     "name": "stderr",
     "output_type": "stream",
     "text": [
      "warning ⚠️ - korbenware.xdg.applications.ApplicationsRegistry - Exec key parse error while loading org.kde.kded5.desktop!\n"
     ]
    },
    {
     "name": "stdout",
     "output_type": "stream",
     "text": [
      "warning ⚠️ - korbenware.xdg.applications.ApplicationsRegistry - Traceback (most recent call last):\n",
      "warning ⚠️ - korbenware.xdg.applications.ApplicationsRegistry -   File \"/home/josh/software/jfhbrook/korbenware/korbenware/xdg/applications.py\", line 129, in _load_application_dir\n",
      "warning ⚠️ - korbenware.xdg.applications.ApplicationsRegistry -     yield cls.from_path(fullpath)\n",
      "warning ⚠️ - korbenware.xdg.applications.ApplicationsRegistry -   File \"/home/josh/software/jfhbrook/korbenware/korbenware/xdg/applications.py\", line 39, in from_path\n",
      "warning ⚠️ - korbenware.xdg.applications.ApplicationsRegistry -     return cls(fullpath, filename, executable)\n",
      "warning ⚠️ - korbenware.xdg.applications.ApplicationsRegistry -   File \"/home/josh/software/jfhbrook/korbenware/korbenware/xdg/executable.py\", line 41, in from_path\n",
      "warning ⚠️ - korbenware.xdg.applications.ApplicationsRegistry -     return cls._construct(fullpath, filename, entry, parsed, parse_exc)\n",
      "warning ⚠️ - korbenware.xdg.applications.ApplicationsRegistry -   File \"/home/josh/software/jfhbrook/korbenware/korbenware/xdg/executable.py\", line 88, in _construct\n",
      "warning ⚠️ - korbenware.xdg.applications.ApplicationsRegistry -     exec_key_parse_exc,\n",
      "warning ⚠️ - korbenware.xdg.applications.ApplicationsRegistry - --- <exception caught here> ---\n",
      "warning ⚠️ - korbenware.xdg.applications.ApplicationsRegistry -   File \"/home/josh/software/jfhbrook/korbenware/korbenware/xdg/executable.py\", line 71, in _construct\n",
      "warning ⚠️ - korbenware.xdg.applications.ApplicationsRegistry -     exec_key.validate()\n",
      "warning ⚠️ - korbenware.xdg.applications.ApplicationsRegistry -   File \"/home/josh/software/jfhbrook/korbenware/korbenware/xdg/exec_key.py\", line 43, in validate\n",
      "warning ⚠️ - korbenware.xdg.applications.ApplicationsRegistry -     raise exc\n",
      "warning ⚠️ - korbenware.xdg.applications.ApplicationsRegistry -   File \"/home/josh/software/jfhbrook/korbenware/korbenware/xdg/exec_key.py\", line 39, in validate\n",
      "warning ⚠️ - korbenware.xdg.applications.ApplicationsRegistry -     g_shell_parse_argv(self.raw)\n",
      "warning ⚠️ - korbenware.xdg.applications.ApplicationsRegistry -   File \"/home/josh/anaconda3/envs/korbenware/lib/python3.7/site-packages/gshell/__init__.py\", line 333, in g_shell_parse_argv\n",
      "warning ⚠️ - korbenware.xdg.applications.ApplicationsRegistry -     for token in tokenize_command_line(command_line)\n",
      "warning ⚠️ - korbenware.xdg.applications.ApplicationsRegistry -   File \"/home/josh/anaconda3/envs/korbenware/lib/python3.7/site-packages/gshell/__init__.py\", line 308, in tokenize_command_line\n",
      "warning ⚠️ - korbenware.xdg.applications.ApplicationsRegistry -     'Text was empty (or contained only whitespace)'\n",
      "warning ⚠️ - korbenware.xdg.applications.ApplicationsRegistry - gshell.EmptyStringError: Text was empty (or contained only whitespace)\n",
      "warning ⚠️ - korbenware.xdg.applications.ApplicationsRegistry - \n"
     ]
    },
    {
     "name": "stderr",
     "output_type": "stream",
     "text": [
      "warning ⚠️ - korbenware.xdg.applications.ApplicationsRegistry - Loading org.kde.kded5.desktop despite parsing issues!\n",
      "warning ⚠️ - korbenware.xdg.autostart.AutostartRegistry - Entry org.gnome.SettingsDaemon.Color.desktop not eligible for autostart\n",
      "warning ⚠️ - korbenware.xdg.autostart.AutostartRegistry - Entry org.gnome.SettingsDaemon.Datetime.desktop not eligible for autostart\n",
      "warning ⚠️ - korbenware.xdg.autostart.AutostartRegistry - Entry gnome-keyring-secrets.desktop not eligible for autostart\n",
      "warning ⚠️ - korbenware.xdg.autostart.AutostartRegistry - Entry org.gnome.SettingsDaemon.XSettings.desktop not eligible for autostart\n",
      "warning ⚠️ - korbenware.xdg.autostart.AutostartRegistry - Entry at-spi-dbus-bus.desktop not eligible for autostart\n",
      "warning ⚠️ - korbenware.xdg.autostart.AutostartRegistry - Entry org.gnome.SettingsDaemon.Wwan.desktop not eligible for autostart\n",
      "warning ⚠️ - korbenware.xdg.autostart.AutostartRegistry - Entry org.gnome.SettingsDaemon.ScreensaverProxy.desktop not eligible for autostart\n",
      "warning ⚠️ - korbenware.xdg.autostart.AutostartRegistry - Entry org.gnome.SettingsDaemon.Sound.desktop not eligible for autostart\n",
      "warning ⚠️ - korbenware.xdg.autostart.AutostartRegistry - Entry org.gnome.SettingsDaemon.Wacom.desktop not eligible for autostart\n",
      "warning ⚠️ - korbenware.xdg.autostart.AutostartRegistry - Entry org.gnome.SettingsDaemon.DiskUtilityNotify.desktop not eligible for autostart\n",
      "warning ⚠️ - korbenware.xdg.autostart.AutostartRegistry - Entry org.gnome.SettingsDaemon.MediaKeys.desktop not eligible for autostart\n",
      "warning ⚠️ - korbenware.xdg.autostart.AutostartRegistry - Entry org.gnome.SettingsDaemon.A11ySettings.desktop not eligible for autostart\n",
      "warning ⚠️ - korbenware.xdg.autostart.AutostartRegistry - Entry org.gnome.SettingsDaemon.Power.desktop not eligible for autostart\n",
      "warning ⚠️ - korbenware.xdg.autostart.AutostartRegistry - Entry org.gnome.SettingsDaemon.PrintNotifications.desktop not eligible for autostart\n",
      "warning ⚠️ - korbenware.xdg.autostart.AutostartRegistry - Entry org.gnome.SettingsDaemon.UsbProtection.desktop not eligible for autostart\n",
      "warning ⚠️ - korbenware.xdg.autostart.AutostartRegistry - Entry gsettings-data-convert.desktop not eligible for autostart\n",
      "warning ⚠️ - korbenware.xdg.autostart.AutostartRegistry - Entry org.gnome.SettingsDaemon.Smartcard.desktop not eligible for autostart\n",
      "warning ⚠️ - korbenware.xdg.autostart.AutostartRegistry - Entry gnome-keyring-pkcs11.desktop not eligible for autostart\n",
      "warning ⚠️ - korbenware.xdg.autostart.AutostartRegistry - Entry org.gnome.SettingsDaemon.Keyboard.desktop not eligible for autostart\n",
      "warning ⚠️ - korbenware.xdg.autostart.AutostartRegistry - Entry org.gnome.SettingsDaemon.Housekeeping.desktop not eligible for autostart\n",
      "warning ⚠️ - korbenware.xdg.autostart.AutostartRegistry - Entry org.gnome.SettingsDaemon.Sharing.desktop not eligible for autostart\n",
      "warning ⚠️ - korbenware.xdg.autostart.AutostartRegistry - Entry gnome-keyring-ssh.desktop not eligible for autostart\n",
      "warning ⚠️ - korbenware.xdg.autostart.AutostartRegistry - Entry org.gnome.SettingsDaemon.Rfkill.desktop not eligible for autostart\n",
      "warning ⚠️ - korbenware.xdg.mime.MimeRegistry - INI file parse error while loading mimeinfo database /home/josh/.local/share/applications/mimeinfo.cache - skipping!\n"
     ]
    },
    {
     "name": "stdout",
     "output_type": "stream",
     "text": [
      "warning ⚠️ - korbenware.xdg.mime.MimeRegistry - Traceback (most recent call last):\n",
      "warning ⚠️ - korbenware.xdg.mime.MimeRegistry -   File \"<ipython-input-3-7179c3d9dec0>\", line 5, in <module>\n",
      "warning ⚠️ - korbenware.xdg.mime.MimeRegistry -     session = Session(reactor, config)\n",
      "warning ⚠️ - korbenware.xdg.mime.MimeRegistry -   File \"/home/josh/software/jfhbrook/korbenware/korbenware/session.py\", line 123, in __init__\n",
      "warning ⚠️ - korbenware.xdg.mime.MimeRegistry -     self.mime = MimeRegistry(config, self.applications)\n",
      "warning ⚠️ - korbenware.xdg.mime.MimeRegistry -   File \"/home/josh/software/jfhbrook/korbenware/korbenware/xdg/mime.py\", line 156, in __init__\n",
      "warning ⚠️ - korbenware.xdg.mime.MimeRegistry -     log_failure=Failure(database.parse_exc),\n",
      "warning ⚠️ - korbenware.xdg.mime.MimeRegistry -   File \"/home/josh/software/jfhbrook/korbenware/korbenware/xdg/mime.py\", line 125, in from_file\n",
      "warning ⚠️ - korbenware.xdg.mime.MimeRegistry -     filename=filename, ini_file=ini_file, parsed=parsed, parse_exc=parse_exc\n",
      "warning ⚠️ - korbenware.xdg.mime.MimeRegistry - --- <exception caught here> ---\n",
      "warning ⚠️ - korbenware.xdg.mime.MimeRegistry -   File \"/home/josh/software/jfhbrook/korbenware/korbenware/xdg/mime.py\", line 115, in from_file\n",
      "warning ⚠️ - korbenware.xdg.mime.MimeRegistry -     ini_file.parse(filename)\n",
      "warning ⚠️ - korbenware.xdg.mime.MimeRegistry -   File \"/home/josh/anaconda3/envs/korbenware/lib/python3.7/site-packages/xdg/IniFile.py\", line 45, in parse\n",
      "warning ⚠️ - korbenware.xdg.mime.MimeRegistry -     raise ParsingError(\"File not found\", filename)\n",
      "warning ⚠️ - korbenware.xdg.mime.MimeRegistry - xdg.Exceptions.ParsingError: ParsingError in file '/home/josh/.local/share/applications/mimeinfo.cache', File not found\n",
      "warning ⚠️ - korbenware.xdg.mime.MimeRegistry - \n"
     ]
    },
    {
     "data": {
      "text/plain": [
       "<korbenware.dbus.service.Object at 0x7f59d6226690>"
      ]
     },
     "execution_count": 3,
     "metadata": {},
     "output_type": "execute_result"
    }
   ],
   "source": [
    "config = load_config()\n",
    "\n",
    "publisher.addObserver(CliObserver(config, verbosity=1))\n",
    "\n",
    "session = Session(reactor, config)\n",
    "\n",
    "service = Service(config.dbus.namespace)\n",
    "\n",
    "session.attach(service)"
   ]
  },
  {
   "cell_type": "code",
   "execution_count": 4,
   "metadata": {},
   "outputs": [
    {
     "name": "stderr",
     "output_type": "stream",
     "text": [
      "info 👉 - korbenware.executor.MonitoringExecutor - Starting monitoring service...\n",
      "info 👉 - korbenware.executor.ApplicationExecutor - Starting monitoring service...\n"
     ]
    }
   ],
   "source": [
    "session.start()"
   ]
  },
  {
   "cell_type": "code",
   "execution_count": 5,
   "metadata": {},
   "outputs": [],
   "source": [
    "conn = await client.connect(reactor)"
   ]
  },
  {
   "cell_type": "code",
   "execution_count": 6,
   "metadata": {},
   "outputs": [
    {
     "name": "stdout",
     "output_type": "stream",
     "text": [
      "get_state\n"
     ]
    }
   ],
   "source": [
    "server = await service.server(conn)"
   ]
  },
  {
   "cell_type": "code",
   "execution_count": 7,
   "metadata": {},
   "outputs": [],
   "source": [
    "client = await service.client(conn)"
   ]
  },
  {
   "cell_type": "code",
   "execution_count": 8,
   "metadata": {},
   "outputs": [
    {
     "name": "stdout",
     "output_type": "stream",
     "text": [
      "this is the thing\n",
      "SessionState(running=True, loaded_at=datetime.datetime(2020, 7, 1, 22, 39, 46, 592613), started_at=datetime.datetime(2020, 7, 1, 22, 39, 46, 605839), stopped_at=None, config=BaseConfig(applications=ApplicationsConfig(directories=['/home/josh/.local/share/applications', '/usr/share/applications'], skip_unparsed=False, skip_invalid=False), autostart=AutostartConfig(directories=['/home/josh/.config/autostart', '/etc/xdg/autostart'], environment_name='korbenware', skip_unparsed=False, skip_invalid=False), dbus=DBusConfig(namespace='org.jfhbrook.korbenware'), executors=ExecutorsConfig(primary=None, critical={'xmonad': {'exec': ['xmonad']}}), format=FormatConfig(pygments_formatter='trac'), logger=LoggerConfig(level='warn'), menu=MenuConfig(filename='/etc/xdg/menus/arch-applications.menu'), meta=MetaConfig(config_filename='/home/josh/.config/korbenware/korbenware.toml'), mime=MimeConfig(cache='/usr/share/applications/mimeinfo.cache', environment='korbenware'), urls={'http': 'firefox.desktop', 'https': 'firefox.desktop'}), critical_executor=ExecutorState(running=1, processes=[]), primary_executor=ExecutorState(running=1, processes=[]))\n"
     ]
    },
    {
     "ename": "RemoteError",
     "evalue": "org.txdbus.PythonException.KeyError: 'monitor'",
     "output_type": "error",
     "traceback": [
      "\u001b[0;31m---------------------------------------------------------------------------\u001b[0m",
      "\u001b[0;31mRemoteError\u001b[0m                               Traceback (most recent call last)",
      "\u001b[0;32m<ipython-input-8-55783e6aea1e>\u001b[0m in \u001b[0;36masync-def-wrapper\u001b[0;34m()\u001b[0m\n",
      "\u001b[0;32m~/software/jfhbrook/korbenware/korbenware/dbus/client.py\u001b[0m in \u001b[0;36mproxy_fn\u001b[0;34m(*args)\u001b[0m\n\u001b[1;32m     58\u001b[0m             \u001b[0;32mdef\u001b[0m \u001b[0mbind\u001b[0m\u001b[0;34m(\u001b[0m\u001b[0mobj\u001b[0m\u001b[0;34m)\u001b[0m\u001b[0;34m:\u001b[0m\u001b[0;34m\u001b[0m\u001b[0;34m\u001b[0m\u001b[0m\n\u001b[1;32m     59\u001b[0m                 \u001b[0;32masync\u001b[0m \u001b[0;32mdef\u001b[0m \u001b[0mproxy_fn\u001b[0m\u001b[0;34m(\u001b[0m\u001b[0;34m*\u001b[0m\u001b[0margs\u001b[0m\u001b[0;34m)\u001b[0m\u001b[0;34m:\u001b[0m\u001b[0;34m\u001b[0m\u001b[0;34m\u001b[0m\u001b[0m\n\u001b[0;32m---> 60\u001b[0;31m                     \u001b[0;32mreturn\u001b[0m \u001b[0;32mawait\u001b[0m \u001b[0mobj\u001b[0m\u001b[0;34m.\u001b[0m\u001b[0mcall\u001b[0m\u001b[0;34m(\u001b[0m\u001b[0mmethod_name\u001b[0m\u001b[0;34m,\u001b[0m \u001b[0;34m*\u001b[0m\u001b[0margs\u001b[0m\u001b[0;34m)\u001b[0m\u001b[0;34m\u001b[0m\u001b[0;34m\u001b[0m\u001b[0m\n\u001b[0m\u001b[1;32m     61\u001b[0m \u001b[0;34m\u001b[0m\u001b[0m\n\u001b[1;32m     62\u001b[0m                 \u001b[0;32mreturn\u001b[0m \u001b[0mproxy_fn\u001b[0m\u001b[0;34m\u001b[0m\u001b[0;34m\u001b[0m\u001b[0m\n",
      "\u001b[0;32m~/software/jfhbrook/korbenware/korbenware/dbus/client.py\u001b[0m in \u001b[0;36mcall\u001b[0;34m(self, method_name, *args)\u001b[0m\n\u001b[1;32m     16\u001b[0m         \u001b[0mxformed_args\u001b[0m \u001b[0;34m=\u001b[0m \u001b[0margs_xform\u001b[0m\u001b[0;34m.\u001b[0m\u001b[0mdump\u001b[0m\u001b[0;34m(\u001b[0m\u001b[0margs\u001b[0m\u001b[0;34m)\u001b[0m\u001b[0;34m\u001b[0m\u001b[0;34m\u001b[0m\u001b[0m\n\u001b[1;32m     17\u001b[0m \u001b[0;34m\u001b[0m\u001b[0m\n\u001b[0;32m---> 18\u001b[0;31m         \u001b[0mrv\u001b[0m \u001b[0;34m=\u001b[0m \u001b[0;32mawait\u001b[0m \u001b[0mself\u001b[0m\u001b[0;34m.\u001b[0m\u001b[0mremote_obj\u001b[0m\u001b[0;34m.\u001b[0m\u001b[0mcallRemote\u001b[0m\u001b[0;34m(\u001b[0m\u001b[0mmethod_name\u001b[0m\u001b[0;34m,\u001b[0m \u001b[0;34m*\u001b[0m\u001b[0mxformed_args\u001b[0m\u001b[0;34m)\u001b[0m\u001b[0;34m\u001b[0m\u001b[0;34m\u001b[0m\u001b[0m\n\u001b[0m\u001b[1;32m     19\u001b[0m \u001b[0;34m\u001b[0m\u001b[0m\n\u001b[1;32m     20\u001b[0m         \u001b[0;31m# TODO: Why is this necessary???\u001b[0m\u001b[0;34m\u001b[0m\u001b[0;34m\u001b[0m\u001b[0;34m\u001b[0m\u001b[0m\n",
      "\u001b[0;31mRemoteError\u001b[0m: org.txdbus.PythonException.KeyError: 'monitor'"
     ]
    }
   ],
   "source": [
    "await client.korbenware.Session.get_state()"
   ]
  },
  {
   "cell_type": "raw",
   "metadata": {},
   "source": [
    "server.get_state()"
   ]
  },
  {
   "cell_type": "code",
   "execution_count": null,
   "metadata": {},
   "outputs": [],
   "source": []
  }
 ],
 "metadata": {
  "kernelspec": {
   "display_name": "korbenware",
   "language": "python",
   "name": "korbenware"
  },
  "language_info": {
   "codemirror_mode": {
    "name": "ipython",
    "version": 3
   },
   "file_extension": ".py",
   "mimetype": "text/x-python",
   "name": "python",
   "nbconvert_exporter": "python",
   "pygments_lexer": "ipython3",
   "version": "3.7.6"
  }
 },
 "nbformat": 4,
 "nbformat_minor": 4
}
