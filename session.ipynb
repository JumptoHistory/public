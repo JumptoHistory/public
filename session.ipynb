{
 "cells": [
  {
   "cell_type": "code",
   "execution_count": 1,
   "metadata": {},
   "outputs": [],
   "source": [
    "%load_ext twisted_ipython\n",
    "%autoawait twisted"
   ]
  },
  {
   "cell_type": "code",
   "execution_count": 2,
   "metadata": {},
   "outputs": [],
   "source": [
    "from twisted.internet import reactor\n",
    "from txdbus import client\n",
    "\n",
    "from korbenware.config import load_config\n",
    "from korbenware.dbus import Service\n",
    "from korbenware.logger import CliObserver, publisher\n",
    "from korbenware.session import Session, SessionState"
   ]
  },
  {
   "cell_type": "code",
   "execution_count": 3,
   "metadata": {},
   "outputs": [
    {
     "name": "stderr",
     "output_type": "stream",
     "text": [
      "warning ⚠️ - korbenware.xdg.mime.MimeRegistry - INI file parse error while loading mimeinfo database /home/josh/.local/share/applications/mimeinfo.cache - skipping!\n"
     ]
    },
    {
     "name": "stdout",
     "output_type": "stream",
     "text": [
      "warning ⚠️ - korbenware.xdg.mime.MimeRegistry - Traceback (most recent call last):\n",
      "warning ⚠️ - korbenware.xdg.mime.MimeRegistry -   File \"<ipython-input-3-a649c63cd995>\", line 5, in <module>\n",
      "warning ⚠️ - korbenware.xdg.mime.MimeRegistry -     session = Session(reactor, config)\n",
      "warning ⚠️ - korbenware.xdg.mime.MimeRegistry -   File \"/home/josh/software/jfhbrook/korbenware/korbenware/session.py\", line 85, in __init__\n",
      "warning ⚠️ - korbenware.xdg.mime.MimeRegistry -     self.mime = MimeRegistry(config, self.applications)\n",
      "warning ⚠️ - korbenware.xdg.mime.MimeRegistry -   File \"/home/josh/software/jfhbrook/korbenware/korbenware/xdg/mime.py\", line 166, in __init__\n",
      "warning ⚠️ - korbenware.xdg.mime.MimeRegistry -     log_failure=Failure(database.parse_exc)\n",
      "warning ⚠️ - korbenware.xdg.mime.MimeRegistry -   File \"/home/josh/software/jfhbrook/korbenware/korbenware/xdg/mime.py\", line 133, in from_file\n",
      "warning ⚠️ - korbenware.xdg.mime.MimeRegistry -     parse_exc=parse_exc\n",
      "warning ⚠️ - korbenware.xdg.mime.MimeRegistry - --- <exception caught here> ---\n",
      "warning ⚠️ - korbenware.xdg.mime.MimeRegistry -   File \"/home/josh/software/jfhbrook/korbenware/korbenware/xdg/mime.py\", line 120, in from_file\n",
      "warning ⚠️ - korbenware.xdg.mime.MimeRegistry -     ini_file.parse(filename)\n",
      "warning ⚠️ - korbenware.xdg.mime.MimeRegistry -   File \"/home/josh/anaconda3/envs/korbenware/lib/python3.7/site-packages/xdg/IniFile.py\", line 45, in parse\n",
      "warning ⚠️ - korbenware.xdg.mime.MimeRegistry -     raise ParsingError(\"File not found\", filename)\n",
      "warning ⚠️ - korbenware.xdg.mime.MimeRegistry - xdg.Exceptions.ParsingError: ParsingError in file '/home/josh/.local/share/applications/mimeinfo.cache', File not found\n",
      "warning ⚠️ - korbenware.xdg.mime.MimeRegistry - \n"
     ]
    },
    {
     "data": {
      "text/plain": [
       "<korbenware.dbus.service.Object at 0x7fcd3d15aa90>"
      ]
     },
     "execution_count": 3,
     "metadata": {},
     "output_type": "execute_result"
    }
   ],
   "source": [
    "config = load_config()\n",
    "\n",
    "publisher.addObserver(CliObserver(config, verbosity=1))\n",
    "\n",
    "session = Session(reactor, config)\n",
    "\n",
    "service = Service('org.jfhbrook.testing123')\n",
    "\n",
    "session.attach(service)"
   ]
  },
  {
   "cell_type": "code",
   "execution_count": null,
   "metadata": {},
   "outputs": [],
   "source": [
    "conn = await client.connect(reactor)"
   ]
  },
  {
   "cell_type": "code",
   "execution_count": null,
   "metadata": {},
   "outputs": [],
   "source": [
    "server = await service.server(conn)\n",
    "\n",
    "server"
   ]
  },
  {
   "cell_type": "code",
   "execution_count": null,
   "metadata": {},
   "outputs": [],
   "source": [
    "client = await service.client(conn)\n",
    "\n",
    "client"
   ]
  },
  {
   "cell_type": "code",
   "execution_count": null,
   "metadata": {},
   "outputs": [],
   "source": [
    "state = await client.Session.get_state()\n",
    "\n",
    "state"
   ]
  },
  {
   "cell_type": "code",
   "execution_count": null,
   "metadata": {},
   "outputs": [],
   "source": [
    "conn"
   ]
  },
  {
   "cell_type": "code",
   "execution_count": null,
   "metadata": {},
   "outputs": [],
   "source": [
    "state.__repr__()"
   ]
  },
  {
   "cell_type": "code",
   "execution_count": 4,
   "metadata": {},
   "outputs": [
    {
     "name": "stderr",
     "output_type": "stream",
     "text": [
      "info 👉 - korbenware.executor.MonitoringExecutor - Starting monitoring service...\n",
      "info 👉 - korbenware.executor.ApplicationExecutor - Starting monitoring service...\n"
     ]
    }
   ],
   "source": [
    "session.start()"
   ]
  },
  {
   "cell_type": "code",
   "execution_count": null,
   "metadata": {},
   "outputs": [],
   "source": [
    "session.stop()"
   ]
  },
  {
   "cell_type": "code",
   "execution_count": 5,
   "metadata": {},
   "outputs": [
    {
     "name": "stderr",
     "output_type": "stream",
     "text": [
      "info 👉 - korbenware.executor.ApplicationExecutor - Spawning irccloud using ['irccloud'] as a monitored process...\n",
      "info 👉 - korbenware.executor.ApplicationExecutor - [irccloud] 20:19:32.519 › setupConfig\n",
      "info 👉 - korbenware.executor.ApplicationExecutor - [irccloud] 20:19:32.541 › ready [ '/usr/lib/irccloud/app.asar' ]\n",
      "info 👉 - korbenware.executor.ApplicationExecutor - [irccloud] 20:19:32.570 › openMainWindow\n",
      "info 👉 - korbenware.executor.ApplicationExecutor - [irccloud] (electron) The default value of app.allowRendererProcessReuse is deprecated, it is currently \"false\".  It will change to be \"true\" in Electron 9.  For more information please check https://github.com/electron/electron/issues/18397\n",
      "info 👉 - korbenware.executor.ApplicationExecutor - [irccloud] 20:19:33.137 › preload\n",
      "info 👉 - korbenware.executor.ApplicationExecutor - [irccloud] 20:19:33.479 › dom-ready\n"
     ]
    }
   ],
   "source": [
    "session.primary_executor.run_argv('irccloud', ['irccloud'], monitor=True, restart=True)"
   ]
  },
  {
   "cell_type": "code",
   "execution_count": 9,
   "metadata": {},
   "outputs": [
    {
     "data": {
      "text/markdown": [
       "# ProcessMonitor\n",
       "\n",
       "* **settings:**\n",
       "* **states:**\n"
      ],
      "text/plain": [
       "ProcessMonitor( running=1, processes={})"
      ]
     },
     "execution_count": 9,
     "metadata": {},
     "output_type": "execute_result"
    }
   ],
   "source": [
    "session.primary_executor.monitor"
   ]
  },
  {
   "cell_type": "code",
   "execution_count": 8,
   "metadata": {},
   "outputs": [],
   "source": [
    "session.primary_executor.monitor.removeProcess('irccloud')"
   ]
  },
  {
   "cell_type": "code",
   "execution_count": null,
   "metadata": {},
   "outputs": [],
   "source": []
  }
 ],
 "metadata": {
  "kernelspec": {
   "display_name": "korbenware",
   "language": "python",
   "name": "korbenware"
  },
  "language_info": {
   "codemirror_mode": {
    "name": "ipython",
    "version": 3
   },
   "file_extension": ".py",
   "mimetype": "text/x-python",
   "name": "python",
   "nbconvert_exporter": "python",
   "pygments_lexer": "ipython3",
   "version": "3.7.6"
  }
 },
 "nbformat": 4,
 "nbformat_minor": 4
}
