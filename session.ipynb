{
 "cells": [
  {
   "cell_type": "code",
   "execution_count": 1,
   "metadata": {},
   "outputs": [],
   "source": [
    "%load_ext twisted_ipython\n",
    "%autoawait twisted"
   ]
  },
  {
   "cell_type": "code",
   "execution_count": 2,
   "metadata": {},
   "outputs": [],
   "source": [
    "from twisted.internet import reactor\n",
    "from txdbus import client\n",
    "\n",
    "from korbenware.config import load_config\n",
    "from korbenware.dbus import Service\n",
    "from korbenware.logger import CliObserver, publisher\n",
    "from korbenware.session import Session, SessionState"
   ]
  },
  {
   "cell_type": "code",
   "execution_count": 3,
   "metadata": {},
   "outputs": [
    {
     "data": {
      "text/plain": [
       "<korbenware.dbus.service.Object at 0x7feff9d29bd0>"
      ]
     },
     "execution_count": 3,
     "metadata": {},
     "output_type": "execute_result"
    }
   ],
   "source": [
    "config = load_config()\n",
    "\n",
    "# publisher.addObserver(CliObserver(config, verbosity=1))\n",
    "\n",
    "session = Session(reactor, config)\n",
    "\n",
    "service = Service('org.jfhbrook.testing123')\n",
    "\n",
    "session.attach(service)"
   ]
  },
  {
   "cell_type": "code",
   "execution_count": 4,
   "metadata": {},
   "outputs": [],
   "source": [
    "conn = await client.connect(reactor)"
   ]
  },
  {
   "cell_type": "code",
   "execution_count": 5,
   "metadata": {},
   "outputs": [
    {
     "data": {
      "text/plain": [
       "Server(connection=<txdbus.client.DBusClientConnection object at 0x7feff9c83410>, service=<korbenware.dbus.service.Service object at 0x7ff010cc1390>, bus_names=[1], dbus_obj_cls=<class 'korbenware.dbus.server.Session'>, dbus_obj=<korbenware.dbus.server.Session object at 0x7feff9c6be50>)"
      ]
     },
     "execution_count": 5,
     "metadata": {},
     "output_type": "execute_result"
    }
   ],
   "source": [
    "server = await service.server(conn)\n",
    "\n",
    "server"
   ]
  },
  {
   "cell_type": "code",
   "execution_count": 6,
   "metadata": {},
   "outputs": [
    {
     "data": {
      "text/plain": [
       "Client(service=<korbenware.dbus.service.Service object at 0x7ff010cc1390>, remote_objs={'/Session': <txdbus.objects.RemoteDBusObject object at 0x7feff9c041d0>})"
      ]
     },
     "execution_count": 6,
     "metadata": {},
     "output_type": "execute_result"
    }
   ],
   "source": [
    "client = await service.client(conn)\n",
    "\n",
    "client"
   ]
  },
  {
   "cell_type": "code",
   "execution_count": 7,
   "metadata": {},
   "outputs": [
    {
     "data": {
      "text/markdown": [
       "# SessionState\n",
       "\n",
       "\n",
       "\n",
       "## config\n",
       "\n",
       "* **urls:**\n",
       "    * **http:** firefox.desktop\n",
       "    * **https:** firefox.desktop\n",
       "\n",
       "\n",
       "### autostart\n",
       "\n",
       "* **directories:**\n",
       "    * /home/josh/.config/autostart\n",
       "    * /etc/xdg/autostart\n",
       "* **environment_name:** korbenware\n",
       "* **skip_unparsed:** False\n",
       "* **skip_invalid:** False\n",
       "\n",
       "\n",
       "\n",
       "\n",
       "### meta\n",
       "\n",
       "* **config_filename:** /home/josh/.config/korbenware/korbenware.toml\n",
       "\n",
       "\n",
       "\n",
       "\n",
       "### menu\n",
       "\n",
       "* **filename:** /etc/xdg/menus/arch-applications.menu\n",
       "\n",
       "\n",
       "\n",
       "\n",
       "### mime\n",
       "\n",
       "* **cache:** /usr/share/applications/mimeinfo.cache\n",
       "* **environment:** korbenware\n",
       "\n",
       "\n",
       "\n",
       "\n",
       "### applications\n",
       "\n",
       "* **directories:**\n",
       "    * /home/josh/.local/share/applications\n",
       "    * /usr/share/applications\n",
       "* **skip_unparsed:** False\n",
       "* **skip_invalid:** False\n",
       "\n",
       "\n",
       "\n",
       "\n",
       "### logger\n",
       "\n",
       "* **level:** warn\n",
       "\n",
       "\n",
       "\n",
       "\n",
       "\n",
       "\n",
       "## critical_executor\n",
       "\n",
       "* **running:** 0\n",
       "* **processes:**\n",
       "\n",
       "\n",
       "\n",
       "\n",
       "## primary_executor\n",
       "\n",
       "* **running:** 0\n",
       "* **processes:**\n",
       "\n",
       "\n"
      ],
      "text/plain": [
       "SessionState(\n",
       "    config={'autostart': {'directories': ['/home/josh/.config/autostart',\n",
       "       '/etc/xdg/autostart'],\n",
       "      'environment_name': 'korbenware',\n",
       "      'skip_unparsed': False,\n",
       "      'skip_invalid': False},\n",
       "     'meta': {'config_filename': '/home/josh/.config/korbenware/korbenware.toml'},\n",
       "     'menu': {'filename': '/etc/xdg/menus/arch-applications.menu'},\n",
       "     'mime': {'cache': '/usr/share/applications/mimeinfo.cache',\n",
       "      'environment': 'korbenware'},\n",
       "     'applications': {'directories': ['/home/josh/.local/share/applications',\n",
       "       '/usr/share/applications'],\n",
       "      'skip_unparsed': False,\n",
       "      'skip_invalid': False},\n",
       "     'logger': {'level': 'warn'},\n",
       "     'urls': {'http': 'firefox.desktop', 'https': 'firefox.desktop'}},\n",
       "    critical_executor={'running': 0, 'processes': []},\n",
       "    primary_executor={'running': 0, 'processes': []})"
      ]
     },
     "execution_count": 7,
     "metadata": {},
     "output_type": "execute_result"
    }
   ],
   "source": [
    "state = await client.Session.get_state()\n",
    "\n",
    "state"
   ]
  },
  {
   "cell_type": "code",
   "execution_count": 8,
   "metadata": {},
   "outputs": [
    {
     "data": {
      "text/plain": [
       "<txdbus.client.DBusClientConnection at 0x7feff9c83410>"
      ]
     },
     "execution_count": 8,
     "metadata": {},
     "output_type": "execute_result"
    }
   ],
   "source": [
    "conn"
   ]
  },
  {
   "cell_type": "code",
   "execution_count": 9,
   "metadata": {},
   "outputs": [
    {
     "data": {
      "text/plain": [
       "\"SessionState(config=BaseConfig(autostart=AutostartConfig(directories=['/home/josh/.config/autostart', '/etc/xdg/autostart'], environment_name='korbenware', skip_unparsed=False, skip_invalid=False), meta=MetaConfig(config_filename='/home/josh/.config/korbenware/korbenware.toml'), menu=MenuConfig(filename='/etc/xdg/menus/arch-applications.menu'), mime=MimeConfig(cache='/usr/share/applications/mimeinfo.cache', environment='korbenware'), applications=ApplicationsConfig(directories=['/home/josh/.local/share/applications', '/usr/share/applications'], skip_unparsed=False, skip_invalid=False), logger=LoggerConfig(level='warn'), urls={'http': 'firefox.desktop', 'https': 'firefox.desktop'}), critical_executor=ExecutorState(running=0, processes=[]), primary_executor=ExecutorState(running=0, processes=[]))\""
      ]
     },
     "execution_count": 9,
     "metadata": {},
     "output_type": "execute_result"
    }
   ],
   "source": [
    "state.__repr__()"
   ]
  },
  {
   "cell_type": "code",
   "execution_count": null,
   "metadata": {},
   "outputs": [],
   "source": []
  }
 ],
 "metadata": {
  "kernelspec": {
   "display_name": "korbenware",
   "language": "python",
   "name": "korbenware"
  },
  "language_info": {
   "codemirror_mode": {
    "name": "ipython",
    "version": 3
   },
   "file_extension": ".py",
   "mimetype": "text/x-python",
   "name": "python",
   "nbconvert_exporter": "python",
   "pygments_lexer": "ipython3",
   "version": "3.7.6"
  }
 },
 "nbformat": 4,
 "nbformat_minor": 4
}
