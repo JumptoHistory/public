{
  "cells": [
    {
      "cell_type": "code",
      "source": [
        "%load_ext twisted_ipython\n",
        "%autoawait twisted"
      ],
      "outputs": [],
      "execution_count": 1,
      "metadata": {
        "collapsed": false,
        "outputHidden": false,
        "inputHidden": false
      }
    },
    {
      "cell_type": "code",
      "source": [
        "import attr\n",
        "from twisted.internet import reactor\n",
        "from txdbus import client as txdbus_client\n",
        "\n",
        "from pyxsession.config import load_config\n",
        "from pyxsession.dbus import Service\n",
        "from pyxsession.executor import Executor, DBusExecutor\n",
        "from pyxsession.open import ApplicationFinder, exec_key_fields\n",
        "from pyxsession.urls import UrlRegistry\n",
        "from pyxsession.xdg.applications import ApplicationsRegistry\n",
        "from pyxsession.xdg.mime import MimeRegistry\n"
      ],
      "outputs": [],
      "execution_count": 2,
      "metadata": {
        "collapsed": false,
        "outputHidden": false,
        "inputHidden": false
      }
    },
    {
      "cell_type": "code",
      "source": [
        "config = load_config()\n",
        "\n",
        "applications = ApplicationsRegistry(config)\n",
        "mime = MimeRegistry(config, applications)\n",
        "urls = UrlRegistry(config, applications)\n",
        "finder = ApplicationFinder(urls, mime)\n",
        "\n",
        "app = finder.get_by_url_or_file('https://www.google.com')\n",
        "\n",
        "conn = await txdbus_client.connect(reactor)\n",
        "\n",
        "service = Service('org.jfhbrook.pyxsession')\n",
        "\n",
        "executor = DBusExecutor(service)\n",
        "\n",
        "underlying = Executor(applications=applications)\n"
      ],
      "outputs": [],
      "execution_count": 3,
      "metadata": {
        "collapsed": false,
        "outputHidden": false,
        "inputHidden": false
      }
    },
    {
      "cell_type": "code",
      "source": [
        "await executor.start_server(conn, underlying)\n",
        "\n",
        "await executor.start_client(conn)"
      ],
      "outputs": [],
      "execution_count": 4,
      "metadata": {
        "collapsed": false,
        "outputHidden": false,
        "inputHidden": false
      }
    },
    {
      "cell_type": "code",
      "source": [
        "await executor.run_xdg_application(app, exec_key_fields=exec_key_fields(app, 'https://www.google.com'))"
      ],
      "outputs": [],
      "execution_count": 5,
      "metadata": {
        "collapsed": false,
        "outputHidden": false,
        "inputHidden": false
      }
    },
    {
      "cell_type": "code",
      "source": [],
      "outputs": [],
      "execution_count": 6,
      "metadata": {
        "collapsed": false,
        "outputHidden": false,
        "inputHidden": false
      }
    },
    {
      "cell_type": "code",
      "source": [],
      "outputs": [],
      "execution_count": 6,
      "metadata": {
        "collapsed": false,
        "outputHidden": false,
        "inputHidden": false
      }
    }
  ],
  "metadata": {
    "kernel_info": {
      "name": "pyxsession"
    },
    "language_info": {
      "name": "python",
      "version": "3.7.2",
      "mimetype": "text/x-python",
      "codemirror_mode": {
        "name": "ipython",
        "version": 3
      },
      "pygments_lexer": "ipython3",
      "nbconvert_exporter": "python",
      "file_extension": ".py"
    },
    "kernelspec": {
      "name": "pyxsession",
      "language": "python",
      "display_name": "pyxsession"
    },
    "nteract": {
      "version": "0.14.3"
    }
  },
  "nbformat": 4,
  "nbformat_minor": 0
}