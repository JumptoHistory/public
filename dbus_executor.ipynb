{
  "cells": [
    {
      "cell_type": "code",
      "source": [
        "%load_ext twisted_ipython\n",
        "%autoawait twisted"
      ],
      "outputs": [],
      "execution_count": 1,
      "metadata": {
        "collapsed": false,
        "outputHidden": false,
        "inputHidden": false
      }
    },
    {
      "cell_type": "code",
      "source": [
        "import attr\n",
        "from twisted.internet import reactor\n",
        "from txdbus import client as txdbus_client\n",
        "\n",
        "from korbenware.config import load_config, config_dbus_object\n",
        "from korbenware.dbus import Service\n",
        "from korbenware.executor import Executor, DBusExecutor\n",
        "from korbenware.open import ApplicationFinder, exec_key_fields\n",
        "from korbenware.urls import UrlRegistry\n",
        "from korbenware.xdg.applications import ApplicationsRegistry\n",
        "from korbenware.xdg.mime import MimeRegistry\n"
      ],
      "outputs": [],
      "execution_count": 2,
      "metadata": {
        "collapsed": false,
        "outputHidden": false,
        "inputHidden": false
      }
    },
    {
      "cell_type": "code",
      "source": [
        "config = load_config()\n",
        "\n",
        "applications = ApplicationsRegistry(config)\n",
        "mime = MimeRegistry(config, applications)\n",
        "urls = UrlRegistry(config, applications)\n",
        "finder = ApplicationFinder(urls, mime)\n",
        "\n",
        "app = finder.get_by_url_or_file('https://www.google.com')\n",
        "\n",
        "conn = await txdbus_client.connect(reactor)\n",
        "\n",
        "service = Service('org.jfhbrook.korbenware')\n",
        "\n",
        "# executor = DBusExecutor(service)\n",
        "\n",
        "# underlying = Executor(applications=applications)\n",
        "\n",
        "remote_config = config_dbus_object(service, config)\n"
      ],
      "outputs": [],
      "execution_count": 3,
      "metadata": {
        "collapsed": false,
        "outputHidden": false,
        "inputHidden": false
      }
    },
    {
      "cell_type": "code",
      "source": [
        "server = await service.server(conn)\n",
        "\n",
        "client = await service.client(conn)"
      ],
      "outputs": [],
      "execution_count": 4,
      "metadata": {
        "collapsed": false,
        "outputHidden": false,
        "inputHidden": false
      }
    },
    {
      "cell_type": "code",
      "source": [
        "await client.korbenware.Config.get_base_config()"
      ],
      "outputs": [
        {
          "output_type": "stream",
          "name": "stdout",
          "text": [
            "BaseConfig(autostart=AutostartConfig(directories=['/home/josh/.config/autostart', '/etc/xdg/autostart'], environment_name='korbenware', skip_unparsed=False, skip_invalid=False), menu=MenuConfig(filename='/etc/xdg/menus/arch-applications.menu'), mime=MimeConfig(cache='/usr/share/applications/mimeinfo.cache', environment='korbenware'), applications=ApplicationsConfig(directories=['/usr/share/applications'], skip_unparsed=False, skip_invalid=False), urls={'http': 'firefox.desktop', 'https': 'firefox.desktop'})\n"
          ]
        },
        {
          "output_type": "execute_result",
          "execution_count": 5,
          "data": {
            "text/plain": [
              "BaseConfig(\n",
              "    autostart={'directories': ['/home/josh/.config/autostart',\n",
              "      '/etc/xdg/autostart'],\n",
              "     'environment_name': 'korbenware',\n",
              "     'skip_unparsed': False,\n",
              "     'skip_invalid': False},\n",
              "    menu={'filename': '/etc/xdg/menus/arch-applications.menu'},\n",
              "    mime={'cache': '/usr/share/applications/mimeinfo.cache',\n",
              "     'environment': 'korbenware'},\n",
              "    applications={'directories': ['/usr/share/applications'],\n",
              "     'skip_unparsed': False,\n",
              "     'skip_invalid': False},\n",
              "    urls={'http': 'firefox.desktop', 'https': 'firefox.desktop'})"
            ]
          },
          "metadata": {}
        }
      ],
      "execution_count": 5,
      "metadata": {
        "collapsed": false,
        "outputHidden": false,
        "inputHidden": false
      }
    },
    {
      "cell_type": "code",
      "source": [
        "print(config)"
      ],
      "outputs": [
        {
          "output_type": "stream",
          "name": "stdout",
          "text": [
            "BaseConfig(autostart=AutostartConfig(directories=['/home/josh/.config/autostart', '/etc/xdg/autostart'], environment_name='korbenware', skip_unparsed=False, skip_invalid=False), menu=MenuConfig(filename='/etc/xdg/menus/arch-applications.menu'), mime=MimeConfig(cache='/usr/share/applications/mimeinfo.cache', environment='korbenware'), applications=ApplicationsConfig(directories=['/usr/share/applications'], skip_unparsed=False, skip_invalid=False), urls={'http': 'firefox.desktop', 'https': 'firefox.desktop'})\n"
          ]
        }
      ],
      "execution_count": 6,
      "metadata": {
        "collapsed": false,
        "outputHidden": false,
        "inputHidden": false
      }
    },
    {
      "cell_type": "code",
      "source": [],
      "outputs": [],
      "execution_count": 7,
      "metadata": {
        "collapsed": false,
        "outputHidden": false,
        "inputHidden": false
      }
    }
  ],
  "metadata": {
    "kernel_info": {
      "name": "korbenware"
    },
    "language_info": {
      "name": "python",
      "version": "3.7.2",
      "mimetype": "text/x-python",
      "codemirror_mode": {
        "name": "ipython",
        "version": 3
      },
      "pygments_lexer": "ipython3",
      "nbconvert_exporter": "python",
      "file_extension": ".py"
    },
    "kernelspec": {
      "name": "korbenware",
      "language": "python",
      "display_name": "korbenware"
    },
    "nteract": {
      "version": "0.14.3"
    }
  },
  "nbformat": 4,
  "nbformat_minor": 0
}
