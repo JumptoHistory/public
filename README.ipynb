{
  "cells": [
    {
      "cell_type": "markdown",
      "source": [
        "# twisted_ipython\n",
        "\n",
        "An [IPython](https://ipython.org/) extension that uses [crochet](https://github.com/itamarst/crochet) to enable running [Twisted](https://twistedmatrix.com/trac/) in IPython and [Jupyter](https://jupyter.org/) notebooks.\n",
        "\n",
        "## The Problem\n",
        "\n",
        "Traditionally, the IPython REPL has only truly supported synchronous code. However, IPython [shipped support for running coroutines](https://blog.jupyter.org/ipython-7-0-async-repl-a35ce050f7f7) late last year with support for [asyncio](https://docs.python.org/3/library/asyncio.html), [curio](https://github.com/dabeaz/curio) and [trio](https://github.com/python-trio/trio), which is really cool! Unfortunately, it has some limitations.\n",
        "\n",
        "In particular, code deemed to be running in an async format is ran by [taking a paused/not-running event loop, running it long enough to execute the async code, and then pausing the loop](https://github.com/ipython/ipython/blob/master/IPython/core/async_helpers.py#L28). This isn't an unreasonable implementation given that IPython was (as far as I know) not originally factored to run async code at all. It does, however, put us in a bind, because if you try to start the Twisted event loop a second time it will [yell at you and refuse](https://github.com/twisted/twisted/blob/8d18e4f83105822a6bad3698eb41ff2f35d56042/src/twisted/internet/error.py#L419). This is because in a typical application an event loop is kept running throughout the lifetime of that process.\n",
        "\n",
        "## A Partial Solution\n",
        "\n",
        "[Crochet](https://crochet.readthedocs.io/en/stable/) is a library that runs the Twisted reactor in a thread. This ends up being very handy, because our runner implementation ends up being a call to [`ensureDeferred`](https://twistedmatrix.com/documents/current/api/twisted.internet.defer.ensureDeferred.html) wrapped in the [`wait_for`](https://crochet.readthedocs.io/en/stable/api.html#wait-for-blocking-calls-into-twisted) decorator. This means that we can [set up](https://crochet.readthedocs.io/en/stable/api.html#setup) Crochet on extension initialiation, register a small runner to the autoawait magic, and have `%autoawait` support in twisted. In addition, because the loop continues to run in the background, backgrounded tasks will still run once the cell is finished executing. Great!\n",
        "\n",
        "Loading the module and setting up Twisted autoawait look like this:"
      ],
      "metadata": {}
    },
    {
      "cell_type": "code",
      "source": [
        "%load_ext twisted_ipython\n",
        "# We now have support for twisted in autoawait\n",
        "%autoawait twisted"
      ],
      "outputs": [],
      "execution_count": 1,
      "metadata": {
        "collapsed": false,
        "outputHidden": false,
        "inputHidden": false
      }
    },
    {
      "cell_type": "markdown",
      "source": [
        "From there we can define a few helpers for our demo:"
      ],
      "metadata": {}
    },
    {
      "cell_type": "code",
      "source": [
        "from twisted.internet import reactor\n",
        "from twisted.internet.defer import Deferred\n",
        "\n",
        "\n",
        "# A little helper for demo-ing awaiting and Deferreds\n",
        "def sleep(t):\n",
        "    d = Deferred()\n",
        "    reactor.callLater(t, d.callback, None)\n",
        "    return d\n",
        "  \n",
        "  \n",
        "# A little helper for demo-ing working display\n",
        "class Shout:\n",
        "    def __init__(self, value):\n",
        "        self.value = value\n",
        "    def _repr_markdown_(self):\n",
        "        return f'# {self.value}'"
      ],
      "outputs": [],
      "execution_count": 2,
      "metadata": {
        "collapsed": false,
        "outputHidden": false,
        "inputHidden": false
      }
    },
    {
      "cell_type": "markdown",
      "source": [
        "and **Check it out: `autoawait` Just Works:**"
      ],
      "metadata": {}
    },
    {
      "cell_type": "code",
      "source": [
        "print('Going to sleep...')\n",
        "\n",
        "await sleep(1)\n",
        "\n",
        "Shout('I HAVE AWAKENED!')"
      ],
      "outputs": [
        {
          "output_type": "stream",
          "name": "stdout",
          "text": [
            "Going to sleep...\n"
          ]
        },
        {
          "output_type": "execute_result",
          "execution_count": 3,
          "data": {
            "text/plain": [
              "<__main__.Shout at 0x7f237d3855f8>"
            ],
            "text/markdown": [
              "# I HAVE AWAKENED!"
            ]
          },
          "metadata": {}
        }
      ],
      "execution_count": 3,
      "metadata": {
        "collapsed": false,
        "outputHidden": false,
        "inputHidden": false
      }
    },
    {
      "cell_type": "markdown",
      "source": [
        "## Running Non-Awaiting Code With `crochet.run_in_reactor`\n",
        "\n",
        "In addition to being able to run code with `await`ed results in it, it would be nice if we could also safely run Twisted code that interacts with the reactor but *doesn't* use async/await.\n",
        "\n",
        "Crochet ships with a helper called [`run_in_reactor`](https://crochet.readthedocs.io/en/stable/api.html#run-in-reactor-asynchronous-results) which can decorate wrapper functions so that they can safely interact with the reactor.\n",
        "\n",
        "I support this with a code magic, ``%%run_in_reactor``. What this magic does is a little scary: It intercepts the python code in the cell as text, detects its indentation level, and generates new python code (as text) that wraps the cell in a decorated function. In addition, it allows for taking the end result of a wrapped block (which must use the `return` keyword unlike regular cells) and making the crochet `EventualResult` object available in the namespace. This makes it possible to interact with eventual results without using async/await.\n",
        "\n",
        "Using the magic with this feature looks like this:"
      ],
      "metadata": {}
    },
    {
      "cell_type": "code",
      "source": [
        "%%run_in_reactor result\n",
        "\n",
        "# This runs this non-awaiting code in the correct thread\n",
        "# and allows access to the returned value via crochet's\n",
        "# EventualResult\n",
        "\n",
        "d = sleep(1)\n",
        "\n",
        "d.addCallback(lambda _: Shout('We did it!'))\n",
        "\n",
        "return d"
      ],
      "outputs": [
        {
          "output_type": "execute_result",
          "execution_count": 4,
          "data": {
            "text/plain": [
              "<crochet._eventloop.EventualResult at 0x7f237c315cf8>"
            ]
          },
          "metadata": {}
        }
      ],
      "execution_count": 4,
      "metadata": {
        "collapsed": false,
        "outputHidden": false,
        "inputHidden": false
      }
    },
    {
      "cell_type": "code",
      "source": [
        "# and we can access that result!\n",
        "\n",
        "result.wait(2)"
      ],
      "outputs": [
        {
          "output_type": "execute_result",
          "execution_count": 5,
          "data": {
            "text/plain": [
              "<__main__.Shout at 0x7f237d3859b0>"
            ],
            "text/markdown": [
              "# We did it!"
            ]
          },
          "metadata": {}
        }
      ],
      "execution_count": 5,
      "metadata": {
        "collapsed": false,
        "outputHidden": false,
        "inputHidden": false
      }
    },
    {
      "cell_type": "markdown",
      "source": [
        "## Install\n",
        "\n",
        "**TODO:** I'm still working on it, but eventually this will be on pypi, where it can be installed with pip. From there it can be loaded with `%load_ext`.\n",
        "\n",
        "## API\n",
        "\n",
        "### Additions to the `%autoawait` cell magic\n",
        "\n",
        "Loading this extension adds the \"twisted' runner to the `%autoawait` magic. You can enable twisted support for autoawait by calling `%autoawait twisted`.\n",
        "\n",
        "### The `%%run_in_reactor` cell magic\n",
        "\n",
        "Right now, this magic only takes one optional argument, which is the name of a variable to assign the `EventualResult` to. This defaults to `_`.\n",
        "\n",
        "## Tests\n",
        "\n",
        "For now, there aren't any tests. However, I plan on using this in practice quite a bit.\n",
        "\n",
        "## Support\n",
        "\n",
        "Just to set expectations: I'm just one guy that had an itch to scratch. I'll respond to issues and PRs but I don't expect this project to become a whole thing.\n",
        "\n",
        "## License\n",
        "\n",
        "Like IPython, this is licensed under a 3-clause BSD license. For more, see `LICENSE.txt`.\n"
      ],
      "metadata": {}
    }
  ],
  "metadata": {
    "kernel_info": {
      "name": "twisted_ipython"
    },
    "language_info": {
      "name": "python",
      "version": "3.7.2",
      "mimetype": "text/x-python",
      "codemirror_mode": {
        "name": "ipython",
        "version": 3
      },
      "pygments_lexer": "ipython3",
      "nbconvert_exporter": "python",
      "file_extension": ".py"
    },
    "kernelspec": {
      "name": "twisted_ipython",
      "language": "python",
      "display_name": "twisted_ipython"
    },
    "nteract": {
      "version": "0.14.3"
    }
  },
  "nbformat": 4,
  "nbformat_minor": 0
}