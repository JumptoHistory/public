{
 "cells": [
  {
   "cell_type": "code",
   "execution_count": null,
   "metadata": {},
   "outputs": [],
   "source": [
    "# Copyright 2020 Josh Holbrook\n",
    "#\n",
    "# This Source Code Form is subject to the terms of the Mozilla Public\n",
    "# License, v. 2.0. If a copy of the MPL was not distributed with this\n",
    "# file, You can obtain one at https://mozilla.org/MPL/2.0/."
   ]
  },
  {
   "cell_type": "code",
   "execution_count": 1,
   "metadata": {
    "collapsed": false,
    "inputHidden": false,
    "jupyter": {
     "outputs_hidden": false
    },
    "outputHidden": false
   },
   "outputs": [],
   "source": [
    "%load_ext twisted_ipython\n",
    "%autoawait twisted"
   ]
  },
  {
   "cell_type": "code",
   "execution_count": 2,
   "metadata": {
    "collapsed": false,
    "inputHidden": false,
    "jupyter": {
     "outputs_hidden": false
    },
    "outputHidden": false
   },
   "outputs": [],
   "source": [
    "from twisted.internet import reactor\n",
    "from txdbus import error, client\n",
    "\n",
    "\n",
    "class Notifier:\n",
    "    # TODO: Can this be generalized to load arbitrary resources?\n",
    "    @classmethod\n",
    "    async def create(xls, conn=None):\n",
    "        if not conn:\n",
    "            conn = await client.connect(reactor, 'session')\n",
    "        \n",
    "        notifier = await conn.getRemoteObject(\n",
    "            'org.freedesktop.Notifications',\n",
    "            '/org/freedesktop/Notifications'\n",
    "        )\n",
    "        \n",
    "        return Notifier(conn=conn, notifier=notifier)\n",
    "      \n",
    "    def __init__(self, conn, notifier):\n",
    "        self.conn = conn\n",
    "        self.notifier = notifier\n",
    "        \n",
    "    def notify(self, *, replaces=0, appname, summary, message, timeout):\n",
    "        return self.notifier.callRemote(\n",
    "            'Notify',\n",
    "            appname,\n",
    "            replaces,\n",
    "            '',\n",
    "            summary,\n",
    "            message,\n",
    "            [], dict(),\n",
    "            timeout\n",
    "        )\n",
    "\n",
    "notifier = await Notifier.create()"
   ]
  },
  {
   "cell_type": "code",
   "execution_count": 3,
   "metadata": {
    "collapsed": false,
    "inputHidden": false,
    "jupyter": {
     "outputs_hidden": false
    },
    "outputHidden": false
   },
   "outputs": [],
   "source": [
    "id = await notifier.notify(\n",
    "    appname='korbenware',\n",
    "    summary='an important message',\n",
    "    message='my dog',\n",
    "    timeout=5000\n",
    ")"
   ]
  },
  {
   "cell_type": "code",
   "execution_count": 4,
   "metadata": {
    "collapsed": false,
    "inputHidden": false,
    "jupyter": {
     "outputs_hidden": false
    },
    "outputHidden": false
   },
   "outputs": [
    {
     "name": "stdout",
     "output_type": "stream",
     "text": [
      "Connected to the session bus!\n"
     ]
    }
   ],
   "source": [
    "# default the busAddress parameter to \"session\"\n",
    "# this address can be \"session\", \"system\", or\n",
    "# something more specific - either a unix, tcp\n",
    "# or nonce-tcp connection type, apparently\n",
    "#\n",
    "# for us, session is perf 👍\n",
    "conn = await client.connect(reactor)\n",
    "\n",
    "print('Connected to the session bus!')"
   ]
  },
  {
   "cell_type": "code",
   "execution_count": 5,
   "metadata": {
    "collapsed": false,
    "inputHidden": false,
    "jupyter": {
     "outputs_hidden": false
    },
    "outputHidden": false
   },
   "outputs": [
    {
     "ename": "IntrospectionFailed",
     "evalue": "Introspection Failed: org.freedesktop.DBus.Error.ServiceUnknown: The name org.example was not provided by any .service files",
     "output_type": "error",
     "traceback": [
      "\u001b[0;31m---------------------------------------------------------------------------\u001b[0m",
      "\u001b[0;31mIntrospectionFailed\u001b[0m                       Traceback (most recent call last)",
      "\u001b[0;32m<ipython-input-5-f0fdb2cfbe49>\u001b[0m in \u001b[0;36masync-def-wrapper\u001b[0;34m()\u001b[0m\n\u001b[1;32m      6\u001b[0m \u001b[0;34m\u001b[0m\u001b[0m\n\u001b[1;32m      7\u001b[0m \u001b[0mresult\u001b[0m \u001b[0;34m=\u001b[0m \u001b[0;32mawait\u001b[0m \u001b[0mremote_obj\u001b[0m\u001b[0;34m.\u001b[0m\u001b[0mcallRemote\u001b[0m\u001b[0;34m(\u001b[0m\u001b[0;34m'Ping'\u001b[0m\u001b[0;34m)\u001b[0m\u001b[0;34m\u001b[0m\u001b[0;34m\u001b[0m\u001b[0m\n\u001b[0;32m----> 8\u001b[0;31m \u001b[0;34m\u001b[0m\u001b[0m\n\u001b[0m\u001b[1;32m      9\u001b[0m \u001b[0mprint\u001b[0m\u001b[0;34m(\u001b[0m\u001b[0mresult\u001b[0m\u001b[0;34m)\u001b[0m\u001b[0;34m\u001b[0m\u001b[0;34m\u001b[0m\u001b[0m\n",
      "\u001b[0;32m~/anaconda3/envs/korbenware/lib/python3.7/site-packages/twisted/internet/defer.py\u001b[0m in \u001b[0;36m_runCallbacks\u001b[0;34m(self)\u001b[0m\n\u001b[1;32m    652\u001b[0m                     \u001b[0mcurrent\u001b[0m\u001b[0;34m.\u001b[0m\u001b[0m_runningCallbacks\u001b[0m \u001b[0;34m=\u001b[0m \u001b[0;32mTrue\u001b[0m\u001b[0;34m\u001b[0m\u001b[0;34m\u001b[0m\u001b[0m\n\u001b[1;32m    653\u001b[0m                     \u001b[0;32mtry\u001b[0m\u001b[0;34m:\u001b[0m\u001b[0;34m\u001b[0m\u001b[0;34m\u001b[0m\u001b[0m\n\u001b[0;32m--> 654\u001b[0;31m                         \u001b[0mcurrent\u001b[0m\u001b[0;34m.\u001b[0m\u001b[0mresult\u001b[0m \u001b[0;34m=\u001b[0m \u001b[0mcallback\u001b[0m\u001b[0;34m(\u001b[0m\u001b[0mcurrent\u001b[0m\u001b[0;34m.\u001b[0m\u001b[0mresult\u001b[0m\u001b[0;34m,\u001b[0m \u001b[0;34m*\u001b[0m\u001b[0margs\u001b[0m\u001b[0;34m,\u001b[0m \u001b[0;34m**\u001b[0m\u001b[0mkw\u001b[0m\u001b[0;34m)\u001b[0m\u001b[0;34m\u001b[0m\u001b[0;34m\u001b[0m\u001b[0m\n\u001b[0m\u001b[1;32m    655\u001b[0m                         \u001b[0;32mif\u001b[0m \u001b[0mcurrent\u001b[0m\u001b[0;34m.\u001b[0m\u001b[0mresult\u001b[0m \u001b[0;32mis\u001b[0m \u001b[0mcurrent\u001b[0m\u001b[0;34m:\u001b[0m\u001b[0;34m\u001b[0m\u001b[0;34m\u001b[0m\u001b[0m\n\u001b[1;32m    656\u001b[0m                             warnAboutFunction(\n",
      "\u001b[0;32m~/anaconda3/envs/korbenware/lib/python3.7/site-packages/txdbus/client.py\u001b[0m in \u001b[0;36merr\u001b[0;34m(e)\u001b[0m\n\u001b[1;32m    441\u001b[0m         \u001b[0;32mdef\u001b[0m \u001b[0merr\u001b[0m\u001b[0;34m(\u001b[0m\u001b[0me\u001b[0m\u001b[0;34m)\u001b[0m\u001b[0;34m:\u001b[0m\u001b[0;34m\u001b[0m\u001b[0;34m\u001b[0m\u001b[0m\n\u001b[1;32m    442\u001b[0m             raise error.IntrospectionFailed(\n\u001b[0;32m--> 443\u001b[0;31m                 \u001b[0;34m'Introspection Failed: '\u001b[0m \u001b[0;34m+\u001b[0m \u001b[0me\u001b[0m\u001b[0;34m.\u001b[0m\u001b[0mgetErrorMessage\u001b[0m\u001b[0;34m(\u001b[0m\u001b[0;34m)\u001b[0m\u001b[0;34m\u001b[0m\u001b[0;34m\u001b[0m\u001b[0m\n\u001b[0m\u001b[1;32m    444\u001b[0m             )\n\u001b[1;32m    445\u001b[0m \u001b[0;34m\u001b[0m\u001b[0m\n",
      "\u001b[0;31mIntrospectionFailed\u001b[0m: Introspection Failed: org.freedesktop.DBus.Error.ServiceUnknown: The name org.example was not provided by any .service files"
     ]
    }
   ],
   "source": [
    "from twisted.internet import reactor\n",
    "from txdbus import client\n",
    "\n",
    "# txdbus can reflect off remote objects without a specified schema\n",
    "remote_obj = await conn.getRemoteObject('org.example', '/MyObjPath')\n",
    "\n",
    "result = await remote_obj.callRemote('Ping')\n",
    "\n",
    "print(result)"
   ]
  },
  {
   "cell_type": "code",
   "execution_count": 6,
   "metadata": {
    "collapsed": false,
    "inputHidden": false,
    "jupyter": {
     "outputs_hidden": false
    },
    "outputHidden": false
   },
   "outputs": [
    {
     "name": "stdout",
     "output_type": "stream",
     "text": [
      "None\n"
     ]
    }
   ],
   "source": [
    "# Calling remote on the conn directly - no reflection but\n",
    "# more flexible\n",
    "result = await conn.callRemote('/AnyValidObjPath', 'Ping',\n",
    "                               interface='org.freedesktop.DBus.Peer',\n",
    "                               destination='org.freedesktop.Notifications')\n",
    "\n",
    "print(result)"
   ]
  },
  {
   "cell_type": "code",
   "execution_count": 7,
   "metadata": {
    "collapsed": false,
    "inputHidden": false,
    "jupyter": {
     "outputs_hidden": false
    },
    "outputHidden": false
   },
   "outputs": [],
   "source": [
    "from txdbus.interface import DBusInterface, Method\n",
    "\n",
    "peer_iface = DBusInterface(\n",
    "    'org.freedesktop.DBus.Peer',\n",
    "    # This method takes no arguments\n",
    "    Method('Ping')\n",
    "    # can also do things like Method('full', arguments='s', returns='i') for a function str -> int\n",
    "    # also a Signal type that I think is for pubsub but takes the same arguments\n",
    ")\n",
    "\n",
    "remote_obj = await conn.getRemoteObject('org.freedesktop.Notifications', '/MyObjPath', peer_iface)\n",
    "\n",
    "await remote_obj.callRemote('Ping')"
   ]
  },
  {
   "cell_type": "code",
   "execution_count": 8,
   "metadata": {
    "collapsed": false,
    "inputHidden": false,
    "jupyter": {
     "outputs_hidden": false
    },
    "outputHidden": false
   },
   "outputs": [
    {
     "data": {
      "text/plain": [
       "1"
      ]
     },
     "execution_count": 8,
     "metadata": {},
     "output_type": "execute_result"
    }
   ],
   "source": [
    "from twisted.internet import reactor, defer\n",
    "from txdbus import client, objects\n",
    "from txdbus.interface import DBusInterface, Method\n",
    "\n",
    "class MyObj(objects.DBusObject):\n",
    "    iface = DBusInterface(\n",
    "        'org.example.MyIFace',\n",
    "        Method('exampleMethod', arguments='s', returns='s')\n",
    "    )\n",
    "    \n",
    "    dbusInterfaces = [iface]\n",
    "    \n",
    "    def __init__(self, objectPath):\n",
    "        super().__init__(objectPath)\n",
    "        \n",
    "    def dbus_exampleMethod(self, arg):\n",
    "        print(f'received: {arg}')\n",
    "        return f'You sent: {arg}'\n",
    "\n",
    "conn.exportObject(MyObj('/MyObjPath'))\n",
    "\n",
    "await conn.requestBusName('org.example')"
   ]
  },
  {
   "cell_type": "code",
   "execution_count": 9,
   "metadata": {
    "collapsed": false,
    "inputHidden": false,
    "jupyter": {
     "outputs_hidden": false
    },
    "outputHidden": false
   },
   "outputs": [
    {
     "name": "stdout",
     "output_type": "stream",
     "text": [
      "received: ping!\n"
     ]
    },
    {
     "data": {
      "text/plain": [
       "'You sent: ping!'"
      ]
     },
     "execution_count": 9,
     "metadata": {},
     "output_type": "execute_result"
    }
   ],
   "source": [
    "remote_obj = await conn.getRemoteObject('org.example', '/MyObjPath')\n",
    "\n",
    "reply = await remote_obj.callRemote('exampleMethod', 'ping!')\n",
    "\n",
    "reply"
   ]
  },
  {
   "cell_type": "code",
   "execution_count": 10,
   "metadata": {
    "collapsed": false,
    "inputHidden": false,
    "jupyter": {
     "outputs_hidden": false
    },
    "outputHidden": false
   },
   "outputs": [
    {
     "data": {
      "text/plain": [
       "4"
      ]
     },
     "execution_count": 10,
     "metadata": {},
     "output_type": "execute_result"
    }
   ],
   "source": [
    "from txdbus.interface import Property\n",
    "from txdbus.objects import DBusProperty\n",
    "\n",
    "class MyOtherObj(objects.DBusObject):\n",
    "    iface = DBusInterface(\n",
    "        'org.example.MyOtherIFace',\n",
    "        Property('foo', 's', writeable=True)\n",
    "    )\n",
    "    \n",
    "    dbusInterfaces = [iface]\n",
    "    \n",
    "    foo = DBusProperty('foo')\n",
    "    \n",
    "    def __init__(self, objectPath):\n",
    "        super().__init__(objectPath)\n",
    "        \n",
    "        self.foo = 'bar'\n",
    "\n",
    "conn.exportObject(MyOtherObj('/MyOtherObjPath'))\n",
    "\n",
    "await conn.requestBusName('org.example')"
   ]
  },
  {
   "cell_type": "code",
   "execution_count": 11,
   "metadata": {
    "collapsed": false,
    "inputHidden": false,
    "jupyter": {
     "outputs_hidden": false
    },
    "outputHidden": false
   },
   "outputs": [
    {
     "name": "stdout",
     "output_type": "stream",
     "text": [
      "bar\n"
     ]
    },
    {
     "data": {
      "text/plain": [
       "'baz'"
      ]
     },
     "execution_count": 11,
     "metadata": {},
     "output_type": "execute_result"
    }
   ],
   "source": [
    "remote_obj = await conn.getRemoteObject('org.example', '/MyOtherObjPath')\n",
    "\n",
    "foo = await remote_obj.callRemote('Get', '', 'foo')\n",
    "\n",
    "print(foo)\n",
    "\n",
    "await remote_obj.callRemote('Set', '', 'foo', 'baz')\n",
    "\n",
    "await remote_obj.callRemote('Get', '', 'foo')"
   ]
  },
  {
   "cell_type": "code",
   "execution_count": 21,
   "metadata": {
    "collapsed": false,
    "inputHidden": false,
    "jupyter": {
     "outputs_hidden": false
    },
    "outputHidden": false
   },
   "outputs": [
    {
     "data": {
      "text/plain": [
       "4"
      ]
     },
     "execution_count": 21,
     "metadata": {},
     "output_type": "execute_result"
    }
   ],
   "source": [
    "from twisted.internet.defer import ensureDeferred\n",
    "from functools import wraps\n",
    "\n",
    "def returns_deferred(f):\n",
    "    @wraps(f)\n",
    "    def wrapped(*args, **kwargs):\n",
    "        return ensureDeferred(f(*args, **kwargs))\n",
    "      \n",
    "    return wrapped\n",
    "  \n",
    "\n",
    "# This doesn't work because my lil' example object doesn't\n",
    "# support it I guess?\n",
    "class IdentityExample(objects.DBusObject):\n",
    "    iface = DBusInterface(\n",
    "        'org.example.IdentityExampleIFace',\n",
    "        Method('identityExample', returns='s')\n",
    "    )\n",
    "    \n",
    "    dbusInterfaces = [iface]\n",
    "    \n",
    "    @returns_deferred\n",
    "    async def dbus_identityExample(self, dbusCaller=None):\n",
    "        if dbusCaller:\n",
    "            user = await self.getConnection().getConnectionUnixUser(dbusCaller)\n",
    "            \n",
    "        else:\n",
    "            user = None\n",
    "            \n",
    "        return f'Your user: {user}'\n",
    "      \n",
    "conn.exportObject(IdentityExample('/IdentityExample'))\n",
    "\n",
    "await conn.requestBusName('org.example')"
   ]
  },
  {
   "cell_type": "code",
   "execution_count": 22,
   "metadata": {
    "collapsed": false,
    "inputHidden": false,
    "jupyter": {
     "outputs_hidden": false
    },
    "outputHidden": false
   },
   "outputs": [
    {
     "data": {
      "text/plain": [
       "'Your user: None'"
      ]
     },
     "execution_count": 22,
     "metadata": {},
     "output_type": "execute_result"
    }
   ],
   "source": [
    "identity_remote = await conn.getRemoteObject('org.example', '/IdentityExample')\n",
    "\n",
    "await identity_remote.callRemote('identityExample')"
   ]
  },
  {
   "cell_type": "code",
   "execution_count": 14,
   "metadata": {
    "collapsed": false,
    "inputHidden": false,
    "jupyter": {
     "outputs_hidden": false
    },
    "outputHidden": false
   },
   "outputs": [],
   "source": []
  },
  {
   "cell_type": "code",
   "execution_count": 14,
   "metadata": {
    "collapsed": false,
    "inputHidden": false,
    "jupyter": {
     "outputs_hidden": false
    },
    "outputHidden": false
   },
   "outputs": [],
   "source": []
  }
 ],
 "metadata": {
  "kernel_info": {
   "name": "korbenware"
  },
  "kernelspec": {
   "display_name": "Python 3",
   "language": "python",
   "name": "python3"
  },
  "language_info": {
   "codemirror_mode": {
    "name": "ipython",
    "version": 3
   },
   "file_extension": ".py",
   "mimetype": "text/x-python",
   "name": "python",
   "nbconvert_exporter": "python",
   "pygments_lexer": "ipython3",
   "version": "3.8.6"
  },
  "nteract": {
   "version": "0.14.3"
  }
 },
 "nbformat": 4,
 "nbformat_minor": 4
}
