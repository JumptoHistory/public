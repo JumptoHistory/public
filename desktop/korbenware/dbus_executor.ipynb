{
 "cells": [
  {
   "cell_type": "code",
   "execution_count": null,
   "metadata": {},
   "outputs": [],
   "source": [
    "# Copyright 2020 Josh Holbrook\n",
    "#\n",
    "# This Source Code Form is subject to the terms of the Mozilla Public\n",
    "# License, v. 2.0. If a copy of the MPL was not distributed with this\n",
    "# file, You can obtain one at https://mozilla.org/MPL/2.0/."
   ]
  },
  {
   "cell_type": "code",
   "execution_count": 1,
   "metadata": {
    "collapsed": false,
    "inputHidden": false,
    "jupyter": {
     "outputs_hidden": false
    },
    "outputHidden": false
   },
   "outputs": [],
   "source": [
    "%load_ext twisted_ipython\n",
    "%autoawait twisted"
   ]
  },
  {
   "cell_type": "code",
   "execution_count": 3,
   "metadata": {
    "collapsed": false,
    "inputHidden": false,
    "jupyter": {
     "outputs_hidden": false
    },
    "outputHidden": false
   },
   "outputs": [],
   "source": [
    "import attr\n",
    "from twisted.internet import reactor\n",
    "from txdbus import client as txdbus_client\n",
    "\n",
    "from korbenware.config import load_config, config_dbus_object\n",
    "from korbenware.dbus import Service\n",
    "from korbenware.executor import BaseExecutor, DBusExecutor\n",
    "from korbenware.open import ApplicationFinder, exec_key_fields\n",
    "from korbenware.urls import UrlRegistry\n",
    "from korbenware.xdg.applications import ApplicationsRegistry\n",
    "from korbenware.xdg.mime import MimeRegistry\n"
   ]
  },
  {
   "cell_type": "code",
   "execution_count": 4,
   "metadata": {
    "collapsed": false,
    "inputHidden": false,
    "jupyter": {
     "outputs_hidden": false
    },
    "outputHidden": false
   },
   "outputs": [],
   "source": [
    "config = load_config()\n",
    "\n",
    "applications = ApplicationsRegistry(config)\n",
    "mime = MimeRegistry(config, applications)\n",
    "urls = UrlRegistry(config, applications)\n",
    "finder = ApplicationFinder(urls, mime)\n",
    "\n",
    "app = finder.get_by_url_or_file('https://www.google.com')\n",
    "\n",
    "conn = await txdbus_client.connect(reactor)\n",
    "\n",
    "service = Service('org.jfhbrook.korbenware')\n",
    "\n",
    "# executor = DBusExecutor(service)\n",
    "\n",
    "# underlying = Executor(applications=applications)\n",
    "\n",
    "remote_config = config_dbus_object(service, config)\n"
   ]
  },
  {
   "cell_type": "code",
   "execution_count": 5,
   "metadata": {
    "collapsed": false,
    "inputHidden": false,
    "jupyter": {
     "outputs_hidden": false
    },
    "outputHidden": false
   },
   "outputs": [],
   "source": [
    "server = await service.server(conn)\n",
    "\n",
    "client = await service.client(conn)"
   ]
  },
  {
   "cell_type": "code",
   "execution_count": 6,
   "metadata": {
    "collapsed": false,
    "inputHidden": false,
    "jupyter": {
     "outputs_hidden": false
    },
    "outputHidden": false
   },
   "outputs": [
    {
     "data": {
      "text/plain": [
       "BaseConfig(\n",
       "    autostart={'directories': ['/home/josh/.config/autostart',\n",
       "      '/etc/xdg/autostart'],\n",
       "     'environment_name': 'korbenware',\n",
       "     'skip_unparsed': False,\n",
       "     'skip_invalid': False},\n",
       "    meta={'config_filename': '/home/josh/.config/korbenware/korbenware.toml'},\n",
       "    menu={'filename': '/etc/xdg/menus/arch-applications.menu'},\n",
       "    mime={'cache': '/usr/share/applications/mimeinfo.cache',\n",
       "     'environment': 'korbenware'},\n",
       "    applications={'directories': ['/home/josh/.local/share/applications',\n",
       "      '/usr/share/applications'],\n",
       "     'skip_unparsed': False,\n",
       "     'skip_invalid': False},\n",
       "    logger={'level': 'warn'},\n",
       "    urls={'http': 'firefox.desktop', 'https': 'firefox.desktop'})"
      ]
     },
     "execution_count": 6,
     "metadata": {},
     "output_type": "execute_result"
    }
   ],
   "source": [
    "await client.korbenware.Config.get_base_config()"
   ]
  },
  {
   "cell_type": "code",
   "execution_count": 7,
   "metadata": {
    "collapsed": false,
    "inputHidden": false,
    "jupyter": {
     "outputs_hidden": false
    },
    "outputHidden": false
   },
   "outputs": [],
   "source": []
  }
 ],
 "metadata": {
  "kernel_info": {
   "name": "korbenware"
  },
  "kernelspec": {
   "display_name": "korbenware",
   "language": "python",
   "name": "korbenware"
  },
  "language_info": {
   "codemirror_mode": {
    "name": "ipython",
    "version": 3
   },
   "file_extension": ".py",
   "mimetype": "text/x-python",
   "name": "python",
   "nbconvert_exporter": "python",
   "pygments_lexer": "ipython3",
   "version": "3.7.2"
  },
  "nteract": {
   "version": "0.14.3"
  }
 },
 "nbformat": 4,
 "nbformat_minor": 4
}
