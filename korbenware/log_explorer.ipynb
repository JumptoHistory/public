{
 "cells": [
  {
   "cell_type": "code",
   "execution_count": 1,
   "metadata": {},
   "outputs": [],
   "source": [
    "%load_ext twisted_ipython\n",
    "%autoawait twisted"
   ]
  },
  {
   "cell_type": "code",
   "execution_count": 2,
   "metadata": {},
   "outputs": [],
   "source": [
    "import ipywidgets as widgets\n",
    "import pandas as pd\n",
    "\n",
    "from korbenware.config import load_config\n",
    "from korbenware.logger import create_logger, PandasObserver, publisher, LEVEL_BY_NAME"
   ]
  },
  {
   "cell_type": "code",
   "execution_count": 3,
   "metadata": {},
   "outputs": [],
   "source": [
    "observer = PandasObserver()\n",
    "publisher.addObserver(observer)\n",
    "\n",
    "logger = create_logger(namespace='testing')"
   ]
  },
  {
   "cell_type": "code",
   "execution_count": 4,
   "metadata": {},
   "outputs": [],
   "source": [
    "logger.debug('test debug message')\n",
    "logger.info('test info message')\n",
    "logger.warn('test warning message')"
   ]
  },
  {
   "cell_type": "code",
   "execution_count": 5,
   "metadata": {},
   "outputs": [
    {
     "data": {
      "text/html": [
       "<div>\n",
       "<style scoped>\n",
       "    .dataframe tbody tr th:only-of-type {\n",
       "        vertical-align: middle;\n",
       "    }\n",
       "\n",
       "    .dataframe tbody tr th {\n",
       "        vertical-align: top;\n",
       "    }\n",
       "\n",
       "    .dataframe thead th {\n",
       "        text-align: right;\n",
       "    }\n",
       "</style>\n",
       "<table border=\"1\" class=\"dataframe\">\n",
       "  <thead>\n",
       "    <tr style=\"text-align: right;\">\n",
       "      <th></th>\n",
       "      <th>timestamp</th>\n",
       "      <th>level</th>\n",
       "      <th>namespace</th>\n",
       "      <th>message</th>\n",
       "      <th>failure</th>\n",
       "      <th>traceback</th>\n",
       "      <th>event</th>\n",
       "    </tr>\n",
       "  </thead>\n",
       "  <tbody>\n",
       "    <tr>\n",
       "      <th>0</th>\n",
       "      <td>2020-06-24 22:26:56.899242</td>\n",
       "      <td>debug</td>\n",
       "      <td>testing</td>\n",
       "      <td>test debug message</td>\n",
       "      <td>None</td>\n",
       "      <td>None</td>\n",
       "      <td>{'log_logger': &lt;Logger 'testing'&gt;, 'log_level'...</td>\n",
       "    </tr>\n",
       "    <tr>\n",
       "      <th>1</th>\n",
       "      <td>2020-06-24 22:26:56.907698</td>\n",
       "      <td>info</td>\n",
       "      <td>testing</td>\n",
       "      <td>test info message</td>\n",
       "      <td>None</td>\n",
       "      <td>None</td>\n",
       "      <td>{'log_logger': &lt;Logger 'testing'&gt;, 'log_level'...</td>\n",
       "    </tr>\n",
       "    <tr>\n",
       "      <th>2</th>\n",
       "      <td>2020-06-24 22:26:56.916026</td>\n",
       "      <td>warn</td>\n",
       "      <td>testing</td>\n",
       "      <td>test warning message</td>\n",
       "      <td>None</td>\n",
       "      <td>None</td>\n",
       "      <td>{'log_logger': &lt;Logger 'testing'&gt;, 'log_level'...</td>\n",
       "    </tr>\n",
       "  </tbody>\n",
       "</table>\n",
       "</div>"
      ],
      "text/plain": [
       "                   timestamp  level namespace               message failure  \\\n",
       "0 2020-06-24 22:26:56.899242  debug   testing    test debug message    None   \n",
       "1 2020-06-24 22:26:56.907698   info   testing     test info message    None   \n",
       "2 2020-06-24 22:26:56.916026   warn   testing  test warning message    None   \n",
       "\n",
       "  traceback                                              event  \n",
       "0      None  {'log_logger': <Logger 'testing'>, 'log_level'...  \n",
       "1      None  {'log_logger': <Logger 'testing'>, 'log_level'...  \n",
       "2      None  {'log_logger': <Logger 'testing'>, 'log_level'...  "
      ]
     },
     "execution_count": 5,
     "metadata": {},
     "output_type": "execute_result"
    }
   ],
   "source": [
    "observer.df"
   ]
  },
  {
   "cell_type": "code",
   "execution_count": 24,
   "metadata": {},
   "outputs": [],
   "source": [
    "class LevelController:\n",
    "    def __init__(self, update):\n",
    "        self.update = update\n",
    "        self.selectors = []\n",
    "        self.values = {}\n",
    "        \n",
    "        for level in LEVEL_BY_NAME.keys():\n",
    "            w = widgets.Checkbox(\n",
    "                value=True,\n",
    "                description=level\n",
    "            )\n",
    "            self.values[level] = True\n",
    "            \n",
    "            w.observe(self._checkbox_observer(level), names='value')\n",
    "            \n",
    "            self.selectors.append(w)\n",
    "            \n",
    "        self.widget = widgets.VBox(self.selectors)\n",
    "        \n",
    "    def _checkbox_observer(self, level):\n",
    "        def observer(change):\n",
    "            self.values[level] = change.new\n",
    "            self.update()\n",
    "        return observer\n",
    "    \n",
    "    def df_filter(self, df):\n",
    "        f = None\n",
    "        \n",
    "        for level, value in self.values.items():\n",
    "            if value:\n",
    "                if f is None:\n",
    "                    f = df['level'] == level\n",
    "                else:\n",
    "                    f = f | (df['level'] == level)\n",
    "        \n",
    "        return f"
   ]
  },
  {
   "cell_type": "code",
   "execution_count": 26,
   "metadata": {},
   "outputs": [
    {
     "data": {
      "application/vnd.jupyter.widget-view+json": {
       "model_id": "35694378c07246b19bcbd18953db79a9",
       "version_major": 2,
       "version_minor": 0
      },
      "text/plain": [
       "VBox(children=(VBox(children=(Checkbox(value=True, description='debug'), Checkbox(value=True, description='inf…"
      ]
     },
     "metadata": {},
     "output_type": "display_data"
    }
   ],
   "source": [
    "class ExplorerController:\n",
    "    def __init__(self):\n",
    "        self.observer = observer\n",
    "        \n",
    "        self.level_controller = LevelController(self._refresh)\n",
    "        self.output = widgets.Output()\n",
    "        \n",
    "        self.widget = widgets.VBox([\n",
    "            self.level_controller.widget,\n",
    "            self.output\n",
    "        ])\n",
    "        \n",
    "        self._refresh()\n",
    "        \n",
    "    def _refresh(self):\n",
    "        self.output.clear_output()\n",
    "        with self.output:\n",
    "            filter = self.level_controller.df_filter(self.observer.df)\n",
    "            if filter:\n",
    "                display(self.observer.df[self.level_controller.df_filter(self.observer.df)])\n",
    "            else:\n",
    "                display(self.observer.df)\n",
    "            \n",
    "explorer_controller = ExplorerController()\n",
    "\n",
    "explorer_controller.widget"
   ]
  },
  {
   "cell_type": "code",
   "execution_count": null,
   "metadata": {},
   "outputs": [],
   "source": []
  },
  {
   "cell_type": "code",
   "execution_count": null,
   "metadata": {},
   "outputs": [],
   "source": []
  }
 ],
 "metadata": {
  "kernelspec": {
   "display_name": "korbenware",
   "language": "python",
   "name": "korbenware"
  },
  "language_info": {
   "codemirror_mode": {
    "name": "ipython",
    "version": 3
   },
   "file_extension": ".py",
   "mimetype": "text/x-python",
   "name": "python",
   "nbconvert_exporter": "python",
   "pygments_lexer": "ipython3",
   "version": "3.7.6"
  }
 },
 "nbformat": 4,
 "nbformat_minor": 4
}
