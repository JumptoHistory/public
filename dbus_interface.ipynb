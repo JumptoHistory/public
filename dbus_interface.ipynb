{
  "cells": [
    {
      "cell_type": "code",
      "source": [
        "%load_ext twisted_ipython\n",
        "%autoawait twisted"
      ],
      "outputs": [],
      "execution_count": 1,
      "metadata": {
        "collapsed": false,
        "outputHidden": false,
        "inputHidden": false
      }
    },
    {
      "cell_type": "code",
      "source": [
        "import attr\n",
        "from twisted.internet import reactor\n",
        "from txdbus import client\n",
        "from pyxsession.dbus.marshmallow.schema import DBUS_FIELD\n",
        "from pyxsession.dbus.marshmallow.fields import (\n",
        "    DBusField, Int32, UInt32, Str, List, Tuple\n",
        ")\n",
        "from pyxsession.dbus.service import Service\n",
        "\n",
        "\n",
        "@attr.s\n",
        "class Payload:\n",
        "    message = attr.ib(default='', metadata={DBUS_FIELD: Str()})\n",
        "\n"
      ],
      "outputs": [],
      "execution_count": 2,
      "metadata": {
        "collapsed": false,
        "outputHidden": false,
        "inputHidden": false
      }
    },
    {
      "cell_type": "code",
      "source": [
        "test_service = Service('org.jfhbrook.testing123')\n",
        "\n",
        "echo_obj = test_service.obj('/Echo')\n",
        "\n",
        "echo_obj.property('test_prop', Str(), 'some default', writeable=True)\n",
        "\n",
        "@echo_obj.method([Payload], Str())\n",
        "def echo(payload):\n",
        "    return f'You said: {payload.message}'"
      ],
      "outputs": [],
      "execution_count": 3,
      "metadata": {
        "collapsed": false,
        "outputHidden": false,
        "inputHidden": false
      }
    },
    {
      "cell_type": "code",
      "source": [
        "conn = await client.connect(reactor)"
      ],
      "outputs": [],
      "execution_count": 4,
      "metadata": {
        "collapsed": false,
        "outputHidden": false,
        "inputHidden": false
      }
    },
    {
      "cell_type": "code",
      "source": [
        "server = await test_service.server(conn)\n",
        "\n",
        "server"
      ],
      "outputs": [
        {
          "output_type": "execute_result",
          "execution_count": 5,
          "data": {
            "text/plain": [
              "Server(connection=<txdbus.client.DBusClientConnection object at 0x7f50844f5390>, service=<pyxsession.dbus.service.Service object at 0x7f50844f5438>, bus_name=1, dbus_obj_cls=<class 'pyxsession.dbus.server.Echo'>, dbus_obj=<pyxsession.dbus.server.Echo object at 0x7f50844331d0>)"
            ]
          },
          "metadata": {}
        }
      ],
      "execution_count": 5,
      "metadata": {
        "collapsed": false,
        "outputHidden": false,
        "inputHidden": false
      }
    },
    {
      "cell_type": "code",
      "source": [
        "client = await test_service.client(conn)\n",
        "\n",
        "client"
      ],
      "outputs": [
        {
          "output_type": "execute_result",
          "execution_count": 6,
          "data": {
            "text/plain": [
              "Client(service=<pyxsession.dbus.service.Service object at 0x7f50844f5438>, remote_objs={'/Echo': <txdbus.objects.RemoteDBusObject object at 0x7f5084419b38>})"
            ]
          },
          "metadata": {}
        }
      ],
      "execution_count": 6,
      "metadata": {
        "collapsed": false,
        "outputHidden": false,
        "inputHidden": false
      }
    },
    {
      "cell_type": "code",
      "source": [
        "print(await client.Echo.get_property('test_prop'))\n",
        "await client.Echo.set_property('test_prop', 'pony')\n",
        "\n",
        "await client.Echo.get_property('test_prop')"
      ],
      "outputs": [
        {
          "output_type": "stream",
          "name": "stdout",
          "text": [
            "some default\n"
          ]
        },
        {
          "output_type": "execute_result",
          "execution_count": 7,
          "data": {
            "text/plain": [
              "'pony'"
            ]
          },
          "metadata": {}
        }
      ],
      "execution_count": 7,
      "metadata": {
        "collapsed": false,
        "outputHidden": false,
        "inputHidden": false
      }
    },
    {
      "cell_type": "code",
      "source": [],
      "outputs": [],
      "execution_count": 8,
      "metadata": {
        "collapsed": false,
        "outputHidden": false,
        "inputHidden": false
      }
    },
    {
      "cell_type": "code",
      "source": [],
      "outputs": [],
      "execution_count": 8,
      "metadata": {
        "collapsed": false,
        "outputHidden": false,
        "inputHidden": false
      }
    }
  ],
  "metadata": {
    "kernel_info": {
      "name": "pyxsession"
    },
    "language_info": {
      "name": "python",
      "version": "3.7.2",
      "mimetype": "text/x-python",
      "codemirror_mode": {
        "name": "ipython",
        "version": 3
      },
      "pygments_lexer": "ipython3",
      "nbconvert_exporter": "python",
      "file_extension": ".py"
    },
    "kernelspec": {
      "name": "pyxsession",
      "language": "python",
      "display_name": "pyxsession"
    },
    "nteract": {
      "version": "0.14.3"
    }
  },
  "nbformat": 4,
  "nbformat_minor": 0
}