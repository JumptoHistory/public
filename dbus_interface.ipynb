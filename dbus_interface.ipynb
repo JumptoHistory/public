{
  "cells": [
    {
      "cell_type": "code",
      "source": [
        "%load_ext twisted_ipython\n",
        "%autoawait twisted"
      ],
      "outputs": [
        {
          "output_type": "stream",
          "name": "stdout",
          "text": [
            "The twisted_ipython extension is already loaded. To reload it, use:\n",
            "  %reload_ext twisted_ipython\n"
          ]
        }
      ],
      "execution_count": 2,
      "metadata": {
        "collapsed": false,
        "outputHidden": false,
        "inputHidden": false
      }
    },
    {
      "cell_type": "code",
      "source": [
        "from twisted.internet import reactor\n",
        "import attr\n",
        "from txdbus import client\n",
        "\n",
        "\n",
        "class _Key:\n",
        "    pass\n",
        "\n",
        "  \n",
        "DBUS_TYPE = _Key()\n",
        "DBUS_TYPE_PARAMS = _Key()\n",
        "\n",
        "\n",
        "@attr.s\n",
        "class Notification:\n",
        "    appname = attr.ib(default='', metadata={DBUS_TYPE:'s'})\n",
        "    replaces = attr.ib(default=0, metadata={DBUS_TYPE: 'u'})\n",
        "    icon = attr.ib(default='', metadata={DBUS_TYPE: 's'})\n",
        "    summary = attr.ib(default='', metadata={DBUS_TYPE: 's'})\n",
        "    message = attr.ib(default='', metadata={DBUS_TYPE: 's'})\n",
        "    actions = attr.ib(default=[], metadata={DBUS_TYPE: 'as'})\n",
        "    hints = attr.ib(default={}, metadata={DBUS_TYPE: 'ae', DBUS_TYPE_PARAMS: ('s', 'v')})\n",
        "    timeout = attr.ib(default=1000, metadata={DBUS_TYPE: 'i'})"
      ],
      "outputs": [],
      "execution_count": 133,
      "metadata": {
        "collapsed": false,
        "outputHidden": false,
        "inputHidden": false
      }
    },
    {
      "cell_type": "code",
      "source": [
        "STRUCTURE_TYPES = {\n",
        "    'r': ('(', ')'),\n",
        "    'e': ('{', '}')\n",
        "}\n",
        "\n",
        "def dbus_signature(typ):\n",
        "    \"\"\"\n",
        "    class -> dbus signature\n",
        "    \"\"\"\n",
        "    if isinstance(typ, list) or isinstance(typ, tuple):\n",
        "        return ''.join([\n",
        "            dbus_signature(subtype)\n",
        "            for subtype in typ\n",
        "        ])\n",
        "\n",
        "    signature = ''\n",
        "    \n",
        "    for attr in typ.__attrs_attrs__:\n",
        "        if DBUS_TYPE_PARAMS in attr.metadata:\n",
        "            base_type = attr.metadata[DBUS_TYPE]\n",
        "            params = attr.metadata[DBUS_TYPE_PARAMS]\n",
        "            \n",
        "            for t in base_type:\n",
        "                if t in STRUCTURE_TYPES:\n",
        "                    left, right = STRUCTURE_TYPES[t]\n",
        "                    signature += left\n",
        "                    # May either be a list of elements\n",
        "                    # or a single set\n",
        "                    if type(params) == list:\n",
        "                        param = params.pop(0)\n",
        "                    else:\n",
        "                        param = params\n",
        "                        \n",
        "                    # May be a single string or a tuple\n",
        "                    if type(param) == str:\n",
        "                       param = [param]\n",
        "                    for p in param:\n",
        "                        if type(p) == str:\n",
        "                            signature += p\n",
        "                        else:\n",
        "                            signature += dbus_signature(p)\n",
        "                    signature += right\n",
        "                else:\n",
        "                   signature += t\n",
        "        else:\n",
        "            signature += attr.metadata[DBUS_TYPE]\n",
        "        \n",
        "    return signature"
      ],
      "outputs": [],
      "execution_count": 134,
      "metadata": {
        "collapsed": false,
        "outputHidden": false,
        "inputHidden": false
      }
    },
    {
      "cell_type": "code",
      "source": [
        "dbus_signature(Notification)"
      ],
      "outputs": [
        {
          "output_type": "execute_result",
          "execution_count": 135,
          "data": {
            "text/plain": [
              "'susssasa{sv}i'"
            ]
          },
          "metadata": {}
        }
      ],
      "execution_count": 135,
      "metadata": {
        "collapsed": false,
        "outputHidden": false,
        "inputHidden": false
      }
    },
    {
      "cell_type": "code",
      "source": [
        "def dbus_marshall(data_structure):\n",
        "    \"\"\"\n",
        "    data structure -> thing txdbus can send\n",
        "    \"\"\"\n",
        "    if isinstance(data_structure, list) or isinstance(data_structure, tuple):\n",
        "        rv = [\n",
        "            dbus_marshall(element)\n",
        "            for element in data_structure\n",
        "        ]\n",
        "        return [rv]\n",
        "    elif isinstance(data_structure, dict):\n",
        "        return [{k: dbus_marshall(v)[0] for k, v in data_structure.items()}]\n",
        "    elif hasattr(data_structure.__class__, '__attrs_attrs__'):\n",
        "        ret = []\n",
        "        attrs = data_structure.__class__.__attrs_attrs__\n",
        "\n",
        "        for attr in attrs:\n",
        "            value = getattr(data_structure, attr.name)\n",
        "            ret += dbus_marshall(value)\n",
        "        return ret\n",
        "    else:\n",
        "       return [data_structure]"
      ],
      "outputs": [],
      "execution_count": 163,
      "metadata": {
        "collapsed": false,
        "outputHidden": false,
        "inputHidden": false
      }
    },
    {
      "cell_type": "code",
      "source": [
        "dbus_marshall(Notification(appname='jupyter', summary='an important message', message='my dog', timeout=5000, hints={'key': 'bro'}))"
      ],
      "outputs": [
        {
          "output_type": "execute_result",
          "execution_count": 164,
          "data": {
            "text/plain": [
              "['jupyter', 0, '', 'an important message', 'my dog', [], {'key': 'bro'}, 5000]"
            ]
          },
          "metadata": {}
        }
      ],
      "execution_count": 164,
      "metadata": {
        "collapsed": false,
        "outputHidden": false,
        "inputHidden": false
      }
    },
    {
      "cell_type": "code",
      "source": [
        "conn = await client.connect(reactor, 'session')\n",
        "\n",
        "notifier = await conn.getRemoteObject('org.freedesktop.Notifications', '/org/freedesktop/Notifications')"
      ],
      "outputs": [
        {
          "output_type": "execute_result",
          "execution_count": 165,
          "data": {
            "text/plain": [
              "<Deferred at 0x7f4abb2e8ef0>"
            ]
          },
          "metadata": {}
        }
      ],
      "execution_count": 165,
      "metadata": {
        "collapsed": false,
        "outputHidden": false,
        "inputHidden": false
      }
    },
    {
      "cell_type": "code",
      "source": [
        "from txdbus.interface import DBusInterface, Method\n",
        "\n",
        "iface = DBusInterface(\n",
        "    'org.freedesktop.Notifications',\n",
        "    Method('Notify', arguments=dbus_signature(Notification), returns='u')\n",
        ")\n",
        "\n",
        "unreflected = await conn.getRemoteObject(\n",
        "    'org.freedesktop.Notifications',\n",
        "    '/org/freedesktop/Notifications',\n",
        "    iface\n",
        ")\n",
        "\n",
        "await unreflected.callRemote('Notify', *dbus_marshall(Notification(appname='jupyter', summary='an important message', message='my dog', timeout=5000)))"
      ],
      "outputs": [
        {
          "output_type": "execute_result",
          "execution_count": 171,
          "data": {
            "text/plain": [
              "47"
            ]
          },
          "metadata": {}
        }
      ],
      "execution_count": 171,
      "metadata": {
        "collapsed": false,
        "outputHidden": false,
        "inputHidden": false
      }
    },
    {
      "cell_type": "code",
      "source": [
        "def dbus_unmarshall(raw, typ):\n",
        "    # TODO\n",
        "    pass"
      ],
      "outputs": [],
      "execution_count": 174,
      "metadata": {
        "collapsed": false,
        "outputHidden": false,
        "inputHidden": false
      }
    },
    {
      "cell_type": "code",
      "source": [],
      "outputs": [],
      "execution_count": null,
      "metadata": {
        "collapsed": false,
        "outputHidden": false,
        "inputHidden": false
      }
    },
    {
      "cell_type": "code",
      "source": [],
      "outputs": [],
      "execution_count": null,
      "metadata": {
        "collapsed": false,
        "outputHidden": false,
        "inputHidden": false
      }
    },
    {
      "cell_type": "code",
      "source": [],
      "outputs": [],
      "execution_count": null,
      "metadata": {
        "collapsed": false,
        "outputHidden": false,
        "inputHidden": false
      }
    }
  ],
  "metadata": {
    "kernel_info": {
      "name": "pyxsession"
    },
    "language_info": {
      "name": "python",
      "version": "3.7.2",
      "mimetype": "text/x-python",
      "codemirror_mode": {
        "name": "ipython",
        "version": 3
      },
      "pygments_lexer": "ipython3",
      "nbconvert_exporter": "python",
      "file_extension": ".py"
    },
    "kernelspec": {
      "name": "pyxsession",
      "language": "python",
      "display_name": "pyxsession"
    },
    "nteract": {
      "version": "0.14.3"
    }
  },
  "nbformat": 4,
  "nbformat_minor": 0
}