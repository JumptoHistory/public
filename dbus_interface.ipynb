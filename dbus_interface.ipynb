{
  "cells": [
    {
      "cell_type": "code",
      "source": [
        "%load_ext twisted_ipython\n",
        "%autoawait twisted"
      ],
      "outputs": [],
      "execution_count": 1,
      "metadata": {
        "collapsed": false,
        "outputHidden": false,
        "inputHidden": false
      }
    },
    {
      "cell_type": "code",
      "source": [
        "import attr\n",
        "from twisted.internet import reactor\n",
        "from txdbus import client\n",
        "\n",
        "from pyxsession.dbus import dbus_attr, Str\n",
        "from pyxsession.dbus import Service\n",
        "\n",
        "\n",
        "@attr.s\n",
        "class Payload:\n",
        "    message = dbus_attr(default='', type=Str())\n"
      ],
      "outputs": [],
      "execution_count": 2,
      "metadata": {
        "collapsed": false,
        "outputHidden": false,
        "inputHidden": false
      }
    },
    {
      "cell_type": "code",
      "source": [
        "test_service = Service('org.jfhbrook.testing123')\n",
        "\n",
        "test_obj = test_service.obj('/TestObj')\n",
        "test_obj.property('test_prop', Str(), 'some default', writeable=True)\n",
        "test_obj.signal('message', Payload)\n",
        "\n",
        "@test_obj.method([Payload], Str())\n",
        "def echo(payload):\n",
        "    return f'You said: {payload.message}'"
      ],
      "outputs": [],
      "execution_count": 3,
      "metadata": {
        "collapsed": false,
        "outputHidden": false,
        "inputHidden": false
      }
    },
    {
      "cell_type": "code",
      "source": [
        "conn = await client.connect(reactor)"
      ],
      "outputs": [],
      "execution_count": 4,
      "metadata": {
        "collapsed": false,
        "outputHidden": false,
        "inputHidden": false
      }
    },
    {
      "cell_type": "code",
      "source": [
        "server = await test_service.server(conn)\n",
        "\n",
        "server"
      ],
      "outputs": [
        {
          "output_type": "execute_result",
          "execution_count": 5,
          "data": {
            "text/plain": [
              "Server(connection=<txdbus.client.DBusClientConnection object at 0x7efcac27ccc0>, service=<pyxsession.dbus.service.Service object at 0x7efcac27cef0>, bus_name=1, dbus_obj_cls=<class 'pyxsession.dbus.server.TestObj'>, dbus_obj=<pyxsession.dbus.server.TestObj object at 0x7efcac1b6e48>)"
            ]
          },
          "metadata": {}
        }
      ],
      "execution_count": 5,
      "metadata": {
        "collapsed": false,
        "outputHidden": false,
        "inputHidden": false
      }
    },
    {
      "cell_type": "code",
      "source": [
        "client = await test_service.client(conn)\n",
        "\n",
        "client"
      ],
      "outputs": [
        {
          "output_type": "execute_result",
          "execution_count": 6,
          "data": {
            "text/plain": [
              "Client(service=<pyxsession.dbus.service.Service object at 0x7efcac27cef0>, remote_objs={'/TestObj': <txdbus.objects.RemoteDBusObject object at 0x7efcac1b6860>})"
            ]
          },
          "metadata": {}
        }
      ],
      "execution_count": 6,
      "metadata": {
        "collapsed": false,
        "outputHidden": false,
        "inputHidden": false
      }
    },
    {
      "cell_type": "code",
      "source": [
        "client.TestObj.on('message', print)\n",
        "\n",
        "server.TestObj.emit('message', Payload('hello there'))"
      ],
      "outputs": [
        {
          "output_type": "stream",
          "name": "stdout",
          "text": [
            "Payload(message='hello there')\n"
          ]
        }
      ],
      "execution_count": 7,
      "metadata": {
        "collapsed": false,
        "outputHidden": false,
        "inputHidden": false
      }
    },
    {
      "cell_type": "code",
      "source": [],
      "outputs": [],
      "execution_count": 8,
      "metadata": {
        "collapsed": false,
        "outputHidden": false,
        "inputHidden": false
      }
    },
    {
      "cell_type": "code",
      "source": [],
      "outputs": [],
      "execution_count": 8,
      "metadata": {
        "collapsed": false,
        "outputHidden": false,
        "inputHidden": false
      }
    }
  ],
  "metadata": {
    "kernel_info": {
      "name": "pyxsession"
    },
    "language_info": {
      "name": "python",
      "version": "3.7.2",
      "mimetype": "text/x-python",
      "codemirror_mode": {
        "name": "ipython",
        "version": 3
      },
      "pygments_lexer": "ipython3",
      "nbconvert_exporter": "python",
      "file_extension": ".py"
    },
    "kernelspec": {
      "name": "pyxsession",
      "language": "python",
      "display_name": "pyxsession"
    },
    "nteract": {
      "version": "0.14.3"
    }
  },
  "nbformat": 4,
  "nbformat_minor": 0
}