{
  "cells": [
    {
      "cell_type": "code",
      "source": [
        "%load_ext twisted_ipython\n",
        "%autoawait twisted"
      ],
      "outputs": [],
      "execution_count": 1,
      "metadata": {
        "collapsed": false,
        "outputHidden": false,
        "inputHidden": false
      }
    },
    {
      "cell_type": "code",
      "source": [
        "import attr\n",
        "from twisted.internet import reactor\n",
        "from txdbus import client\n",
        "from txdbus.interface import DBusInterface, Method, Property, Signal\n",
        "from txdbus.objects import DBusObject, DBusProperty\n",
        "\n",
        "from pyxsession.twisted.util import returns_deferred\n",
        "from pyxsession.dbus.marshmallow.schema import DBUS_FIELD\n",
        "from pyxsession.dbus.marshmallow.fields import (\n",
        "    DBusField, Int32, UInt32, Str, List, Tuple\n",
        ")\n",
        "from pyxsession.dbus.service import Service\n",
        "\n",
        "      \n",
        "@attr.s\n",
        "class Payload:\n",
        "    message = attr.ib(default='', metadata={DBUS_FIELD: Str()})\n",
        "\n"
      ],
      "outputs": [],
      "execution_count": 2,
      "metadata": {
        "collapsed": false,
        "outputHidden": false,
        "inputHidden": false
      }
    },
    {
      "cell_type": "code",
      "source": [
        "test_service = Service('org.jfhbrook.testing123')\n",
        "\n",
        "echo_obj = test_service.obj('/Echo')\n",
        "\n",
        "@echo_obj.method([Payload], Str())\n",
        "def echo(payload):\n",
        "    return f'You said: {payload.message}'"
      ],
      "outputs": [],
      "execution_count": 3,
      "metadata": {
        "collapsed": false,
        "outputHidden": false,
        "inputHidden": false
      }
    },
    {
      "cell_type": "code",
      "source": [
        "conn = await client.connect(reactor)"
      ],
      "outputs": [],
      "execution_count": 4,
      "metadata": {
        "collapsed": false,
        "outputHidden": false,
        "inputHidden": false
      }
    },
    {
      "cell_type": "code",
      "source": [
        "server = await test_service.server(conn)\n",
        "\n",
        "server"
      ],
      "outputs": [
        {
          "output_type": "execute_result",
          "execution_count": 5,
          "data": {
            "text/plain": [
              "Server(connection=<txdbus.client.DBusClientConnection object at 0x7f60bd6aef28>, service=<pyxsession.dbus.service.Service object at 0x7f60bd6ba198>, bus_name=[1], dbus_obj_cls=<class 'pyxsession.dbus.server.Echo'>, dbus_obj=<pyxsession.dbus.server.Echo object at 0x7f60bd5e0be0>)"
            ]
          },
          "metadata": {}
        }
      ],
      "execution_count": 5,
      "metadata": {
        "collapsed": false,
        "outputHidden": false,
        "inputHidden": false
      }
    },
    {
      "cell_type": "code",
      "source": [
        "client = await test_service.client(conn)\n",
        "\n",
        "client"
      ],
      "outputs": [
        {
          "output_type": "execute_result",
          "execution_count": 6,
          "data": {
            "text/plain": [
              "Client(service=<pyxsession.dbus.service.Service object at 0x7f60bd6ba198>, remote_objs={'/Echo': <txdbus.objects.RemoteDBusObject object at 0x7f60bd5fbac8>})"
            ]
          },
          "metadata": {}
        }
      ],
      "execution_count": 6,
      "metadata": {
        "collapsed": false,
        "outputHidden": false,
        "inputHidden": false
      }
    },
    {
      "cell_type": "code",
      "source": [
        "await client.Echo.echo(Payload('hello'))"
      ],
      "outputs": [
        {
          "output_type": "execute_result",
          "execution_count": 8,
          "data": {
            "text/plain": [
              "'You said: hello'"
            ]
          },
          "metadata": {}
        }
      ],
      "execution_count": 8,
      "metadata": {
        "collapsed": false,
        "outputHidden": false,
        "inputHidden": false
      }
    },
    {
      "cell_type": "code",
      "source": [],
      "outputs": [],
      "execution_count": 8,
      "metadata": {
        "collapsed": false,
        "outputHidden": false,
        "inputHidden": false
      }
    }
  ],
  "metadata": {
    "kernel_info": {
      "name": "pyxsession"
    },
    "language_info": {
      "name": "python",
      "version": "3.7.2",
      "mimetype": "text/x-python",
      "codemirror_mode": {
        "name": "ipython",
        "version": 3
      },
      "pygments_lexer": "ipython3",
      "nbconvert_exporter": "python",
      "file_extension": ".py"
    },
    "kernelspec": {
      "name": "pyxsession",
      "language": "python",
      "display_name": "pyxsession"
    },
    "nteract": {
      "version": "0.14.3"
    }
  },
  "nbformat": 4,
  "nbformat_minor": 0
}