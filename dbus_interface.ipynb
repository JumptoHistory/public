{
  "cells": [
    {
      "cell_type": "code",
      "source": [
        "%load_ext twisted_ipython\n",
        "%autoawait twisted"
      ],
      "outputs": [],
      "execution_count": 1,
      "metadata": {
        "collapsed": false,
        "outputHidden": false,
        "inputHidden": false
      }
    },
    {
      "cell_type": "code",
      "source": [
        "from twisted.internet import reactor\n",
        "import attr\n",
        "from txdbus import client\n",
        "\n",
        "from pyxsession.dbus.structure import (\n",
        "    dbus_signature, DBUS_TYPE, DBUS_TYPE_PARAMS, structure, unstructure\n",
        ")\n",
        "\n",
        "\n",
        "@attr.s\n",
        "class Notification:\n",
        "    appname = attr.ib(default='', metadata={DBUS_TYPE:'s'})\n",
        "    replaces = attr.ib(default=0, metadata={DBUS_TYPE: 'u'})\n",
        "    icon = attr.ib(default='', metadata={DBUS_TYPE: 's'})\n",
        "    summary = attr.ib(default='', metadata={DBUS_TYPE: 's'})\n",
        "    message = attr.ib(default='', metadata={DBUS_TYPE: 's'})\n",
        "    actions = attr.ib(default=[], metadata={DBUS_TYPE: 'as'})\n",
        "    hints = attr.ib(default={}, metadata={DBUS_TYPE: 'ae', DBUS_TYPE_PARAMS: ('s', 'v')})\n",
        "    timeout = attr.ib(default=1000, metadata={DBUS_TYPE: 'i'})"
      ],
      "outputs": [],
      "execution_count": 2,
      "metadata": {
        "collapsed": false,
        "outputHidden": false,
        "inputHidden": false
      }
    },
    {
      "cell_type": "code",
      "source": [
        "dbus_signature(Notification)"
      ],
      "outputs": [
        {
          "output_type": "execute_result",
          "execution_count": 3,
          "data": {
            "text/plain": [
              "'susssasa{sv}i'"
            ]
          },
          "metadata": {}
        }
      ],
      "execution_count": 3,
      "metadata": {
        "collapsed": false,
        "outputHidden": false,
        "inputHidden": false
      }
    },
    {
      "cell_type": "code",
      "source": [
        "unstructure(Notification(appname='jupyter', summary='an important message', message='my dog', timeout=5000, hints={'key': 'bro'}))"
      ],
      "outputs": [
        {
          "output_type": "execute_result",
          "execution_count": 4,
          "data": {
            "text/plain": [
              "['jupyter', 0, '', 'an important message', 'my dog', [], {'key': 'bro'}, 5000]"
            ]
          },
          "metadata": {}
        }
      ],
      "execution_count": 4,
      "metadata": {
        "collapsed": false,
        "outputHidden": false,
        "inputHidden": false
      }
    },
    {
      "cell_type": "code",
      "source": [
        "conn = await client.connect(reactor, 'session')\n",
        "\n",
        "notifier = await conn.getRemoteObject('org.freedesktop.Notifications', '/org/freedesktop/Notifications')"
      ],
      "outputs": [],
      "execution_count": 5,
      "metadata": {
        "collapsed": false,
        "outputHidden": false,
        "inputHidden": false
      }
    },
    {
      "cell_type": "code",
      "source": [
        "from txdbus.interface import DBusInterface, Method\n",
        "\n",
        "iface = DBusInterface(\n",
        "    'org.freedesktop.Notifications',\n",
        "    Method('Notify', arguments=dbus_signature(Notification), returns='u')\n",
        ")\n",
        "\n",
        "unreflected = await conn.getRemoteObject(\n",
        "    'org.freedesktop.Notifications',\n",
        "    '/org/freedesktop/Notifications',\n",
        "    iface\n",
        ")\n",
        "\n",
        "await unreflected.callRemote('Notify', *unstructure(Notification(appname='jupyter', summary='an important message', message='my dog', timeout=5000)))"
      ],
      "outputs": [
        {
          "output_type": "execute_result",
          "execution_count": 6,
          "data": {
            "text/plain": [
              "13"
            ]
          },
          "metadata": {}
        }
      ],
      "execution_count": 6,
      "metadata": {
        "collapsed": false,
        "outputHidden": false,
        "inputHidden": false
      }
    },
    {
      "cell_type": "code",
      "source": [
        "structure(\n",
        "    ['jupyter', 0, '', 'an important message', 'my dog', [], {'key': 'bro'}, 5000],\n",
        "    Notification\n",
        ")"
      ],
      "outputs": [
        {
          "output_type": "execute_result",
          "execution_count": 7,
          "data": {
            "text/plain": [
              "Notification(appname='jupyter', replaces=0, icon='', summary='an important message', message='my dog', actions={'key': 'bro'}, hints=5000, timeout=1000)"
            ]
          },
          "metadata": {}
        }
      ],
      "execution_count": 7,
      "metadata": {
        "collapsed": false,
        "outputHidden": false,
        "inputHidden": false
      }
    },
    {
      "cell_type": "code",
      "source": [],
      "outputs": [],
      "execution_count": 8,
      "metadata": {
        "collapsed": false,
        "outputHidden": false,
        "inputHidden": false
      }
    },
    {
      "cell_type": "code",
      "source": [],
      "outputs": [],
      "execution_count": 8,
      "metadata": {
        "collapsed": false,
        "outputHidden": false,
        "inputHidden": false
      }
    }
  ],
  "metadata": {
    "kernel_info": {
      "name": "pyxsession"
    },
    "language_info": {
      "name": "python",
      "version": "3.7.2",
      "mimetype": "text/x-python",
      "codemirror_mode": {
        "name": "ipython",
        "version": 3
      },
      "pygments_lexer": "ipython3",
      "nbconvert_exporter": "python",
      "file_extension": ".py"
    },
    "kernelspec": {
      "name": "pyxsession",
      "language": "python",
      "display_name": "pyxsession"
    },
    "nteract": {
      "version": "0.14.3"
    }
  },
  "nbformat": 4,
  "nbformat_minor": 0
}