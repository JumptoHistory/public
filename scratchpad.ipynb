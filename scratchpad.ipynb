{
  "cells": [
    {
      "cell_type": "code",
      "source": [
        "%load_ext twisted_ipython\n",
        "%autoawait twisted"
      ],
      "outputs": [],
      "execution_count": 1,
      "metadata": {
        "collapsed": false,
        "outputHidden": false,
        "inputHidden": false
      }
    },
    {
      "cell_type": "code",
      "source": [
        "from korbenware.config import load_config\n",
        "from korbenware.urls import UrlRegistry\n",
        "from korbenware.xdg.applications import ApplicationsRegistry"
      ],
      "outputs": [],
      "execution_count": 2,
      "metadata": {
        "collapsed": false,
        "outputHidden": false,
        "inputHidden": false
      }
    },
    {
      "cell_type": "code",
      "source": [
        "config = load_config()"
      ],
      "outputs": [],
      "execution_count": 3,
      "metadata": {
        "collapsed": false,
        "outputHidden": false,
        "inputHidden": false
      }
    },
    {
      "cell_type": "code",
      "source": [
        "applications = ApplicationsRegistry(config)\n",
        "urls = UrlRegistry(config, applications)"
      ],
      "outputs": [],
      "execution_count": 6,
      "metadata": {
        "collapsed": false,
        "outputHidden": false,
        "inputHidden": false
      }
    },
    {
      "cell_type": "code",
      "source": [
        "urls.get_application_by_url('http://google.com')"
      ],
      "outputs": [
        {
          "output_type": "execute_result",
          "execution_count": 7,
          "data": {
            "text/plain": [
              "Application(\n",
              "    fullpath='/usr/share/applications/firefox.desktop',\n",
              "    filename='firefox.desktop',\n",
              "    executable={'filename': 'firefox.desktop',\n",
              "     'entry': <xdg.DesktopEntry.DesktopEntry at 0x7fa0e2531518>,\n",
              "     'parsed': True,\n",
              "     'parse_exc': None,\n",
              "     'validated': False,\n",
              "     'validate_exc': xdg.Exceptions.ValidationError(\"ValidationError in file '/usr/share/applications/firefox.desktop': \\n- Invalid key: Name[ja_JP-mac]\\n- Invalid key: Name[ja_JP-mac] \"),\n",
              "     'exec_key': ExecKey( raw='/usr/lib/firefox/firefox %u'),\n",
              "     'exec_key_parsed': True,\n",
              "     'exec_key_parse_exc': None})"
            ]
          },
          "metadata": {}
        }
      ],
      "execution_count": 7,
      "metadata": {
        "collapsed": false,
        "outputHidden": false,
        "inputHidden": false
      }
    },
    {
      "cell_type": "code",
      "source": [
        "import urllib\n",
        "\n",
        "urllib.parse.urlparse('file://scratchpad.ipynb')"
      ],
      "outputs": [
        {
          "output_type": "execute_result",
          "execution_count": 13,
          "data": {
            "text/plain": [
              "ParseResult(scheme='file', netloc='scratchpad.ipynb', path='', params='', query='', fragment='')"
            ]
          },
          "metadata": {}
        }
      ],
      "execution_count": 13,
      "metadata": {
        "collapsed": false,
        "outputHidden": false,
        "inputHidden": false
      }
    },
    {
      "cell_type": "code",
      "source": [],
      "outputs": [],
      "execution_count": null,
      "metadata": {
        "collapsed": false,
        "outputHidden": false,
        "inputHidden": false
      }
    }
  ],
  "metadata": {
    "kernel_info": {
      "name": "korbenware"
    },
    "language_info": {
      "name": "python",
      "version": "3.7.2",
      "mimetype": "text/x-python",
      "codemirror_mode": {
        "name": "ipython",
        "version": 3
      },
      "pygments_lexer": "ipython3",
      "nbconvert_exporter": "python",
      "file_extension": ".py"
    },
    "kernelspec": {
      "name": "korbenware",
      "language": "python",
      "display_name": "korbenware"
    },
    "nteract": {
      "version": "0.14.3"
    }
  },
  "nbformat": 4,
  "nbformat_minor": 0
}
