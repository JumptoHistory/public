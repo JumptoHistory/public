{
  "cells": [
    {
      "cell_type": "code",
      "source": [
        "%load_ext twisted_ipython\n",
        "%autoawait twisted"
      ],
      "outputs": [],
      "execution_count": 1,
      "metadata": {
        "collapsed": false,
        "outputHidden": false,
        "inputHidden": false
      }
    },
    {
      "cell_type": "code",
      "source": [
        "from xdg.Mime import get_type2, MIMEtype"
      ],
      "outputs": [],
      "execution_count": 2,
      "metadata": {
        "collapsed": false,
        "outputHidden": false,
        "inputHidden": false
      }
    },
    {
      "cell_type": "code",
      "source": [
        "dir(get_type2('./scratchpad.ipynb'))"
      ],
      "outputs": [
        {
          "output_type": "execute_result",
          "execution_count": 6,
          "data": {
            "text/plain": [
              "['__class__',\n",
              " '__delattr__',\n",
              " '__dict__',\n",
              " '__dir__',\n",
              " '__doc__',\n",
              " '__eq__',\n",
              " '__format__',\n",
              " '__ge__',\n",
              " '__getattribute__',\n",
              " '__gt__',\n",
              " '__hash__',\n",
              " '__init__',\n",
              " '__init_subclass__',\n",
              " '__le__',\n",
              " '__lt__',\n",
              " '__module__',\n",
              " '__ne__',\n",
              " '__new__',\n",
              " '__reduce__',\n",
              " '__reduce_ex__',\n",
              " '__repr__',\n",
              " '__setattr__',\n",
              " '__sizeof__',\n",
              " '__str__',\n",
              " '__subclasshook__',\n",
              " '__weakref__',\n",
              " '_comment',\n",
              " '_init',\n",
              " '_load',\n",
              " 'canonical',\n",
              " 'get_comment',\n",
              " 'inherits_from',\n",
              " 'media',\n",
              " 'subtype']"
            ]
          },
          "metadata": {}
        }
      ],
      "execution_count": 6,
      "metadata": {
        "collapsed": false,
        "outputHidden": false,
        "inputHidden": false
      }
    },
    {
      "cell_type": "code",
      "source": [
        "from xdg.Menu import parse"
      ],
      "outputs": [],
      "execution_count": 7,
      "metadata": {
        "collapsed": false,
        "outputHidden": false,
        "inputHidden": false
      }
    },
    {
      "cell_type": "code",
      "source": [
        "for submenu in parse('/etc/xdg/menus/arch-applications.menu').Submenus:\n",
        "   if submenu.Entries:\n",
        "      first_entry = submenu.Entries[0]\n",
        "      \n",
        "      print(first_entry.DesktopEntry.getExec())\n",
        "      \n",
        "      for k in dir(first_entry):\n",
        "         if not k.startswith('__'):\n",
        "            print(f'{k}={getattr(first_entry, k)}')\n",
        "      \n",
        "      break"
      ],
      "outputs": [
        {
          "output_type": "stream",
          "name": "stdout",
          "text": [
            "bluetooth-sendto\n",
            "Add=False\n",
            "Allocated=True\n",
            "Categories=['GTK', 'GNOME', 'Utility', 'FileTools']\n",
            "DesktopEntry=Bluetooth Transfer\n",
            "DesktopFileID=bluetooth-sendto.desktop\n",
            "Filename=bluetooth-sendto.desktop\n",
            "MatchedInclude=True\n",
            "Original=None\n",
            "Parents=[<xdg.Menu.Menu object at 0x7f8b35ecf4a8>]\n",
            "Prefix=\n",
            "Show=NoDisplay\n",
            "TYPE_BOTH=Both\n",
            "TYPE_SYSTEM=System\n",
            "TYPE_USER=User\n",
            "_MenuEntry__setFilename=<bound method MenuEntry.__setFilename of bluetooth-sendto.desktop>\n",
            "_key=<bound method MenuEntry._key of bluetooth-sendto.desktop>\n",
            "getDir=<bound method MenuEntry.getDir of bluetooth-sendto.desktop>\n",
            "getType=<bound method MenuEntry.getType of bluetooth-sendto.desktop>\n",
            "save=<bound method MenuEntry.save of bluetooth-sendto.desktop>\n",
            "setAttributes=<bound method MenuEntry.setAttributes of bluetooth-sendto.desktop>\n",
            "updateAttributes=<bound method MenuEntry.updateAttributes of bluetooth-sendto.desktop>\n"
          ]
        }
      ],
      "execution_count": 24,
      "metadata": {
        "collapsed": false,
        "outputHidden": false,
        "inputHidden": false
      }
    },
    {
      "cell_type": "code",
      "source": [],
      "outputs": [],
      "execution_count": null,
      "metadata": {
        "collapsed": false,
        "outputHidden": false,
        "inputHidden": false
      }
    }
  ],
  "metadata": {
    "kernel_info": {
      "name": "pyxsession"
    },
    "language_info": {
      "name": "python",
      "version": "3.7.2",
      "mimetype": "text/x-python",
      "codemirror_mode": {
        "name": "ipython",
        "version": 3
      },
      "pygments_lexer": "ipython3",
      "nbconvert_exporter": "python",
      "file_extension": ".py"
    },
    "kernelspec": {
      "name": "pyxsession",
      "language": "python",
      "display_name": "pyxsession"
    },
    "nteract": {
      "version": "0.14.3"
    }
  },
  "nbformat": 4,
  "nbformat_minor": 0
}