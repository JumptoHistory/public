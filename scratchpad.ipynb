{
  "cells": [
    {
      "cell_type": "code",
      "source": [
        "%load_ext twisted_ipython\n",
        "%autoawait twisted"
      ],
      "outputs": [],
      "execution_count": 1,
      "metadata": {
        "collapsed": false,
        "outputHidden": false,
        "inputHidden": false
      }
    },
    {
      "cell_type": "code",
      "source": [
        "from pyxsession.xdg.autostart import AutostartConfiguration\n",
        "from pyxsession.config import load_config"
      ],
      "outputs": [],
      "execution_count": 2,
      "metadata": {
        "collapsed": false,
        "outputHidden": false,
        "inputHidden": false
      }
    },
    {
      "cell_type": "code",
      "source": [
        "autostart = AutostartConfiguration(load_config())"
      ],
      "outputs": [],
      "execution_count": 3,
      "metadata": {
        "collapsed": false,
        "outputHidden": false,
        "inputHidden": false
      }
    },
    {
      "cell_type": "code",
      "source": [
        "autostart.autostart_entries"
      ],
      "outputs": [
        {
          "output_type": "execute_result",
          "execution_count": 4,
          "data": {
            "text/plain": [
              "{'gnome-shell-overrides-migration.desktop': AutostartEntry(\n",
              "     fullpath='/etc/xdg/autostart/gnome-shell-overrides-migration.desktop',\n",
              "     filename='gnome-shell-overrides-migration.desktop',\n",
              "     overrides=[],\n",
              "     entry=<xdg.DesktopEntry.DesktopEntry at 0x7f5f74714160>,\n",
              "     parsed=True,\n",
              "     validated=True,\n",
              "     exec_parsed=True,\n",
              "     exec=<pyxsession.xdg.exec_key.ExecKey at 0x7f5f65cca320>,\n",
              "     is_application=True,\n",
              "     is_hidden=False,\n",
              "     only_show_in=[],\n",
              "     not_show_in=[],\n",
              "     dbus_activatable=False,\n",
              "     runtime_path=None),\n",
              " 'emoji-keyboard.desktop': AutostartEntry(\n",
              "     fullpath='/etc/xdg/autostart/emoji-keyboard.desktop',\n",
              "     filename='emoji-keyboard.desktop',\n",
              "     overrides=[],\n",
              "     entry=<xdg.DesktopEntry.DesktopEntry at 0x7f5f65cd1d68>,\n",
              "     parsed=True,\n",
              "     validated=True,\n",
              "     exec_parsed=True,\n",
              "     exec=<pyxsession.xdg.exec_key.ExecKey at 0x7f5f65cd1fd0>,\n",
              "     is_application=True,\n",
              "     is_hidden=False,\n",
              "     only_show_in=[],\n",
              "     not_show_in=[],\n",
              "     dbus_activatable=False,\n",
              "     runtime_path=None),\n",
              " 'pulseaudio.desktop': AutostartEntry(\n",
              "     fullpath='/etc/xdg/autostart/pulseaudio.desktop',\n",
              "     filename='pulseaudio.desktop',\n",
              "     overrides=[],\n",
              "     entry=<xdg.DesktopEntry.DesktopEntry at 0x7f5f65cd54e0>,\n",
              "     parsed=True,\n",
              "     validated=False,\n",
              "     validate_exc=xdg.Exceptions.ValidationError(\"ValidationError in file '/etc/xdg/autostart/pulseaudio.desktop': \\n- Value of Key 'Categories' is empty\\n- Value of Key 'GenericName' is empty\\n- Missing main category \"),\n",
              "     exec_parsed=True,\n",
              "     exec=<pyxsession.xdg.exec_key.ExecKey at 0x7f5f65cd5710>,\n",
              "     is_application=True,\n",
              "     is_hidden=False,\n",
              "     only_show_in=[],\n",
              "     not_show_in=[],\n",
              "     dbus_activatable=False,\n",
              "     runtime_path=None),\n",
              " 'geoclue-demo-agent.desktop': AutostartEntry(\n",
              "     fullpath='/etc/xdg/autostart/geoclue-demo-agent.desktop',\n",
              "     filename='geoclue-demo-agent.desktop',\n",
              "     overrides=[],\n",
              "     entry=<xdg.DesktopEntry.DesktopEntry at 0x7f5f65cd5748>,\n",
              "     parsed=True,\n",
              "     validated=True,\n",
              "     exec_parsed=True,\n",
              "     exec=<pyxsession.xdg.exec_key.ExecKey at 0x7f5f65cd59e8>,\n",
              "     is_application=True,\n",
              "     is_hidden=False,\n",
              "     only_show_in=[],\n",
              "     not_show_in=['GNOME'],\n",
              "     dbus_activatable=False,\n",
              "     runtime_path=None)}"
            ]
          },
          "metadata": {}
        }
      ],
      "execution_count": 4,
      "metadata": {
        "collapsed": false,
        "outputHidden": false,
        "inputHidden": false
      }
    },
    {
      "cell_type": "code",
      "source": [
        "from pyxsession.xdg.exec_key import ExecKey"
      ],
      "outputs": [],
      "execution_count": 5,
      "metadata": {
        "collapsed": false,
        "outputHidden": false,
        "inputHidden": false
      }
    },
    {
      "cell_type": "code",
      "source": [
        "key = ExecKey('nautilus %f')"
      ],
      "outputs": [],
      "execution_count": 6,
      "metadata": {
        "collapsed": false,
        "outputHidden": false,
        "inputHidden": false
      }
    },
    {
      "cell_type": "code",
      "source": [
        "key.build_argv(dict(f='./my-directory'))"
      ],
      "outputs": [
        {
          "output_type": "execute_result",
          "execution_count": 7,
          "data": {
            "text/plain": [
              "['nautilus', './my-directory']"
            ]
          },
          "metadata": {}
        }
      ],
      "execution_count": 7,
      "metadata": {
        "collapsed": false,
        "outputHidden": false,
        "inputHidden": false
      }
    },
    {
      "cell_type": "code",
      "source": [],
      "outputs": [],
      "execution_count": 8,
      "metadata": {
        "collapsed": false,
        "outputHidden": false,
        "inputHidden": false
      }
    }
  ],
  "metadata": {
    "kernel_info": {
      "name": "pyxsession"
    },
    "language_info": {
      "name": "python",
      "version": "3.7.2",
      "mimetype": "text/x-python",
      "codemirror_mode": {
        "name": "ipython",
        "version": 3
      },
      "pygments_lexer": "ipython3",
      "nbconvert_exporter": "python",
      "file_extension": ".py"
    },
    "kernelspec": {
      "name": "pyxsession",
      "language": "python",
      "display_name": "pyxsession"
    },
    "nteract": {
      "version": "0.14.3"
    }
  },
  "nbformat": 4,
  "nbformat_minor": 0
}