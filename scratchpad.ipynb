{
  "cells": [
    {
      "cell_type": "code",
      "source": [
        "from pyxsession.xdg import *"
      ],
      "outputs": [],
      "execution_count": 1,
      "metadata": {
        "collapsed": false,
        "outputHidden": false,
        "inputHidden": false
      }
    },
    {
      "cell_type": "code",
      "source": [
        "desktop_files = load_autostart()"
      ],
      "outputs": [],
      "execution_count": 2,
      "metadata": {
        "collapsed": false,
        "outputHidden": false,
        "inputHidden": false
      }
    },
    {
      "cell_type": "code",
      "source": [
        "desktop_files"
      ],
      "outputs": [
        {
          "output_type": "execute_result",
          "execution_count": 4,
          "data": {
            "text/plain": [
              "{'org.gnome.SettingsDaemon.Color.desktop': <xdg.DesktopEntry.DesktopEntry at 0x7f035c4a30b8>,\n",
              " 'org.gnome.SettingsDaemon.Datetime.desktop': <xdg.DesktopEntry.DesktopEntry at 0x7f035c470940>,\n",
              " 'gnome-shell-overrides-migration.desktop': <xdg.DesktopEntry.DesktopEntry at 0x7f035c470be0>,\n",
              " 'org.gnome.SettingsDaemon.XSettings.desktop': <xdg.DesktopEntry.DesktopEntry at 0x7f035c470da0>,\n",
              " 'at-spi-dbus-bus.desktop': <xdg.DesktopEntry.DesktopEntry at 0x7f035c470eb8>,\n",
              " 'org.gnome.SettingsDaemon.ScreensaverProxy.desktop': <xdg.DesktopEntry.DesktopEntry at 0x7f035c4a3048>,\n",
              " 'org.gnome.SettingsDaemon.Sound.desktop': <xdg.DesktopEntry.DesktopEntry at 0x7f035c470d68>,\n",
              " 'org.gnome.SettingsDaemon.Wacom.desktop': <xdg.DesktopEntry.DesktopEntry at 0x7f035c479358>,\n",
              " 'org.gnome.SettingsDaemon.Mouse.desktop': <xdg.DesktopEntry.DesktopEntry at 0x7f035c479518>,\n",
              " 'org.gnome.SettingsDaemon.MediaKeys.desktop': <xdg.DesktopEntry.DesktopEntry at 0x7f035c4796d8>,\n",
              " 'org.gnome.SettingsDaemon.A11ySettings.desktop': <xdg.DesktopEntry.DesktopEntry at 0x7f035c479898>,\n",
              " 'org.gnome.SettingsDaemon.Power.desktop': <xdg.DesktopEntry.DesktopEntry at 0x7f035c479a58>,\n",
              " 'org.gnome.SettingsDaemon.Clipboard.desktop': <xdg.DesktopEntry.DesktopEntry at 0x7f035c479c18>,\n",
              " 'emoji-keyboard.desktop': <xdg.DesktopEntry.DesktopEntry at 0x7f035c479dd8>,\n",
              " 'org.gnome.SettingsDaemon.PrintNotifications.desktop': <xdg.DesktopEntry.DesktopEntry at 0x7f035c479f98>,\n",
              " 'pulseaudio.desktop': <xdg.DesktopEntry.DesktopEntry at 0x7f035c479160>,\n",
              " 'geoclue-demo-agent.desktop': <xdg.DesktopEntry.DesktopEntry at 0x7f035c3fd550>,\n",
              " 'gsettings-data-convert.desktop': <xdg.DesktopEntry.DesktopEntry at 0x7f035c3fd710>,\n",
              " 'org.gnome.SettingsDaemon.Smartcard.desktop': <xdg.DesktopEntry.DesktopEntry at 0x7f035c3fd8d0>,\n",
              " 'org.gnome.SettingsDaemon.Keyboard.desktop': <xdg.DesktopEntry.DesktopEntry at 0x7f035c3fda90>,\n",
              " 'org.gnome.SettingsDaemon.Housekeeping.desktop': <xdg.DesktopEntry.DesktopEntry at 0x7f035c3fdc50>,\n",
              " 'org.gnome.SettingsDaemon.Sharing.desktop': <xdg.DesktopEntry.DesktopEntry at 0x7f035c3fde10>,\n",
              " 'org.gnome.SettingsDaemon.Rfkill.desktop': <xdg.DesktopEntry.DesktopEntry at 0x7f035c3fdfd0>}"
            ]
          },
          "metadata": {}
        }
      ],
      "execution_count": 4,
      "metadata": {
        "collapsed": false,
        "outputHidden": false,
        "inputHidden": false
      }
    },
    {
      "cell_type": "code",
      "source": [
        "{filename: entry for filename, entry in desktop_files.items() if not should_show_in(entry, 'GNOME')}"
      ],
      "outputs": [
        {
          "output_type": "execute_result",
          "execution_count": 9,
          "data": {
            "text/plain": [
              "{'geoclue-demo-agent.desktop': <xdg.DesktopEntry.DesktopEntry at 0x7f035c3fd550>}"
            ]
          },
          "metadata": {}
        }
      ],
      "execution_count": 9,
      "metadata": {
        "collapsed": false,
        "outputHidden": false,
        "inputHidden": false
      }
    },
    {
      "cell_type": "code",
      "source": [
        "import shutil"
      ],
      "outputs": [],
      "execution_count": 10,
      "metadata": {
        "collapsed": false,
        "outputHidden": false,
        "inputHidden": false
      }
    },
    {
      "cell_type": "code",
      "source": [
        "shutil.which(\"pythong\")"
      ],
      "outputs": [],
      "execution_count": 15,
      "metadata": {
        "collapsed": false,
        "outputHidden": false,
        "inputHidden": false
      }
    },
    {
      "cell_type": "code",
      "source": [
        "desktop_files['pulseaudio.desktop'].get('DBusActivatable', type='boolean')\n"
      ],
      "outputs": [
        {
          "output_type": "execute_result",
          "execution_count": 27,
          "data": {
            "text/plain": [
              "False"
            ]
          },
          "metadata": {}
        }
      ],
      "execution_count": 27,
      "metadata": {
        "collapsed": false,
        "outputHidden": false,
        "inputHidden": false
      }
    },
    {
      "cell_type": "code",
      "source": [
        "from xdg.DesktopEntry import DesktopEntry"
      ],
      "outputs": [],
      "execution_count": 23,
      "metadata": {
        "collapsed": false,
        "outputHidden": false,
        "inputHidden": false
      }
    },
    {
      "cell_type": "code",
      "source": [
        "DesktopEntry('./README.md')"
      ],
      "outputs": [
        {
          "output_type": "error",
          "ename": "ParsingError",
          "evalue": "ParsingError in file './README.md', Unknown extension",
          "traceback": [
            "\u001b[0;31m---------------------------------------------------------------------------\u001b[0m",
            "\u001b[0;31mParsingError\u001b[0m                              Traceback (most recent call last)",
            "\u001b[0;32m<ipython-input-25-65ea51561ae6>\u001b[0m in \u001b[0;36m<module>\u001b[0;34m\u001b[0m\n\u001b[0;32m----> 1\u001b[0;31m \u001b[0mDesktopEntry\u001b[0m\u001b[0;34m(\u001b[0m\u001b[0;34m'./README.md'\u001b[0m\u001b[0;34m)\u001b[0m\u001b[0;34m\u001b[0m\u001b[0;34m\u001b[0m\u001b[0m\n\u001b[0m",
            "\u001b[0;32m~/anaconda3/envs/pyxsession/lib/python3.7/site-packages/xdg/DesktopEntry.py\u001b[0m in \u001b[0;36m__init__\u001b[0;34m(self, filename)\u001b[0m\n\u001b[1;32m     34\u001b[0m             \u001b[0mself\u001b[0m\u001b[0;34m.\u001b[0m\u001b[0mparse\u001b[0m\u001b[0;34m(\u001b[0m\u001b[0mfilename\u001b[0m\u001b[0;34m)\u001b[0m\u001b[0;34m\u001b[0m\u001b[0;34m\u001b[0m\u001b[0m\n\u001b[1;32m     35\u001b[0m         \u001b[0;32melif\u001b[0m \u001b[0mfilename\u001b[0m\u001b[0;34m:\u001b[0m\u001b[0;34m\u001b[0m\u001b[0;34m\u001b[0m\u001b[0m\n\u001b[0;32m---> 36\u001b[0;31m             \u001b[0mself\u001b[0m\u001b[0;34m.\u001b[0m\u001b[0mnew\u001b[0m\u001b[0;34m(\u001b[0m\u001b[0mfilename\u001b[0m\u001b[0;34m)\u001b[0m\u001b[0;34m\u001b[0m\u001b[0;34m\u001b[0m\u001b[0m\n\u001b[0m\u001b[1;32m     37\u001b[0m \u001b[0;34m\u001b[0m\u001b[0m\n\u001b[1;32m     38\u001b[0m     \u001b[0;32mdef\u001b[0m \u001b[0m__str__\u001b[0m\u001b[0;34m(\u001b[0m\u001b[0mself\u001b[0m\u001b[0;34m)\u001b[0m\u001b[0;34m:\u001b[0m\u001b[0;34m\u001b[0m\u001b[0;34m\u001b[0m\u001b[0m\n",
            "\u001b[0;32m~/anaconda3/envs/pyxsession/lib/python3.7/site-packages/xdg/DesktopEntry.py\u001b[0m in \u001b[0;36mnew\u001b[0;34m(self, filename)\u001b[0m\n\u001b[1;32m    167\u001b[0m             \u001b[0mtype\u001b[0m \u001b[0;34m=\u001b[0m \u001b[0;34m\"Directory\"\u001b[0m\u001b[0;34m\u001b[0m\u001b[0;34m\u001b[0m\u001b[0m\n\u001b[1;32m    168\u001b[0m         \u001b[0;32melse\u001b[0m\u001b[0;34m:\u001b[0m\u001b[0;34m\u001b[0m\u001b[0;34m\u001b[0m\u001b[0m\n\u001b[0;32m--> 169\u001b[0;31m             \u001b[0;32mraise\u001b[0m \u001b[0mParsingError\u001b[0m\u001b[0;34m(\u001b[0m\u001b[0;34m\"Unknown extension\"\u001b[0m\u001b[0;34m,\u001b[0m \u001b[0mfilename\u001b[0m\u001b[0;34m)\u001b[0m\u001b[0;34m\u001b[0m\u001b[0;34m\u001b[0m\u001b[0m\n\u001b[0m\u001b[1;32m    170\u001b[0m \u001b[0;34m\u001b[0m\u001b[0m\n\u001b[1;32m    171\u001b[0m         \u001b[0mself\u001b[0m\u001b[0;34m.\u001b[0m\u001b[0mcontent\u001b[0m \u001b[0;34m=\u001b[0m \u001b[0mdict\u001b[0m\u001b[0;34m(\u001b[0m\u001b[0;34m)\u001b[0m\u001b[0;34m\u001b[0m\u001b[0;34m\u001b[0m\u001b[0m\n",
            "\u001b[0;31mParsingError\u001b[0m: ParsingError in file './README.md', Unknown extension"
          ]
        }
      ],
      "execution_count": 25,
      "metadata": {
        "collapsed": false,
        "outputHidden": false,
        "inputHidden": false
      }
    },
    {
      "cell_type": "code",
      "source": [],
      "outputs": [],
      "execution_count": null,
      "metadata": {
        "collapsed": false,
        "outputHidden": false,
        "inputHidden": false
      }
    }
  ],
  "metadata": {
    "kernel_info": {
      "name": "pyxsession"
    },
    "language_info": {
      "name": "python",
      "version": "3.7.3",
      "mimetype": "text/x-python",
      "codemirror_mode": {
        "name": "ipython",
        "version": 3
      },
      "pygments_lexer": "ipython3",
      "nbconvert_exporter": "python",
      "file_extension": ".py"
    },
    "kernelspec": {
      "name": "pyxsession",
      "language": "python",
      "display_name": "pyxsession"
    },
    "nteract": {
      "version": "0.14.3"
    }
  },
  "nbformat": 4,
  "nbformat_minor": 0
}