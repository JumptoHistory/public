{
 "cells": [
  {
   "cell_type": "code",
   "execution_count": 2,
   "metadata": {
    "collapsed": false,
    "inputHidden": false,
    "jupyter": {
     "outputs_hidden": false
    },
    "outputHidden": false
   },
   "outputs": [],
   "source": [
    "%load_ext twisted_ipython\n",
    "%autoawait twisted"
   ]
  },
  {
   "cell_type": "code",
   "execution_count": 3,
   "metadata": {
    "collapsed": false,
    "inputHidden": false,
    "jupyter": {
     "outputs_hidden": false
    },
    "outputHidden": false
   },
   "outputs": [],
   "source": [
    "from korbenware.config import load_config"
   ]
  },
  {
   "cell_type": "code",
   "execution_count": 4,
   "metadata": {
    "collapsed": false,
    "inputHidden": false,
    "jupyter": {
     "outputs_hidden": false
    },
    "outputHidden": false
   },
   "outputs": [],
   "source": [
    "config = load_config()"
   ]
  },
  {
   "cell_type": "code",
   "execution_count": 5,
   "metadata": {},
   "outputs": [
    {
     "data": {
      "text/plain": [
       "BaseConfig(\n",
       "    autostart={'directories': ['/home/josh/.config/autostart',\n",
       "      '/etc/xdg/autostart'],\n",
       "     'environment_name': 'korbenware',\n",
       "     'skip_unparsed': False,\n",
       "     'skip_invalid': False},\n",
       "    meta={'config_filename': '/home/josh/.config/korbenware/korbenware.toml'},\n",
       "    menu={'filename': '/etc/xdg/menus/arch-applications.menu'},\n",
       "    mime={'cache': '/usr/share/applications/mimeinfo.cache',\n",
       "     'environment': 'korbenware'},\n",
       "    applications={'directories': ['/home/josh/.local/share/applications',\n",
       "      '/usr/share/applications'],\n",
       "     'skip_unparsed': False,\n",
       "     'skip_invalid': False},\n",
       "    logger={'level': 'warn'},\n",
       "    urls={'http': 'firefox.desktop', 'https': 'firefox.desktop'})"
      ]
     },
     "execution_count": 5,
     "metadata": {},
     "output_type": "execute_result"
    }
   ],
   "source": [
    "config"
   ]
  },
  {
   "cell_type": "code",
   "execution_count": null,
   "metadata": {},
   "outputs": [],
   "source": []
  }
 ],
 "metadata": {
  "kernel_info": {
   "name": "korbenware"
  },
  "kernelspec": {
   "display_name": "korbenware",
   "language": "python",
   "name": "korbenware"
  },
  "language_info": {
   "codemirror_mode": {
    "name": "ipython",
    "version": 3
   },
   "file_extension": ".py",
   "mimetype": "text/x-python",
   "name": "python",
   "nbconvert_exporter": "python",
   "pygments_lexer": "ipython3",
   "version": "3.7.2"
  },
  "nteract": {
   "version": "0.14.3"
  }
 },
 "nbformat": 4,
 "nbformat_minor": 4
}
