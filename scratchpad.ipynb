{
  "cells": [
    {
      "cell_type": "code",
      "source": [
        "from asyncio import get_event_loop\n",
        "from twisted.internet import asyncioreactor\n",
        "\n",
        "asyncioreactor.install(get_event_loop())"
      ],
      "outputs": [],
      "execution_count": 1,
      "metadata": {
        "collapsed": false,
        "outputHidden": false,
        "inputHidden": false
      }
    },
    {
      "cell_type": "code",
      "source": [
        "from twisted.internet import reactor\n",
        "from twisted.internet.task import CooperativeTask, Cooperator, TaskDone, TaskFailed\n",
        "from twisted.internet.defer import ensureDeferred, Deferred\n",
        "from twisted.python.failure import Failure"
      ],
      "outputs": [],
      "execution_count": 2,
      "metadata": {
        "collapsed": false,
        "outputHidden": false,
        "inputHidden": false
      }
    },
    {
      "cell_type": "code",
      "source": [
        "class AsyncCooperativeTask(CooperativeTask):\n",
        "    \"\"\"\n",
        "    An experiment in making a CooperativeTask that works\n",
        "    with async iterators.\n",
        "    \"\"\"\n",
        "    \n",
        "    async def _oneAsyncWorkUnit(self):\n",
        "        try:\n",
        "            self.pause()\n",
        "            result = await self._iterator.__anext__()\n",
        "        except StopAsyncIteration:\n",
        "            self._completeWith(TaskDone(), self._iterator)\n",
        "        except:\n",
        "            self._completeWith(TaskFailed(), Failure())\n",
        "        else:\n",
        "            self.resume()\n",
        "    \n",
        "    def _oneWorkUnit(self):\n",
        "        result = ensureDeferred(self._oneAsyncWorkUnit())\n",
        "\n",
        "\n",
        "class AsyncCooperator(Cooperator):\n",
        "    \"\"\"\n",
        "    An experiment in making a Cooperator that can work with\n",
        "    async iterators.\n",
        "    \"\"\"\n",
        "    \n",
        "    def coiterate(self, asyncIterator, doneDeferred=None):\n",
        "        if doneDeferred is None:\n",
        "            doneDeferred = Deferred()\n",
        "        AsyncCooperativeTask(asyncIterator, self).whenDone().chainDeferred(doneDeferred)\n",
        "        return doneDeferred\n",
        "    \n",
        "    def cooperate(self, asyncIterator):\n",
        "        return AsyncCooperativeTask(asyncIterator, self)"
      ],
      "outputs": [],
      "execution_count": 3,
      "metadata": {
        "collapsed": false,
        "outputHidden": false,
        "inputHidden": false
      }
    },
    {
      "cell_type": "code",
      "source": [
        "def sleep(t):\n",
        "    d = Deferred()\n",
        "    reactor.callLater(t, d.callback, None)\n",
        "    return d\n",
        "\n",
        "\n",
        "async def testGenerator():\n",
        "    print('first we nap for a second')\n",
        "    await sleep(1)\n",
        "    print('then we yield')\n",
        "    \n",
        "    yield\n",
        "    \n",
        "    print('then we sleep some more...')\n",
        "    \n",
        "    await sleep(1)\n",
        "    \n",
        "    print('then we yield some more!')\n",
        "    \n",
        "    yield\n",
        "    \n",
        "    print('one more nap...')\n",
        "    \n",
        "    await sleep(1)\n",
        "    \n",
        "    print('we are done.')\n",
        "    \n",
        "    return\n",
        "    "
      ],
      "outputs": [],
      "execution_count": 4,
      "metadata": {
        "collapsed": false,
        "outputHidden": false,
        "inputHidden": false
      }
    },
    {
      "cell_type": "code",
      "source": [
        "cooperator = AsyncCooperator()\n",
        "\n",
        "d = cooperator.coiterate(testGenerator())\n",
        "\n",
        "d.addCallback(lambda task: print('success!'))"
      ],
      "outputs": [
        {
          "output_type": "execute_result",
          "execution_count": 5,
          "data": {
            "text/plain": [
              "<Deferred at 0x7fa3db0106a0 waiting on Deferred at 0x7fa3db010860>"
            ]
          },
          "metadata": {}
        },
        {
          "output_type": "stream",
          "name": "stdout",
          "text": [
            "first we nap for a second\n",
            "then we yield\n",
            "then we sleep some more...\n",
            "then we yield some more!\n",
            "one more nap...\n",
            "we are done.\n",
            "success!\n"
          ]
        }
      ],
      "execution_count": 5,
      "metadata": {
        "collapsed": false,
        "outputHidden": false,
        "inputHidden": false
      }
    }
  ],
  "metadata": {
    "kernel_info": {
      "name": "twisted"
    },
    "language_info": {
      "name": "python",
      "nbconvert_exporter": "python",
      "pygments_lexer": "ipython3",
      "file_extension": ".py",
      "mimetype": "text/x-python",
      "codemirror_mode": {
        "name": "ipython",
        "version": 3
      },
      "version": "3.5.6"
    },
    "kernelspec": {
      "name": "twisted",
      "language": "python",
      "display_name": "twisted"
    },
    "nteract": {
      "version": "0.14.3"
    }
  },
  "nbformat": 4,
  "nbformat_minor": 0
}