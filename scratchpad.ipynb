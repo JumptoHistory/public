{
  "cells": [
    {
      "cell_type": "code",
      "source": [
        "%load_ext twisted_ipython\n",
        "%autoawait twisted"
      ],
      "outputs": [
        {
          "output_type": "stream",
          "name": "stdout",
          "text": [
            "The twisted_ipython extension is already loaded. To reload it, use:\n",
            "  %reload_ext twisted_ipython\n"
          ]
        }
      ],
      "execution_count": 2,
      "metadata": {
        "collapsed": false,
        "outputHidden": false,
        "inputHidden": false
      }
    },
    {
      "cell_type": "code",
      "source": [
        "import attr\n",
        "from twisted.internet.defer import Deferred\n",
        "\n",
        "from korbenware.dbus import dbus_attr, Str"
      ],
      "outputs": [],
      "execution_count": 45,
      "metadata": {
        "collapsed": false,
        "outputHidden": false,
        "inputHidden": false
      }
    },
    {
      "cell_type": "code",
      "source": [
        "@attr.s\n",
        "class Request:\n",
        "    message = dbus_attr(field=Str)\n",
        "    \n",
        "@attr.s\n",
        "class Response:\n",
        "    message = dbus_attr(field=Str)"
      ],
      "outputs": [],
      "execution_count": 46,
      "metadata": {
        "collapsed": false,
        "outputHidden": false,
        "inputHidden": false
      }
    },
    {
      "cell_type": "code",
      "source": [
        "class Underlying:\n",
        "    def echo(self, message):\n",
        "        print(f'message: {message}')"
      ],
      "outputs": [],
      "execution_count": 47,
      "metadata": {
        "collapsed": false,
        "outputHidden": false,
        "inputHidden": false
      }
    },
    {
      "cell_type": "code",
      "source": [
        "class Context:\n",
        "    def __init__(self):\n",
        "  \n",
        "    def send(self, argv):\n",
        "        pass\n",
        "        \n",
        "    def call(self, method, *arg, **kwarg):\n",
        "        pass\n",
        "        \n",
        "    async def receive(self, ret):\n",
        "        self.receiving.callback(ret)\n",
        "        return await self.received\n",
        "      \n",
        "      \n",
        "class ClientPacker(Context):\n",
        "  \n",
        "\n",
        "\n",
        "class Runner:\n",
        "    def __init__(self, fn):\n",
        "        self.fn = fn\n",
        "  \n",
        "    async def client_side_pack(self, raw_input):\n",
        "        ctx = Context()\n",
        "\n",
        "        session = self.fn(ctx, raw_input)\n",
        "        \n",
        "        assembled_payload = await ctx.sending\n",
        "        return assembled_payload    \n",
        "      \n",
        "    async def server_side_unpack(self, packed_input):\n",
        "        ctx = Context()\n",
        "        \n",
        "        # Stub packing a message\n",
        "        session = self.fn(ctx, 'stub input')\n",
        "        _ = await ctx.sending\n",
        "        \n",
        "        ctx.sent(packed_input)  # bon voyage\n",
        "        \n",
        "    async def server_side_pack(self, raw_output):\n",
        "        ctx = Context()\n",
        "        \n",
        "        # Stub packing *and* receiving/calling a message\n",
        "        session = self.fn(ctx, 'stub input')\n",
        "        stub_packed = await ctx.sending\n",
        "        ctx.sent(stub_packed)\n",
        "        stub_ret = await ctx.call('stub method', stub_packed)\n",
        "        \n",
        "        ctx.called(raw_output)  # pack and send!\n",
        "      \n",
        "    async def client_side_unpack(self, packed_output):\n",
        "        ctx = Context()\n",
        "        \n",
        "        session = self.fn(ctx, 'stub input')\n",
        "        \n",
        "        print('waiting for sending')\n",
        "        stub_packed = await ctx.sending\n",
        "        \n",
        "        print('sending sent')\n",
        "        ctx.sent(stub_packed)\n",
        "        \n",
        "        print('waiting for called')\n",
        "        stub_ret = await ctx.call('stub method', stub_packed)\n",
        "        \n",
        "        print('calling is called')\n",
        "        ctx.called(stub_ret)\n",
        "        rv = await ctx.receiving\n",
        "        \n",
        "        print('sending')\n",
        "        await ctx.receive(rv)\n",
        "        ctx.received(rv.message)\n",
        "        \n",
        "    async def remote(self, request):\n",
        "        return Response(message='stubbed remote response')\n",
        "      \n",
        "    async def __call__(self, *arg, **kwarg):\n",
        "        return await self.client_side_unpack(\n",
        "            await self.remote(await self.client_side_pack(*arg))\n",
        "        )\n",
        "        \n",
        "\n",
        "\n",
        "def dbus_method(argv_sig, ret_sig):\n",
        "    # So we would know a'priori what the return values would\n",
        "    # look like\n",
        "    #\n",
        "    # Due to dbus not having nullable types, these will also\n",
        "    # likely generate \"sane\" default values\n",
        "    \n",
        "    # We can control how the context gets constructed\n",
        "    # TODO: \n",
        "    def decorator(f):\n",
        "        return Runner(f)\n",
        "    return decorator\n",
        "\n",
        "\n",
        "@dbus_method([Request], Response)\n",
        "async def mad_science(ctx, message):\n",
        "  \n",
        "    print('creating underlying and such')\n",
        "    underlying = Underlying\n",
        "    req = Request(message=message)\n",
        "    \n",
        "    print('awaiting send')\n",
        "    payload = await ctx.send(request)\n",
        "\n",
        "    print('calling')\n",
        "    rv = await ctx.call('echo', payload[0].message)\n",
        "    response = Response(message=rv)\n",
        "    \n",
        "    print('receiving')\n",
        "    rv = await ctx.receive(response)\n",
        "                        \n",
        "    return rv.message\n",
        "    "
      ],
      "outputs": [],
      "execution_count": 54,
      "metadata": {
        "collapsed": false,
        "outputHidden": false,
        "inputHidden": false
      }
    },
    {
      "cell_type": "code",
      "source": [
        "await mad_science('hello world')\n"
      ],
      "outputs": [
        {
          "output_type": "error",
          "ename": "TimeoutError",
          "evalue": "",
          "traceback": [
            "\u001b[0;31m---------------------------------------------------------------------------\u001b[0m",
            "\u001b[0;31mTimeoutError\u001b[0m                              Traceback (most recent call last)",
            "\u001b[0;32m~/anaconda3/envs/korbenware/lib/python3.7/site-packages/twisted_ipython/async_runner.py\u001b[0m in \u001b[0;36mtwisted_runner\u001b[0;34m(coro)\u001b[0m\n\u001b[1;32m     16\u001b[0m         \u001b[0;32mreturn\u001b[0m \u001b[0mensureDeferred\u001b[0m\u001b[0;34m(\u001b[0m\u001b[0mcoro\u001b[0m\u001b[0;34m)\u001b[0m\u001b[0;34m\u001b[0m\u001b[0;34m\u001b[0m\u001b[0m\n\u001b[1;32m     17\u001b[0m \u001b[0;34m\u001b[0m\u001b[0m\n\u001b[0;32m---> 18\u001b[0;31m     \u001b[0;32mreturn\u001b[0m \u001b[0mrun\u001b[0m\u001b[0;34m(\u001b[0m\u001b[0mcoro\u001b[0m\u001b[0;34m)\u001b[0m\u001b[0;34m\u001b[0m\u001b[0;34m\u001b[0m\u001b[0m\n\u001b[0m",
            "\u001b[0;32m~/anaconda3/envs/korbenware/lib/python3.7/site-packages/wrapt/wrappers.py\u001b[0m in \u001b[0;36m__call__\u001b[0;34m(self, *args, **kwargs)\u001b[0m\n\u001b[1;32m    562\u001b[0m \u001b[0;34m\u001b[0m\u001b[0m\n\u001b[1;32m    563\u001b[0m         return self._self_wrapper(self.__wrapped__, self._self_instance,\n\u001b[0;32m--> 564\u001b[0;31m                 args, kwargs)\n\u001b[0m\u001b[1;32m    565\u001b[0m \u001b[0;34m\u001b[0m\u001b[0m\n\u001b[1;32m    566\u001b[0m \u001b[0;32mclass\u001b[0m \u001b[0mBoundFunctionWrapper\u001b[0m\u001b[0;34m(\u001b[0m\u001b[0m_FunctionWrapperBase\u001b[0m\u001b[0;34m)\u001b[0m\u001b[0;34m:\u001b[0m\u001b[0;34m\u001b[0m\u001b[0;34m\u001b[0m\u001b[0m\n",
            "\u001b[0;32m~/anaconda3/envs/korbenware/lib/python3.7/site-packages/crochet/_eventloop.py\u001b[0m in \u001b[0;36mwrapper\u001b[0;34m(function, _, args, kwargs)\u001b[0m\n\u001b[1;32m    508\u001b[0m                 \u001b[0meventual_result\u001b[0m \u001b[0;34m=\u001b[0m \u001b[0mrun\u001b[0m\u001b[0;34m(\u001b[0m\u001b[0;34m)\u001b[0m\u001b[0;34m\u001b[0m\u001b[0;34m\u001b[0m\u001b[0m\n\u001b[1;32m    509\u001b[0m                 \u001b[0;32mtry\u001b[0m\u001b[0;34m:\u001b[0m\u001b[0;34m\u001b[0m\u001b[0;34m\u001b[0m\u001b[0m\n\u001b[0;32m--> 510\u001b[0;31m                     \u001b[0;32mreturn\u001b[0m \u001b[0meventual_result\u001b[0m\u001b[0;34m.\u001b[0m\u001b[0mwait\u001b[0m\u001b[0;34m(\u001b[0m\u001b[0mtimeout\u001b[0m\u001b[0;34m)\u001b[0m\u001b[0;34m\u001b[0m\u001b[0;34m\u001b[0m\u001b[0m\n\u001b[0m\u001b[1;32m    511\u001b[0m                 \u001b[0;32mexcept\u001b[0m \u001b[0mTimeoutError\u001b[0m\u001b[0;34m:\u001b[0m\u001b[0;34m\u001b[0m\u001b[0;34m\u001b[0m\u001b[0m\n\u001b[1;32m    512\u001b[0m                     \u001b[0meventual_result\u001b[0m\u001b[0;34m.\u001b[0m\u001b[0mcancel\u001b[0m\u001b[0;34m(\u001b[0m\u001b[0;34m)\u001b[0m\u001b[0;34m\u001b[0m\u001b[0;34m\u001b[0m\u001b[0m\n",
            "\u001b[0;32m~/anaconda3/envs/korbenware/lib/python3.7/site-packages/crochet/_eventloop.py\u001b[0m in \u001b[0;36mwait\u001b[0;34m(self, timeout)\u001b[0m\n\u001b[1;32m    237\u001b[0m                     \"import time.\")\n\u001b[1;32m    238\u001b[0m \u001b[0;34m\u001b[0m\u001b[0m\n\u001b[0;32m--> 239\u001b[0;31m         \u001b[0mresult\u001b[0m \u001b[0;34m=\u001b[0m \u001b[0mself\u001b[0m\u001b[0;34m.\u001b[0m\u001b[0m_result\u001b[0m\u001b[0;34m(\u001b[0m\u001b[0mtimeout\u001b[0m\u001b[0;34m)\u001b[0m\u001b[0;34m\u001b[0m\u001b[0;34m\u001b[0m\u001b[0m\n\u001b[0m\u001b[1;32m    240\u001b[0m         \u001b[0;32mif\u001b[0m \u001b[0misinstance\u001b[0m\u001b[0;34m(\u001b[0m\u001b[0mresult\u001b[0m\u001b[0;34m,\u001b[0m \u001b[0mFailure\u001b[0m\u001b[0;34m)\u001b[0m\u001b[0;34m:\u001b[0m\u001b[0;34m\u001b[0m\u001b[0;34m\u001b[0m\u001b[0m\n\u001b[1;32m    241\u001b[0m             \u001b[0mresult\u001b[0m\u001b[0;34m.\u001b[0m\u001b[0mraiseException\u001b[0m\u001b[0;34m(\u001b[0m\u001b[0;34m)\u001b[0m\u001b[0;34m\u001b[0m\u001b[0;34m\u001b[0m\u001b[0m\n",
            "\u001b[0;32m~/anaconda3/envs/korbenware/lib/python3.7/site-packages/crochet/_eventloop.py\u001b[0m in \u001b[0;36m_result\u001b[0;34m(self, timeout)\u001b[0m\n\u001b[1;32m    199\u001b[0m         \u001b[0;31m# have to check manually:\u001b[0m\u001b[0;34m\u001b[0m\u001b[0;34m\u001b[0m\u001b[0;34m\u001b[0m\u001b[0m\n\u001b[1;32m    200\u001b[0m         \u001b[0;32mif\u001b[0m \u001b[0;32mnot\u001b[0m \u001b[0mself\u001b[0m\u001b[0;34m.\u001b[0m\u001b[0m_result_set\u001b[0m\u001b[0;34m.\u001b[0m\u001b[0mis_set\u001b[0m\u001b[0;34m(\u001b[0m\u001b[0;34m)\u001b[0m\u001b[0;34m:\u001b[0m\u001b[0;34m\u001b[0m\u001b[0;34m\u001b[0m\u001b[0m\n\u001b[0;32m--> 201\u001b[0;31m             \u001b[0;32mraise\u001b[0m \u001b[0mTimeoutError\u001b[0m\u001b[0;34m(\u001b[0m\u001b[0;34m)\u001b[0m\u001b[0;34m\u001b[0m\u001b[0;34m\u001b[0m\u001b[0m\n\u001b[0m\u001b[1;32m    202\u001b[0m         \u001b[0mself\u001b[0m\u001b[0;34m.\u001b[0m\u001b[0m_result_retrieved\u001b[0m \u001b[0;34m=\u001b[0m \u001b[0;32mTrue\u001b[0m\u001b[0;34m\u001b[0m\u001b[0;34m\u001b[0m\u001b[0m\n\u001b[1;32m    203\u001b[0m         \u001b[0;32mreturn\u001b[0m \u001b[0mself\u001b[0m\u001b[0;34m.\u001b[0m\u001b[0m_value\u001b[0m\u001b[0;34m\u001b[0m\u001b[0;34m\u001b[0m\u001b[0m\n",
            "\u001b[0;31mTimeoutError\u001b[0m: "
          ]
        },
        {
          "output_type": "error",
          "ename": "CancelledError",
          "evalue": "",
          "traceback": [
            "\u001b[0;31m---------------------------------------------------------------------------\u001b[0m",
            "\u001b[0;31mCancelledError\u001b[0m                            Traceback (most recent call last)",
            "\u001b[0;32m<ipython-input-55-77fe9a83f4f0>\u001b[0m in \u001b[0;36masync-def-wrapper\u001b[0;34m()\u001b[0m\n",
            "\u001b[0;32m<ipython-input-54-2af2b3454a17>\u001b[0m in \u001b[0;36m__call__\u001b[0;34m(self, *arg, **kwarg)\u001b[0m\n\u001b[1;32m     80\u001b[0m     \u001b[0;32masync\u001b[0m \u001b[0;32mdef\u001b[0m \u001b[0m__call__\u001b[0m\u001b[0;34m(\u001b[0m\u001b[0mself\u001b[0m\u001b[0;34m,\u001b[0m \u001b[0;34m*\u001b[0m\u001b[0marg\u001b[0m\u001b[0;34m,\u001b[0m \u001b[0;34m**\u001b[0m\u001b[0mkwarg\u001b[0m\u001b[0;34m)\u001b[0m\u001b[0;34m:\u001b[0m\u001b[0;34m\u001b[0m\u001b[0;34m\u001b[0m\u001b[0m\n\u001b[1;32m     81\u001b[0m         return await self.client_side_unpack(\n\u001b[0;32m---> 82\u001b[0;31m             \u001b[0;32mawait\u001b[0m \u001b[0mself\u001b[0m\u001b[0;34m.\u001b[0m\u001b[0mremote\u001b[0m\u001b[0;34m(\u001b[0m\u001b[0;32mawait\u001b[0m \u001b[0mself\u001b[0m\u001b[0;34m.\u001b[0m\u001b[0mclient_side_pack\u001b[0m\u001b[0;34m(\u001b[0m\u001b[0;34m*\u001b[0m\u001b[0marg\u001b[0m\u001b[0;34m)\u001b[0m\u001b[0;34m)\u001b[0m\u001b[0;34m\u001b[0m\u001b[0;34m\u001b[0m\u001b[0m\n\u001b[0m\u001b[1;32m     83\u001b[0m         )\n\u001b[1;32m     84\u001b[0m \u001b[0;34m\u001b[0m\u001b[0m\n",
            "\u001b[0;32m<ipython-input-54-2af2b3454a17>\u001b[0m in \u001b[0;36mclient_side_pack\u001b[0;34m(self, raw_input)\u001b[0m\n\u001b[1;32m     30\u001b[0m         \u001b[0msession\u001b[0m \u001b[0;34m=\u001b[0m \u001b[0mself\u001b[0m\u001b[0;34m.\u001b[0m\u001b[0mfn\u001b[0m\u001b[0;34m(\u001b[0m\u001b[0mctx\u001b[0m\u001b[0;34m,\u001b[0m \u001b[0mraw_input\u001b[0m\u001b[0;34m)\u001b[0m\u001b[0;34m\u001b[0m\u001b[0;34m\u001b[0m\u001b[0m\n\u001b[1;32m     31\u001b[0m \u001b[0;34m\u001b[0m\u001b[0m\n\u001b[0;32m---> 32\u001b[0;31m         \u001b[0massembled_payload\u001b[0m \u001b[0;34m=\u001b[0m \u001b[0;32mawait\u001b[0m \u001b[0mctx\u001b[0m\u001b[0;34m.\u001b[0m\u001b[0msending\u001b[0m\u001b[0;34m\u001b[0m\u001b[0;34m\u001b[0m\u001b[0m\n\u001b[0m\u001b[1;32m     33\u001b[0m         \u001b[0;32mreturn\u001b[0m \u001b[0massembled_payload\u001b[0m\u001b[0;34m\u001b[0m\u001b[0;34m\u001b[0m\u001b[0m\n\u001b[1;32m     34\u001b[0m \u001b[0;34m\u001b[0m\u001b[0m\n",
            "\u001b[0;31mCancelledError\u001b[0m: "
          ]
        }
      ],
      "execution_count": 55,
      "metadata": {
        "collapsed": false,
        "outputHidden": false,
        "inputHidden": false
      }
    },
    {
      "cell_type": "code",
      "source": [],
      "outputs": [],
      "execution_count": null,
      "metadata": {
        "collapsed": false,
        "outputHidden": false,
        "inputHidden": false
      }
    }
  ],
  "metadata": {
    "kernel_info": {
      "name": "korbenware"
    },
    "language_info": {
      "name": "python",
      "version": "3.7.2",
      "mimetype": "text/x-python",
      "codemirror_mode": {
        "name": "ipython",
        "version": 3
      },
      "pygments_lexer": "ipython3",
      "nbconvert_exporter": "python",
      "file_extension": ".py"
    },
    "kernelspec": {
      "name": "korbenware",
      "language": "python",
      "display_name": "korbenware"
    },
    "nteract": {
      "version": "0.14.3"
    }
  },
  "nbformat": 4,
  "nbformat_minor": 0
}