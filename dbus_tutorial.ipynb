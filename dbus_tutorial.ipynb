{
  "cells": [
    {
      "cell_type": "code",
      "source": [
        "%load_ext twisted_ipython\n",
        "%autoawait twisted"
      ],
      "outputs": [],
      "execution_count": 1,
      "metadata": {
        "collapsed": false,
        "outputHidden": false,
        "inputHidden": false
      }
    },
    {
      "cell_type": "code",
      "source": [
        "from twisted.internet import reactor\n",
        "from txdbus import error, client\n",
        "\n",
        "\n",
        "class Notifier:\n",
        "    # TODO: Can this be generalized to load arbitrary resources?\n",
        "    @classmethod\n",
        "    async def create(xls, conn=None):\n",
        "        if not conn:\n",
        "            conn = await client.connect(reactor, 'session')\n",
        "        \n",
        "        notifier = await conn.getRemoteObject(\n",
        "            'org.freedesktop.Notifications',\n",
        "            '/org/freedesktop/Notifications'\n",
        "        )\n",
        "        \n",
        "        return Notifier(conn=conn, notifier=notifier)\n",
        "      \n",
        "    def __init__(self, conn, notifier):\n",
        "        self.conn = conn\n",
        "        self.notifier = notifier\n",
        "        \n",
        "    def notify(self, *, replaces=0, appname, summary, message, timeout):\n",
        "        return self.notifier.callRemote(\n",
        "            'Notify',\n",
        "            appname,\n",
        "            replaces,\n",
        "            '',\n",
        "            summary,\n",
        "            message,\n",
        "            [], dict(),\n",
        "            timeout\n",
        "        )\n",
        "\n",
        "notifier = await Notifier.create()"
      ],
      "outputs": [],
      "execution_count": 2,
      "metadata": {
        "collapsed": false,
        "outputHidden": false,
        "inputHidden": false
      }
    },
    {
      "cell_type": "code",
      "source": [
        "id = await notifier.notify(\n",
        "    appname='pyxsession',\n",
        "    summary='an important message',\n",
        "    message='my dog',\n",
        "    timeout=5000\n",
        ")"
      ],
      "outputs": [],
      "execution_count": 3,
      "metadata": {
        "collapsed": false,
        "outputHidden": false,
        "inputHidden": false
      }
    },
    {
      "cell_type": "code",
      "source": [
        "# default the busAddress parameter to \"session\"\n",
        "# this address can be \"session\", \"system\", or\n",
        "# something more specific - either a unix, tcp\n",
        "# or nonce-tcp connection type, apparently\n",
        "#\n",
        "# for us, session is perf 👍\n",
        "conn = await client.connect(reactor)\n",
        "\n",
        "print('Connected to the session bus!')"
      ],
      "outputs": [
        {
          "output_type": "stream",
          "name": "stdout",
          "text": [
            "Connected to the session bus!\n"
          ]
        }
      ],
      "execution_count": 4,
      "metadata": {
        "collapsed": false,
        "outputHidden": false,
        "inputHidden": false
      }
    },
    {
      "cell_type": "code",
      "source": [
        "from twisted.internet import reactor\n",
        "from txdbus import client\n",
        "\n",
        "# txdbus can reflect off remote objects without a specified schema\n",
        "remote_obj = await conn.getRemoteObject('org.example', '/MyObjPath')\n",
        "\n",
        "result = await remote_obj.callRemote('Ping')\n",
        "\n",
        "print(result)"
      ],
      "outputs": [
        {
          "output_type": "error",
          "ename": "IntrospectionFailed",
          "evalue": "Introspection Failed: org.freedesktop.DBus.Error.ServiceUnknown: The name org.example was not provided by any .service files",
          "traceback": [
            "\u001b[0;31m---------------------------------------------------------------------------\u001b[0m",
            "\u001b[0;31mIntrospectionFailed\u001b[0m                       Traceback (most recent call last)",
            "\u001b[0;32m<ipython-input-5-f0fdb2cfbe49>\u001b[0m in \u001b[0;36masync-def-wrapper\u001b[0;34m()\u001b[0m\n\u001b[1;32m      6\u001b[0m \u001b[0;34m\u001b[0m\u001b[0m\n\u001b[1;32m      7\u001b[0m \u001b[0mresult\u001b[0m \u001b[0;34m=\u001b[0m \u001b[0;32mawait\u001b[0m \u001b[0mremote_obj\u001b[0m\u001b[0;34m.\u001b[0m\u001b[0mcallRemote\u001b[0m\u001b[0;34m(\u001b[0m\u001b[0;34m'Ping'\u001b[0m\u001b[0;34m)\u001b[0m\u001b[0;34m\u001b[0m\u001b[0;34m\u001b[0m\u001b[0m\n\u001b[0;32m----> 8\u001b[0;31m \u001b[0;34m\u001b[0m\u001b[0m\n\u001b[0m\u001b[1;32m      9\u001b[0m \u001b[0mprint\u001b[0m\u001b[0;34m(\u001b[0m\u001b[0mresult\u001b[0m\u001b[0;34m)\u001b[0m\u001b[0;34m\u001b[0m\u001b[0;34m\u001b[0m\u001b[0m\n",
            "\u001b[0;32m~/anaconda3/envs/pyxsession/lib/python3.7/site-packages/twisted/internet/defer.py\u001b[0m in \u001b[0;36m_runCallbacks\u001b[0;34m(self)\u001b[0m\n\u001b[1;32m    652\u001b[0m                     \u001b[0mcurrent\u001b[0m\u001b[0;34m.\u001b[0m\u001b[0m_runningCallbacks\u001b[0m \u001b[0;34m=\u001b[0m \u001b[0;32mTrue\u001b[0m\u001b[0;34m\u001b[0m\u001b[0;34m\u001b[0m\u001b[0m\n\u001b[1;32m    653\u001b[0m                     \u001b[0;32mtry\u001b[0m\u001b[0;34m:\u001b[0m\u001b[0;34m\u001b[0m\u001b[0;34m\u001b[0m\u001b[0m\n\u001b[0;32m--> 654\u001b[0;31m                         \u001b[0mcurrent\u001b[0m\u001b[0;34m.\u001b[0m\u001b[0mresult\u001b[0m \u001b[0;34m=\u001b[0m \u001b[0mcallback\u001b[0m\u001b[0;34m(\u001b[0m\u001b[0mcurrent\u001b[0m\u001b[0;34m.\u001b[0m\u001b[0mresult\u001b[0m\u001b[0;34m,\u001b[0m \u001b[0;34m*\u001b[0m\u001b[0margs\u001b[0m\u001b[0;34m,\u001b[0m \u001b[0;34m**\u001b[0m\u001b[0mkw\u001b[0m\u001b[0;34m)\u001b[0m\u001b[0;34m\u001b[0m\u001b[0;34m\u001b[0m\u001b[0m\n\u001b[0m\u001b[1;32m    655\u001b[0m                         \u001b[0;32mif\u001b[0m \u001b[0mcurrent\u001b[0m\u001b[0;34m.\u001b[0m\u001b[0mresult\u001b[0m \u001b[0;32mis\u001b[0m \u001b[0mcurrent\u001b[0m\u001b[0;34m:\u001b[0m\u001b[0;34m\u001b[0m\u001b[0;34m\u001b[0m\u001b[0m\n\u001b[1;32m    656\u001b[0m                             warnAboutFunction(\n",
            "\u001b[0;32m~/anaconda3/envs/pyxsession/lib/python3.7/site-packages/txdbus/client.py\u001b[0m in \u001b[0;36merr\u001b[0;34m(e)\u001b[0m\n\u001b[1;32m    441\u001b[0m         \u001b[0;32mdef\u001b[0m \u001b[0merr\u001b[0m\u001b[0;34m(\u001b[0m\u001b[0me\u001b[0m\u001b[0;34m)\u001b[0m\u001b[0;34m:\u001b[0m\u001b[0;34m\u001b[0m\u001b[0;34m\u001b[0m\u001b[0m\n\u001b[1;32m    442\u001b[0m             raise error.IntrospectionFailed(\n\u001b[0;32m--> 443\u001b[0;31m                 \u001b[0;34m'Introspection Failed: '\u001b[0m \u001b[0;34m+\u001b[0m \u001b[0me\u001b[0m\u001b[0;34m.\u001b[0m\u001b[0mgetErrorMessage\u001b[0m\u001b[0;34m(\u001b[0m\u001b[0;34m)\u001b[0m\u001b[0;34m\u001b[0m\u001b[0;34m\u001b[0m\u001b[0m\n\u001b[0m\u001b[1;32m    444\u001b[0m             )\n\u001b[1;32m    445\u001b[0m \u001b[0;34m\u001b[0m\u001b[0m\n",
            "\u001b[0;31mIntrospectionFailed\u001b[0m: Introspection Failed: org.freedesktop.DBus.Error.ServiceUnknown: The name org.example was not provided by any .service files"
          ]
        }
      ],
      "execution_count": 5,
      "metadata": {
        "collapsed": false,
        "outputHidden": false,
        "inputHidden": false
      }
    },
    {
      "cell_type": "code",
      "source": [
        "# Calling remote on the conn directly - no reflection but\n",
        "# more flexible\n",
        "result = await conn.callRemote('/AnyValidObjPath', 'Ping',\n",
        "                               interface='org.freedesktop.DBus.Peer',\n",
        "                               destination='org.freedesktop.Notifications')\n",
        "\n",
        "print(result)"
      ],
      "outputs": [
        {
          "output_type": "stream",
          "name": "stdout",
          "text": [
            "None\n"
          ]
        }
      ],
      "execution_count": 6,
      "metadata": {
        "collapsed": false,
        "outputHidden": false,
        "inputHidden": false
      }
    },
    {
      "cell_type": "code",
      "source": [
        "from txdbus.interface import DBusInterface, Method\n",
        "\n",
        "peer_iface = DBusInterface(\n",
        "    'org.freedesktop.DBus.Peer',\n",
        "    # This method takes no arguments\n",
        "    Method('Ping')\n",
        "    # can also do things like Method('full', arguments='s', returns='i') for a function str -> int\n",
        "    # also a Signal type that I think is for pubsub but takes the same arguments\n",
        ")\n",
        "\n",
        "remote_obj = await conn.getRemoteObject('org.freedesktop.Notifications', '/MyObjPath', peer_iface)\n",
        "\n",
        "await remote_obj.callRemote('Ping')"
      ],
      "outputs": [],
      "execution_count": 7,
      "metadata": {
        "collapsed": false,
        "outputHidden": false,
        "inputHidden": false
      }
    },
    {
      "cell_type": "code",
      "source": [
        "from twisted.internet import reactor, defer\n",
        "from txdbus import client, objects\n",
        "from txdbus.interface import DBusInterface, Method\n",
        "\n",
        "class MyObj(objects.DBusObject):\n",
        "    iface = DBusInterface(\n",
        "        'org.example.MyIFace',\n",
        "        Method('exampleMethod', arguments='s', returns='s')\n",
        "    )\n",
        "    \n",
        "    dbusInterfaces = [iface]\n",
        "    \n",
        "    def __init__(self, objectPath):\n",
        "        super().__init__(objectPath)\n",
        "        \n",
        "    def dbus_exampleMethod(self, arg):\n",
        "        print(f'received: {arg}')\n",
        "        return f'You sent: {arg}'\n",
        "\n",
        "conn.exportObject(MyObj('/MyObjPath'))\n",
        "\n",
        "await conn.requestBusName('org.example')"
      ],
      "outputs": [
        {
          "output_type": "execute_result",
          "execution_count": 8,
          "data": {
            "text/plain": [
              "1"
            ]
          },
          "metadata": {}
        }
      ],
      "execution_count": 8,
      "metadata": {
        "collapsed": false,
        "outputHidden": false,
        "inputHidden": false
      }
    },
    {
      "cell_type": "code",
      "source": [
        "remote_obj = await conn.getRemoteObject('org.example', '/MyObjPath')\n",
        "\n",
        "reply = await remote_obj.callRemote('exampleMethod', 'ping!')\n",
        "\n",
        "reply"
      ],
      "outputs": [
        {
          "output_type": "stream",
          "name": "stdout",
          "text": [
            "received: ping!\n"
          ]
        },
        {
          "output_type": "execute_result",
          "execution_count": 9,
          "data": {
            "text/plain": [
              "'You sent: ping!'"
            ]
          },
          "metadata": {}
        }
      ],
      "execution_count": 9,
      "metadata": {
        "collapsed": false,
        "outputHidden": false,
        "inputHidden": false
      }
    },
    {
      "cell_type": "code",
      "source": [
        "from txdbus.interface import Property\n",
        "from txdbus.objects import DBusProperty\n",
        "\n",
        "class MyOtherObj(objects.DBusObject):\n",
        "    iface = DBusInterface(\n",
        "        'org.example.MyOtherIFace',\n",
        "        Property('foo', 's', writeable=True)\n",
        "    )\n",
        "    \n",
        "    dbusInterfaces = [iface]\n",
        "    \n",
        "    foo = DBusProperty('foo')\n",
        "    \n",
        "    def __init__(self, objectPath):\n",
        "        super().__init__(objectPath)\n",
        "        \n",
        "        self.foo = 'bar'\n",
        "\n",
        "conn.exportObject(MyOtherObj('/MyOtherObjPath'))\n",
        "\n",
        "await conn.requestBusName('org.example')"
      ],
      "outputs": [
        {
          "output_type": "execute_result",
          "execution_count": 10,
          "data": {
            "text/plain": [
              "4"
            ]
          },
          "metadata": {}
        }
      ],
      "execution_count": 10,
      "metadata": {
        "collapsed": false,
        "outputHidden": false,
        "inputHidden": false
      }
    },
    {
      "cell_type": "code",
      "source": [
        "remote_obj = await conn.getRemoteObject('org.example', '/MyOtherObjPath')\n",
        "\n",
        "foo = await remote_obj.callRemote('Get', '', 'foo')\n",
        "\n",
        "print(foo)\n",
        "\n",
        "await remote_obj.callRemote('Set', '', 'foo', 'baz')\n",
        "\n",
        "await remote_obj.callRemote('Get', '', 'foo')"
      ],
      "outputs": [
        {
          "output_type": "stream",
          "name": "stdout",
          "text": [
            "bar\n"
          ]
        },
        {
          "output_type": "execute_result",
          "execution_count": 11,
          "data": {
            "text/plain": [
              "'baz'"
            ]
          },
          "metadata": {}
        }
      ],
      "execution_count": 11,
      "metadata": {
        "collapsed": false,
        "outputHidden": false,
        "inputHidden": false
      }
    },
    {
      "cell_type": "code",
      "source": [
        "from twisted.internet.defer import ensureDeferred\n",
        "from functools import wraps\n",
        "\n",
        "def returns_deferred(f):\n",
        "    @wraps(f)\n",
        "    def wrapped(*args, **kwargs):\n",
        "        return ensureDeferred(f(*args, **kwargs))\n",
        "      \n",
        "    return wrapped\n",
        "  \n",
        "\n",
        "# This doesn't work because my lil' example object doesn't\n",
        "# support it I guess?\n",
        "class IdentityExample(objects.DBusObject):\n",
        "    iface = DBusInterface(\n",
        "        'org.example.IdentityExampleIFace',\n",
        "        Method('identityExample', returns='s')\n",
        "    )\n",
        "    \n",
        "    dbusInterfaces = [iface]\n",
        "    \n",
        "    @returns_deferred\n",
        "    async def dbus_identityExample(self, dbusCaller=None):\n",
        "        if dbusCaller:\n",
        "            user = await self.getConnection().getConnectionUnixUser(dbusCaller)\n",
        "            \n",
        "        else:\n",
        "            user = None\n",
        "            \n",
        "        return f'Your user: {user}'\n",
        "      \n",
        "conn.exportObject(IdentityExample('/IdentityExample'))\n",
        "\n",
        "await conn.requestBusName('org.example')"
      ],
      "outputs": [
        {
          "output_type": "execute_result",
          "execution_count": 21,
          "data": {
            "text/plain": [
              "4"
            ]
          },
          "metadata": {}
        }
      ],
      "execution_count": 21,
      "metadata": {
        "collapsed": false,
        "outputHidden": false,
        "inputHidden": false
      }
    },
    {
      "cell_type": "code",
      "source": [
        "identity_remote = await conn.getRemoteObject('org.example', '/IdentityExample')\n",
        "\n",
        "await identity_remote.callRemote('identityExample')"
      ],
      "outputs": [
        {
          "output_type": "execute_result",
          "execution_count": 22,
          "data": {
            "text/plain": [
              "'Your user: None'"
            ]
          },
          "metadata": {}
        }
      ],
      "execution_count": 22,
      "metadata": {
        "collapsed": false,
        "outputHidden": false,
        "inputHidden": false
      }
    },
    {
      "cell_type": "code",
      "source": [],
      "outputs": [],
      "execution_count": 14,
      "metadata": {
        "collapsed": false,
        "outputHidden": false,
        "inputHidden": false
      }
    },
    {
      "cell_type": "code",
      "source": [],
      "outputs": [],
      "execution_count": 14,
      "metadata": {
        "collapsed": false,
        "outputHidden": false,
        "inputHidden": false
      }
    }
  ],
  "metadata": {
    "kernel_info": {
      "name": "pyxsession"
    },
    "language_info": {
      "name": "python",
      "version": "3.7.2",
      "mimetype": "text/x-python",
      "codemirror_mode": {
        "name": "ipython",
        "version": 3
      },
      "pygments_lexer": "ipython3",
      "nbconvert_exporter": "python",
      "file_extension": ".py"
    },
    "kernelspec": {
      "name": "pyxsession",
      "language": "python",
      "display_name": "pyxsession"
    },
    "nteract": {
      "version": "0.14.3"
    }
  },
  "nbformat": 4,
  "nbformat_minor": 0
}